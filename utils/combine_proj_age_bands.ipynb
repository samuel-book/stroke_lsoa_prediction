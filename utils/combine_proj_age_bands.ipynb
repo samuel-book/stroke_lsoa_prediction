{
 "cells": [
  {
   "cell_type": "markdown",
   "id": "7cf62bb3-793b-430b-82c1-9d29f596c978",
   "metadata": {},
   "source": [
    "# Combine age bands\n",
    "\n",
    "In the projected data, convert all of the separate age bands into fewer.\n",
    "\n",
    "Also make a total patients column.\n",
    "\n",
    "## Code setup"
   ]
  },
  {
   "cell_type": "code",
   "execution_count": 1,
   "id": "64c98839-7446-4363-a860-ab485b070ae2",
   "metadata": {},
   "outputs": [],
   "source": [
    "import os\n",
    "import polars as pl"
   ]
  },
  {
   "cell_type": "markdown",
   "id": "d0a359fe-0085-4009-b0de-a86ed0958ba8",
   "metadata": {},
   "source": [
    "## Load data\n",
    "\n",
    "The projected data file names contain these labels:"
   ]
  },
  {
   "cell_type": "code",
   "execution_count": 2,
   "id": "7fd6a7ce-9fe4-4023-bf23-7ae9aa1fb44f",
   "metadata": {},
   "outputs": [],
   "source": [
    "proj_years_str = ['2025', '2030', '2035', '2040']"
   ]
  },
  {
   "cell_type": "markdown",
   "id": "0c2241e1-25fc-430a-b5e1-a426bc8c7b72",
   "metadata": {},
   "source": [
    "Load in the data and store in a dictionary:"
   ]
  },
  {
   "cell_type": "code",
   "execution_count": 3,
   "id": "531185e3-c071-43cf-80e4-a85f41a9e0ca",
   "metadata": {},
   "outputs": [],
   "source": [
    "dict_df_proj_scaled = {}\n",
    "\n",
    "for label in proj_years_str:\n",
    "    df = pl.read_csv(os.path.join('..', 'data', 'projections', f'msoa_projections_{label}.csv'))\n",
    "    dict_df_proj_scaled[label] = df"
   ]
  },
  {
   "cell_type": "markdown",
   "id": "af0b9cc1-4c46-4ae4-8442-9b99dfb8cb49",
   "metadata": {},
   "source": [
    "Check one of them:"
   ]
  },
  {
   "cell_type": "code",
   "execution_count": 4,
   "id": "b049d085-277b-457f-a0bd-9545ba73b23b",
   "metadata": {},
   "outputs": [
    {
     "data": {
      "text/html": [
       "<div><style>\n",
       ".dataframe > thead > tr,\n",
       ".dataframe > tbody > tr {\n",
       "  text-align: right;\n",
       "  white-space: pre-wrap;\n",
       "}\n",
       "</style>\n",
       "<small>shape: (6_790, 21)</small><table border=\"1\" class=\"dataframe\"><thead><tr><th>MSOA</th><th>MSOA11CD</th><th>Age 0 - 4</th><th>Aged 5-9</th><th>Aged 10-14</th><th>Aged 15-19</th><th>Aged 20-24</th><th>Aged 25-29</th><th>Aged 30-34</th><th>Aged 35-39</th><th>Aged 40-44</th><th>Aged 45-49</th><th>Aged 50-54</th><th>Aged 55-59</th><th>Aged 60-64</th><th>Aged 65-69</th><th>Aged 70-74</th><th>Aged 75-79</th><th>Aged 80-84</th><th>Aged 85+</th><th>country</th></tr><tr><td>str</td><td>str</td><td>i64</td><td>i64</td><td>i64</td><td>i64</td><td>i64</td><td>i64</td><td>i64</td><td>i64</td><td>i64</td><td>i64</td><td>i64</td><td>i64</td><td>i64</td><td>i64</td><td>i64</td><td>i64</td><td>i64</td><td>i64</td><td>str</td></tr></thead><tbody><tr><td>&quot;Darlington 001&quot;</td><td>&quot;E02002559&quot;</td><td>454</td><td>451</td><td>460</td><td>444</td><td>417</td><td>526</td><td>523</td><td>479</td><td>522</td><td>567</td><td>563</td><td>547</td><td>506</td><td>546</td><td>584</td><td>546</td><td>415</td><td>446</td><td>&quot;E&quot;</td></tr><tr><td>&quot;Darlington 002&quot;</td><td>&quot;E02002560&quot;</td><td>308</td><td>306</td><td>312</td><td>301</td><td>283</td><td>357</td><td>355</td><td>325</td><td>354</td><td>384</td><td>382</td><td>371</td><td>343</td><td>370</td><td>396</td><td>370</td><td>281</td><td>303</td><td>&quot;E&quot;</td></tr><tr><td>&quot;Darlington 003&quot;</td><td>&quot;E02002561&quot;</td><td>295</td><td>293</td><td>299</td><td>288</td><td>271</td><td>342</td><td>339</td><td>311</td><td>339</td><td>368</td><td>365</td><td>355</td><td>329</td><td>354</td><td>379</td><td>354</td><td>269</td><td>290</td><td>&quot;E&quot;</td></tr><tr><td>&quot;Darlington 004&quot;</td><td>&quot;E02002562&quot;</td><td>311</td><td>309</td><td>316</td><td>304</td><td>286</td><td>361</td><td>359</td><td>328</td><td>358</td><td>389</td><td>386</td><td>376</td><td>347</td><td>375</td><td>401</td><td>374</td><td>284</td><td>306</td><td>&quot;E&quot;</td></tr><tr><td>&quot;Darlington 005&quot;</td><td>&quot;E02002563&quot;</td><td>280</td><td>278</td><td>284</td><td>274</td><td>258</td><td>325</td><td>323</td><td>296</td><td>322</td><td>350</td><td>348</td><td>338</td><td>313</td><td>337</td><td>361</td><td>337</td><td>256</td><td>276</td><td>&quot;E&quot;</td></tr><tr><td>&hellip;</td><td>&hellip;</td><td>&hellip;</td><td>&hellip;</td><td>&hellip;</td><td>&hellip;</td><td>&hellip;</td><td>&hellip;</td><td>&hellip;</td><td>&hellip;</td><td>&hellip;</td><td>&hellip;</td><td>&hellip;</td><td>&hellip;</td><td>&hellip;</td><td>&hellip;</td><td>&hellip;</td><td>&hellip;</td><td>&hellip;</td><td>&hellip;</td><td>&hellip;</td></tr><tr><td>&quot;West Somerset 001&quot;</td><td>&quot;E02006113&quot;</td><td>397</td><td>416</td><td>438</td><td>433</td><td>362</td><td>442</td><td>436</td><td>408</td><td>471</td><td>530</td><td>569</td><td>593</td><td>589</td><td>669</td><td>719</td><td>657</td><td>495</td><td>586</td><td>&quot;E&quot;</td></tr><tr><td>&quot;West Somerset 002&quot;</td><td>&quot;E02006114&quot;</td><td>365</td><td>382</td><td>403</td><td>398</td><td>332</td><td>406</td><td>401</td><td>375</td><td>433</td><td>486</td><td>522</td><td>545</td><td>540</td><td>614</td><td>661</td><td>604</td><td>454</td><td>538</td><td>&quot;E&quot;</td></tr><tr><td>&quot;West Somerset 003&quot;</td><td>&quot;E02006115&quot;</td><td>391</td><td>410</td><td>432</td><td>427</td><td>356</td><td>436</td><td>430</td><td>402</td><td>464</td><td>522</td><td>560</td><td>584</td><td>580</td><td>659</td><td>709</td><td>648</td><td>487</td><td>577</td><td>&quot;E&quot;</td></tr><tr><td>&quot;West Somerset 004&quot;</td><td>&quot;E02006116&quot;</td><td>426</td><td>446</td><td>470</td><td>464</td><td>388</td><td>474</td><td>468</td><td>437</td><td>506</td><td>568</td><td>610</td><td>636</td><td>631</td><td>717</td><td>771</td><td>705</td><td>530</td><td>628</td><td>&quot;E&quot;</td></tr><tr><td>&quot;West Somerset 005&quot;</td><td>&quot;E02006117&quot;</td><td>301</td><td>315</td><td>332</td><td>328</td><td>274</td><td>335</td><td>330</td><td>309</td><td>357</td><td>401</td><td>431</td><td>449</td><td>446</td><td>506</td><td>544</td><td>498</td><td>374</td><td>443</td><td>&quot;E&quot;</td></tr></tbody></table></div>"
      ],
      "text/plain": [
       "shape: (6_790, 21)\n",
       "┌────────────┬───────────┬───────────┬──────────┬───┬────────────┬────────────┬──────────┬─────────┐\n",
       "│ MSOA       ┆ MSOA11CD  ┆ Age 0 - 4 ┆ Aged 5-9 ┆ … ┆ Aged 75-79 ┆ Aged 80-84 ┆ Aged 85+ ┆ country │\n",
       "│ ---        ┆ ---       ┆ ---       ┆ ---      ┆   ┆ ---        ┆ ---        ┆ ---      ┆ ---     │\n",
       "│ str        ┆ str       ┆ i64       ┆ i64      ┆   ┆ i64        ┆ i64        ┆ i64      ┆ str     │\n",
       "╞════════════╪═══════════╪═══════════╪══════════╪═══╪════════════╪════════════╪══════════╪═════════╡\n",
       "│ Darlington ┆ E02002559 ┆ 454       ┆ 451      ┆ … ┆ 546        ┆ 415        ┆ 446      ┆ E       │\n",
       "│ 001        ┆           ┆           ┆          ┆   ┆            ┆            ┆          ┆         │\n",
       "│ Darlington ┆ E02002560 ┆ 308       ┆ 306      ┆ … ┆ 370        ┆ 281        ┆ 303      ┆ E       │\n",
       "│ 002        ┆           ┆           ┆          ┆   ┆            ┆            ┆          ┆         │\n",
       "│ Darlington ┆ E02002561 ┆ 295       ┆ 293      ┆ … ┆ 354        ┆ 269        ┆ 290      ┆ E       │\n",
       "│ 003        ┆           ┆           ┆          ┆   ┆            ┆            ┆          ┆         │\n",
       "│ Darlington ┆ E02002562 ┆ 311       ┆ 309      ┆ … ┆ 374        ┆ 284        ┆ 306      ┆ E       │\n",
       "│ 004        ┆           ┆           ┆          ┆   ┆            ┆            ┆          ┆         │\n",
       "│ Darlington ┆ E02002563 ┆ 280       ┆ 278      ┆ … ┆ 337        ┆ 256        ┆ 276      ┆ E       │\n",
       "│ 005        ┆           ┆           ┆          ┆   ┆            ┆            ┆          ┆         │\n",
       "│ …          ┆ …         ┆ …         ┆ …        ┆ … ┆ …          ┆ …          ┆ …        ┆ …       │\n",
       "│ West       ┆ E02006113 ┆ 397       ┆ 416      ┆ … ┆ 657        ┆ 495        ┆ 586      ┆ E       │\n",
       "│ Somerset   ┆           ┆           ┆          ┆   ┆            ┆            ┆          ┆         │\n",
       "│ 001        ┆           ┆           ┆          ┆   ┆            ┆            ┆          ┆         │\n",
       "│ West       ┆ E02006114 ┆ 365       ┆ 382      ┆ … ┆ 604        ┆ 454        ┆ 538      ┆ E       │\n",
       "│ Somerset   ┆           ┆           ┆          ┆   ┆            ┆            ┆          ┆         │\n",
       "│ 002        ┆           ┆           ┆          ┆   ┆            ┆            ┆          ┆         │\n",
       "│ West       ┆ E02006115 ┆ 391       ┆ 410      ┆ … ┆ 648        ┆ 487        ┆ 577      ┆ E       │\n",
       "│ Somerset   ┆           ┆           ┆          ┆   ┆            ┆            ┆          ┆         │\n",
       "│ 003        ┆           ┆           ┆          ┆   ┆            ┆            ┆          ┆         │\n",
       "│ West       ┆ E02006116 ┆ 426       ┆ 446      ┆ … ┆ 705        ┆ 530        ┆ 628      ┆ E       │\n",
       "│ Somerset   ┆           ┆           ┆          ┆   ┆            ┆            ┆          ┆         │\n",
       "│ 004        ┆           ┆           ┆          ┆   ┆            ┆            ┆          ┆         │\n",
       "│ West       ┆ E02006117 ┆ 301       ┆ 315      ┆ … ┆ 498        ┆ 374        ┆ 443      ┆ E       │\n",
       "│ Somerset   ┆           ┆           ┆          ┆   ┆            ┆            ┆          ┆         │\n",
       "│ 005        ┆           ┆           ┆          ┆   ┆            ┆            ┆          ┆         │\n",
       "└────────────┴───────────┴───────────┴──────────┴───┴────────────┴────────────┴──────────┴─────────┘"
      ]
     },
     "execution_count": 4,
     "metadata": {},
     "output_type": "execute_result"
    }
   ],
   "source": [
    "dict_df_proj_scaled[proj_years_str[-1]]"
   ]
  },
  {
   "cell_type": "markdown",
   "id": "5a943822-5140-422b-8476-efb7cb8d409b",
   "metadata": {},
   "source": [
    "Check column names as some have weird spacing:"
   ]
  },
  {
   "cell_type": "code",
   "execution_count": 5,
   "id": "944962c4-ccf6-4397-bb16-a018234639d5",
   "metadata": {},
   "outputs": [
    {
     "data": {
      "text/plain": [
       "['MSOA',\n",
       " 'MSOA11CD',\n",
       " 'Age 0 - 4',\n",
       " 'Aged 5-9',\n",
       " 'Aged 10-14',\n",
       " 'Aged 15-19',\n",
       " 'Aged 20-24',\n",
       " 'Aged 25-29',\n",
       " 'Aged 30-34',\n",
       " 'Aged 35-39',\n",
       " 'Aged 40-44',\n",
       " 'Aged 45-49',\n",
       " 'Aged 50-54',\n",
       " 'Aged 55-59',\n",
       " 'Aged 60-64',\n",
       " 'Aged 65-69',\n",
       " 'Aged 70-74',\n",
       " 'Aged 75-79',\n",
       " 'Aged 80-84',\n",
       " 'Aged 85+',\n",
       " 'country']"
      ]
     },
     "execution_count": 5,
     "metadata": {},
     "output_type": "execute_result"
    }
   ],
   "source": [
    "dict_df_proj_scaled[proj_years_str[-1]].columns"
   ]
  },
  {
   "cell_type": "markdown",
   "id": "5a4f1635-3ed1-42c8-9c78-262e31a04c74",
   "metadata": {},
   "source": [
    "## Combine data\n",
    "\n",
    "Bands to combine:\n",
    "+ Age less than 65 years\n",
    "+ Age at least 80 years"
   ]
  },
  {
   "cell_type": "code",
   "execution_count": 6,
   "id": "511773a8-12de-421f-a0e8-750f29219b5c",
   "metadata": {},
   "outputs": [],
   "source": [
    "def combine_ages(df):\n",
    "    # Age under 65:\n",
    "    cols_to_sum = [\n",
    "        'Age 0 - 4', 'Aged 5-9', 'Aged 10-14', 'Aged 15-19', 'Aged 20-24',\n",
    "        'Aged 25-29', 'Aged 30-34', 'Aged 35-39', 'Aged 40-44', 'Aged 45-49',\n",
    "        'Aged 50-54', 'Aged 55-59', 'Aged 60-64',\n",
    "    ]\n",
    "    df = df.with_columns(df[cols_to_sum].sum_horizontal().alias('Aged 0-65'))\n",
    "    \n",
    "    # Age over 80:\n",
    "    cols_to_sum = ['Aged 80-84', 'Aged 85+']\n",
    "    df = df.with_columns(df[cols_to_sum].sum_horizontal().alias('Aged 80+'))\n",
    "\n",
    "    # Totals column:\n",
    "    cols_to_sum = [\n",
    "        'Age 0 - 4', 'Aged 5-9', 'Aged 10-14', 'Aged 15-19', 'Aged 20-24',\n",
    "        'Aged 25-29', 'Aged 30-34', 'Aged 35-39', 'Aged 40-44', 'Aged 45-49',\n",
    "        'Aged 50-54', 'Aged 55-59', 'Aged 60-64', 'Aged 65-69', 'Aged 70-74',\n",
    "        'Aged 75-79', 'Aged 80-84', 'Aged 85+',\n",
    "    ]\n",
    "    df = df.with_columns(df[cols_to_sum].sum_horizontal().alias('total_patients'))\n",
    "    return df"
   ]
  },
  {
   "cell_type": "code",
   "execution_count": 7,
   "id": "72409a31-f564-4681-8c6c-22ba0a02f74e",
   "metadata": {},
   "outputs": [],
   "source": [
    "for label, df in dict_df_proj_scaled.items():\n",
    "    df = combine_ages(df)\n",
    "    # Drop other age columns:\n",
    "    cols_to_drop = [\n",
    "        'Age 0 - 4', 'Aged 5-9', 'Aged 10-14', 'Aged 15-19', 'Aged 20-24',\n",
    "        'Aged 25-29', 'Aged 30-34', 'Aged 35-39', 'Aged 40-44', 'Aged 45-49',\n",
    "        'Aged 50-54', 'Aged 55-59', 'Aged 60-64', 'Aged 80-84', 'Aged 85+',\n",
    "    ]\n",
    "    df = df.drop(cols_to_drop)\n",
    "    dict_df_proj_scaled[label] = df"
   ]
  },
  {
   "cell_type": "markdown",
   "id": "a92ac3d8-c4b4-408a-a20c-0a5859b1a822",
   "metadata": {},
   "source": [
    "Check one of them:"
   ]
  },
  {
   "cell_type": "code",
   "execution_count": 8,
   "id": "438abca8-aa10-47d1-838c-a2b4cb97bd70",
   "metadata": {},
   "outputs": [
    {
     "data": {
      "text/html": [
       "<div><style>\n",
       ".dataframe > thead > tr,\n",
       ".dataframe > tbody > tr {\n",
       "  text-align: right;\n",
       "  white-space: pre-wrap;\n",
       "}\n",
       "</style>\n",
       "<small>shape: (6_790, 9)</small><table border=\"1\" class=\"dataframe\"><thead><tr><th>MSOA</th><th>MSOA11CD</th><th>Aged 65-69</th><th>Aged 70-74</th><th>Aged 75-79</th><th>country</th><th>Aged 0-65</th><th>Aged 80+</th><th>total_patients</th></tr><tr><td>str</td><td>str</td><td>i64</td><td>i64</td><td>i64</td><td>str</td><td>i64</td><td>i64</td><td>i64</td></tr></thead><tbody><tr><td>&quot;Darlington 001&quot;</td><td>&quot;E02002559&quot;</td><td>546</td><td>584</td><td>546</td><td>&quot;E&quot;</td><td>6459</td><td>861</td><td>8996</td></tr><tr><td>&quot;Darlington 002&quot;</td><td>&quot;E02002560&quot;</td><td>370</td><td>396</td><td>370</td><td>&quot;E&quot;</td><td>4381</td><td>584</td><td>6101</td></tr><tr><td>&quot;Darlington 003&quot;</td><td>&quot;E02002561&quot;</td><td>354</td><td>379</td><td>354</td><td>&quot;E&quot;</td><td>4194</td><td>559</td><td>5840</td></tr><tr><td>&quot;Darlington 004&quot;</td><td>&quot;E02002562&quot;</td><td>375</td><td>401</td><td>374</td><td>&quot;E&quot;</td><td>4430</td><td>590</td><td>6170</td></tr><tr><td>&quot;Darlington 005&quot;</td><td>&quot;E02002563&quot;</td><td>337</td><td>361</td><td>337</td><td>&quot;E&quot;</td><td>3989</td><td>532</td><td>5556</td></tr><tr><td>&hellip;</td><td>&hellip;</td><td>&hellip;</td><td>&hellip;</td><td>&hellip;</td><td>&hellip;</td><td>&hellip;</td><td>&hellip;</td><td>&hellip;</td></tr><tr><td>&quot;West Somerset 001&quot;</td><td>&quot;E02006113&quot;</td><td>669</td><td>719</td><td>657</td><td>&quot;E&quot;</td><td>6084</td><td>1081</td><td>9210</td></tr><tr><td>&quot;West Somerset 002&quot;</td><td>&quot;E02006114&quot;</td><td>614</td><td>661</td><td>604</td><td>&quot;E&quot;</td><td>5588</td><td>992</td><td>8459</td></tr><tr><td>&quot;West Somerset 003&quot;</td><td>&quot;E02006115&quot;</td><td>659</td><td>709</td><td>648</td><td>&quot;E&quot;</td><td>5994</td><td>1064</td><td>9074</td></tr><tr><td>&quot;West Somerset 004&quot;</td><td>&quot;E02006116&quot;</td><td>717</td><td>771</td><td>705</td><td>&quot;E&quot;</td><td>6524</td><td>1158</td><td>9875</td></tr><tr><td>&quot;West Somerset 005&quot;</td><td>&quot;E02006117&quot;</td><td>506</td><td>544</td><td>498</td><td>&quot;E&quot;</td><td>4608</td><td>817</td><td>6973</td></tr></tbody></table></div>"
      ],
      "text/plain": [
       "shape: (6_790, 9)\n",
       "┌─────────────┬───────────┬───────┬─────────────┬───┬─────────┬───────────┬──────────┬─────────────┐\n",
       "│ MSOA        ┆ MSOA11CD  ┆ Aged  ┆ Aged 70-74  ┆ … ┆ country ┆ Aged 0-65 ┆ Aged 80+ ┆ total_patie │\n",
       "│ ---         ┆ ---       ┆ 65-69 ┆ ---         ┆   ┆ ---     ┆ ---       ┆ ---      ┆ nts         │\n",
       "│ str         ┆ str       ┆ ---   ┆ i64         ┆   ┆ str     ┆ i64       ┆ i64      ┆ ---         │\n",
       "│             ┆           ┆ i64   ┆             ┆   ┆         ┆           ┆          ┆ i64         │\n",
       "╞═════════════╪═══════════╪═══════╪═════════════╪═══╪═════════╪═══════════╪══════════╪═════════════╡\n",
       "│ Darlington  ┆ E02002559 ┆ 546   ┆ 584         ┆ … ┆ E       ┆ 6459      ┆ 861      ┆ 8996        │\n",
       "│ 001         ┆           ┆       ┆             ┆   ┆         ┆           ┆          ┆             │\n",
       "│ Darlington  ┆ E02002560 ┆ 370   ┆ 396         ┆ … ┆ E       ┆ 4381      ┆ 584      ┆ 6101        │\n",
       "│ 002         ┆           ┆       ┆             ┆   ┆         ┆           ┆          ┆             │\n",
       "│ Darlington  ┆ E02002561 ┆ 354   ┆ 379         ┆ … ┆ E       ┆ 4194      ┆ 559      ┆ 5840        │\n",
       "│ 003         ┆           ┆       ┆             ┆   ┆         ┆           ┆          ┆             │\n",
       "│ Darlington  ┆ E02002562 ┆ 375   ┆ 401         ┆ … ┆ E       ┆ 4430      ┆ 590      ┆ 6170        │\n",
       "│ 004         ┆           ┆       ┆             ┆   ┆         ┆           ┆          ┆             │\n",
       "│ Darlington  ┆ E02002563 ┆ 337   ┆ 361         ┆ … ┆ E       ┆ 3989      ┆ 532      ┆ 5556        │\n",
       "│ 005         ┆           ┆       ┆             ┆   ┆         ┆           ┆          ┆             │\n",
       "│ …           ┆ …         ┆ …     ┆ …           ┆ … ┆ …       ┆ …         ┆ …        ┆ …           │\n",
       "│ West        ┆ E02006113 ┆ 669   ┆ 719         ┆ … ┆ E       ┆ 6084      ┆ 1081     ┆ 9210        │\n",
       "│ Somerset    ┆           ┆       ┆             ┆   ┆         ┆           ┆          ┆             │\n",
       "│ 001         ┆           ┆       ┆             ┆   ┆         ┆           ┆          ┆             │\n",
       "│ West        ┆ E02006114 ┆ 614   ┆ 661         ┆ … ┆ E       ┆ 5588      ┆ 992      ┆ 8459        │\n",
       "│ Somerset    ┆           ┆       ┆             ┆   ┆         ┆           ┆          ┆             │\n",
       "│ 002         ┆           ┆       ┆             ┆   ┆         ┆           ┆          ┆             │\n",
       "│ West        ┆ E02006115 ┆ 659   ┆ 709         ┆ … ┆ E       ┆ 5994      ┆ 1064     ┆ 9074        │\n",
       "│ Somerset    ┆           ┆       ┆             ┆   ┆         ┆           ┆          ┆             │\n",
       "│ 003         ┆           ┆       ┆             ┆   ┆         ┆           ┆          ┆             │\n",
       "│ West        ┆ E02006116 ┆ 717   ┆ 771         ┆ … ┆ E       ┆ 6524      ┆ 1158     ┆ 9875        │\n",
       "│ Somerset    ┆           ┆       ┆             ┆   ┆         ┆           ┆          ┆             │\n",
       "│ 004         ┆           ┆       ┆             ┆   ┆         ┆           ┆          ┆             │\n",
       "│ West        ┆ E02006117 ┆ 506   ┆ 544         ┆ … ┆ E       ┆ 4608      ┆ 817      ┆ 6973        │\n",
       "│ Somerset    ┆           ┆       ┆             ┆   ┆         ┆           ┆          ┆             │\n",
       "│ 005         ┆           ┆       ┆             ┆   ┆         ┆           ┆          ┆             │\n",
       "└─────────────┴───────────┴───────┴─────────────┴───┴─────────┴───────────┴──────────┴─────────────┘"
      ]
     },
     "execution_count": 8,
     "metadata": {},
     "output_type": "execute_result"
    }
   ],
   "source": [
    "dict_df_proj_scaled[proj_years_str[-1]]"
   ]
  },
  {
   "cell_type": "markdown",
   "id": "c0034f13-ab33-4d5b-8804-64683d77a776",
   "metadata": {},
   "source": [
    "## Calculate proportions"
   ]
  },
  {
   "cell_type": "code",
   "execution_count": 9,
   "id": "fc9d0799-4bad-490f-96d8-fc056d765b9f",
   "metadata": {},
   "outputs": [],
   "source": [
    "def calculate_proportions(df):\n",
    "    cols = [c for c in df.columns if c.startswith('Age')]\n",
    "    new_cols = ['prop_age' + ''.join(c.split(' ')[1:]) for c in cols]\n",
    "    df[new_cols] = (df[cols] / df['total_patients'])\n",
    "    # Round results:\n",
    "    for col in new_cols:\n",
    "        df = df.with_columns(pl.col(col).round(4))\n",
    "    return df"
   ]
  },
  {
   "cell_type": "code",
   "execution_count": 10,
   "id": "01d387c6-e021-47c3-aa7c-2a5d6aeccdd6",
   "metadata": {},
   "outputs": [],
   "source": [
    "rename_dict = {\n",
    "    'prop_age0-65': 'age_less65_proportion',\n",
    "    'prop_age65-69': 'age_65_proportion',\n",
    "    'prop_age70-74': 'age_70_proportion',\n",
    "    'prop_age75-79': 'age_75_proportion',\n",
    "    'prop_age80+': 'age_over80_proportion',\n",
    "    }\n",
    "\n",
    "for label, df in dict_df_proj_scaled.items():\n",
    "    df = calculate_proportions(df)\n",
    "    # Rename columns:\n",
    "    df = df.rename(rename_dict)\n",
    "    # Store:\n",
    "    dict_df_proj_scaled[label] = df"
   ]
  },
  {
   "cell_type": "markdown",
   "id": "cad9b0ea-76e6-4ed2-84cf-efb37b5a0cbd",
   "metadata": {},
   "source": [
    "Check one of them:"
   ]
  },
  {
   "cell_type": "code",
   "execution_count": 11,
   "id": "303d2c9a-d025-4c05-9b4c-3d46bca8a018",
   "metadata": {},
   "outputs": [
    {
     "data": {
      "text/html": [
       "<div><style>\n",
       ".dataframe > thead > tr,\n",
       ".dataframe > tbody > tr {\n",
       "  text-align: right;\n",
       "  white-space: pre-wrap;\n",
       "}\n",
       "</style>\n",
       "<small>shape: (6_790, 14)</small><table border=\"1\" class=\"dataframe\"><thead><tr><th>MSOA</th><th>MSOA11CD</th><th>Aged 65-69</th><th>Aged 70-74</th><th>Aged 75-79</th><th>country</th><th>Aged 0-65</th><th>Aged 80+</th><th>total_patients</th><th>age_65_proportion</th><th>age_70_proportion</th><th>age_75_proportion</th><th>age_less65_proportion</th><th>age_over80_proportion</th></tr><tr><td>str</td><td>str</td><td>i64</td><td>i64</td><td>i64</td><td>str</td><td>i64</td><td>i64</td><td>i64</td><td>f64</td><td>f64</td><td>f64</td><td>f64</td><td>f64</td></tr></thead><tbody><tr><td>&quot;Darlington 001&quot;</td><td>&quot;E02002559&quot;</td><td>546</td><td>584</td><td>546</td><td>&quot;E&quot;</td><td>6459</td><td>861</td><td>8996</td><td>0.0607</td><td>0.0649</td><td>0.0607</td><td>0.718</td><td>0.0957</td></tr><tr><td>&quot;Darlington 002&quot;</td><td>&quot;E02002560&quot;</td><td>370</td><td>396</td><td>370</td><td>&quot;E&quot;</td><td>4381</td><td>584</td><td>6101</td><td>0.0606</td><td>0.0649</td><td>0.0606</td><td>0.7181</td><td>0.0957</td></tr><tr><td>&quot;Darlington 003&quot;</td><td>&quot;E02002561&quot;</td><td>354</td><td>379</td><td>354</td><td>&quot;E&quot;</td><td>4194</td><td>559</td><td>5840</td><td>0.0606</td><td>0.0649</td><td>0.0606</td><td>0.7182</td><td>0.0957</td></tr><tr><td>&quot;Darlington 004&quot;</td><td>&quot;E02002562&quot;</td><td>375</td><td>401</td><td>374</td><td>&quot;E&quot;</td><td>4430</td><td>590</td><td>6170</td><td>0.0608</td><td>0.065</td><td>0.0606</td><td>0.718</td><td>0.0956</td></tr><tr><td>&quot;Darlington 005&quot;</td><td>&quot;E02002563&quot;</td><td>337</td><td>361</td><td>337</td><td>&quot;E&quot;</td><td>3989</td><td>532</td><td>5556</td><td>0.0607</td><td>0.065</td><td>0.0607</td><td>0.718</td><td>0.0958</td></tr><tr><td>&hellip;</td><td>&hellip;</td><td>&hellip;</td><td>&hellip;</td><td>&hellip;</td><td>&hellip;</td><td>&hellip;</td><td>&hellip;</td><td>&hellip;</td><td>&hellip;</td><td>&hellip;</td><td>&hellip;</td><td>&hellip;</td><td>&hellip;</td></tr><tr><td>&quot;West Somerset 001&quot;</td><td>&quot;E02006113&quot;</td><td>669</td><td>719</td><td>657</td><td>&quot;E&quot;</td><td>6084</td><td>1081</td><td>9210</td><td>0.0726</td><td>0.0781</td><td>0.0713</td><td>0.6606</td><td>0.1174</td></tr><tr><td>&quot;West Somerset 002&quot;</td><td>&quot;E02006114&quot;</td><td>614</td><td>661</td><td>604</td><td>&quot;E&quot;</td><td>5588</td><td>992</td><td>8459</td><td>0.0726</td><td>0.0781</td><td>0.0714</td><td>0.6606</td><td>0.1173</td></tr><tr><td>&quot;West Somerset 003&quot;</td><td>&quot;E02006115&quot;</td><td>659</td><td>709</td><td>648</td><td>&quot;E&quot;</td><td>5994</td><td>1064</td><td>9074</td><td>0.0726</td><td>0.0781</td><td>0.0714</td><td>0.6606</td><td>0.1173</td></tr><tr><td>&quot;West Somerset 004&quot;</td><td>&quot;E02006116&quot;</td><td>717</td><td>771</td><td>705</td><td>&quot;E&quot;</td><td>6524</td><td>1158</td><td>9875</td><td>0.0726</td><td>0.0781</td><td>0.0714</td><td>0.6607</td><td>0.1173</td></tr><tr><td>&quot;West Somerset 005&quot;</td><td>&quot;E02006117&quot;</td><td>506</td><td>544</td><td>498</td><td>&quot;E&quot;</td><td>4608</td><td>817</td><td>6973</td><td>0.0726</td><td>0.078</td><td>0.0714</td><td>0.6608</td><td>0.1172</td></tr></tbody></table></div>"
      ],
      "text/plain": [
       "shape: (6_790, 14)\n",
       "┌─────────────┬────────────┬───────┬───────┬───┬────────────┬────────────┬────────────┬────────────┐\n",
       "│ MSOA        ┆ MSOA11CD   ┆ Aged  ┆ Aged  ┆ … ┆ age_70_pro ┆ age_75_pro ┆ age_less65 ┆ age_over80 │\n",
       "│ ---         ┆ ---        ┆ 65-69 ┆ 70-74 ┆   ┆ portion    ┆ portion    ┆ _proportio ┆ _proportio │\n",
       "│ str         ┆ str        ┆ ---   ┆ ---   ┆   ┆ ---        ┆ ---        ┆ n          ┆ n          │\n",
       "│             ┆            ┆ i64   ┆ i64   ┆   ┆ f64        ┆ f64        ┆ ---        ┆ ---        │\n",
       "│             ┆            ┆       ┆       ┆   ┆            ┆            ┆ f64        ┆ f64        │\n",
       "╞═════════════╪════════════╪═══════╪═══════╪═══╪════════════╪════════════╪════════════╪════════════╡\n",
       "│ Darlington  ┆ E02002559  ┆ 546   ┆ 584   ┆ … ┆ 0.0649     ┆ 0.0607     ┆ 0.718      ┆ 0.0957     │\n",
       "│ 001         ┆            ┆       ┆       ┆   ┆            ┆            ┆            ┆            │\n",
       "│ Darlington  ┆ E02002560  ┆ 370   ┆ 396   ┆ … ┆ 0.0649     ┆ 0.0606     ┆ 0.7181     ┆ 0.0957     │\n",
       "│ 002         ┆            ┆       ┆       ┆   ┆            ┆            ┆            ┆            │\n",
       "│ Darlington  ┆ E02002561  ┆ 354   ┆ 379   ┆ … ┆ 0.0649     ┆ 0.0606     ┆ 0.7182     ┆ 0.0957     │\n",
       "│ 003         ┆            ┆       ┆       ┆   ┆            ┆            ┆            ┆            │\n",
       "│ Darlington  ┆ E02002562  ┆ 375   ┆ 401   ┆ … ┆ 0.065      ┆ 0.0606     ┆ 0.718      ┆ 0.0956     │\n",
       "│ 004         ┆            ┆       ┆       ┆   ┆            ┆            ┆            ┆            │\n",
       "│ Darlington  ┆ E02002563  ┆ 337   ┆ 361   ┆ … ┆ 0.065      ┆ 0.0607     ┆ 0.718      ┆ 0.0958     │\n",
       "│ 005         ┆            ┆       ┆       ┆   ┆            ┆            ┆            ┆            │\n",
       "│ …           ┆ …          ┆ …     ┆ …     ┆ … ┆ …          ┆ …          ┆ …          ┆ …          │\n",
       "│ West        ┆ E02006113  ┆ 669   ┆ 719   ┆ … ┆ 0.0781     ┆ 0.0713     ┆ 0.6606     ┆ 0.1174     │\n",
       "│ Somerset    ┆            ┆       ┆       ┆   ┆            ┆            ┆            ┆            │\n",
       "│ 001         ┆            ┆       ┆       ┆   ┆            ┆            ┆            ┆            │\n",
       "│ West        ┆ E02006114  ┆ 614   ┆ 661   ┆ … ┆ 0.0781     ┆ 0.0714     ┆ 0.6606     ┆ 0.1173     │\n",
       "│ Somerset    ┆            ┆       ┆       ┆   ┆            ┆            ┆            ┆            │\n",
       "│ 002         ┆            ┆       ┆       ┆   ┆            ┆            ┆            ┆            │\n",
       "│ West        ┆ E02006115  ┆ 659   ┆ 709   ┆ … ┆ 0.0781     ┆ 0.0714     ┆ 0.6606     ┆ 0.1173     │\n",
       "│ Somerset    ┆            ┆       ┆       ┆   ┆            ┆            ┆            ┆            │\n",
       "│ 003         ┆            ┆       ┆       ┆   ┆            ┆            ┆            ┆            │\n",
       "│ West        ┆ E02006116  ┆ 717   ┆ 771   ┆ … ┆ 0.0781     ┆ 0.0714     ┆ 0.6607     ┆ 0.1173     │\n",
       "│ Somerset    ┆            ┆       ┆       ┆   ┆            ┆            ┆            ┆            │\n",
       "│ 004         ┆            ┆       ┆       ┆   ┆            ┆            ┆            ┆            │\n",
       "│ West        ┆ E02006117  ┆ 506   ┆ 544   ┆ … ┆ 0.078      ┆ 0.0714     ┆ 0.6608     ┆ 0.1172     │\n",
       "│ Somerset    ┆            ┆       ┆       ┆   ┆            ┆            ┆            ┆            │\n",
       "│ 005         ┆            ┆       ┆       ┆   ┆            ┆            ┆            ┆            │\n",
       "└─────────────┴────────────┴───────┴───────┴───┴────────────┴────────────┴────────────┴────────────┘"
      ]
     },
     "execution_count": 11,
     "metadata": {},
     "output_type": "execute_result"
    }
   ],
   "source": [
    "dict_df_proj_scaled[proj_years_str[-1]]"
   ]
  },
  {
   "cell_type": "markdown",
   "id": "e4369d52-151d-4209-ba36-33fcea311a1c",
   "metadata": {},
   "source": [
    "Remove age total columns:"
   ]
  },
  {
   "cell_type": "code",
   "execution_count": 12,
   "id": "53f4ad44-4fd5-4bb0-bc49-97954d85202c",
   "metadata": {},
   "outputs": [],
   "source": [
    "for label, df in dict_df_proj_scaled.items():\n",
    "    df = df.drop([c for c in df.columns if c.startswith('Age')])\n",
    "    dict_df_proj_scaled[label] = df"
   ]
  },
  {
   "cell_type": "markdown",
   "id": "795318ef-23cd-4ef8-9272-39f69b509823",
   "metadata": {},
   "source": [
    "## Save results"
   ]
  },
  {
   "cell_type": "code",
   "execution_count": 13,
   "id": "b871c2a5-b128-496e-8da4-214ee2c9b9a8",
   "metadata": {},
   "outputs": [],
   "source": [
    "for label, df in dict_df_proj_scaled.items():\n",
    "    df.write_csv(os.path.join('..', 'data', 'projections', f'msoa_projections_props_{label}.csv'))"
   ]
  },
  {
   "cell_type": "code",
   "execution_count": null,
   "id": "d6e0e48c-f8e7-4a54-a8ea-fa434959fbf2",
   "metadata": {},
   "outputs": [],
   "source": []
  }
 ],
 "metadata": {
  "kernelspec": {
   "display_name": "Python 3 (ipykernel)",
   "language": "python",
   "name": "python3"
  },
  "language_info": {
   "codemirror_mode": {
    "name": "ipython",
    "version": 3
   },
   "file_extension": ".py",
   "mimetype": "text/x-python",
   "name": "python",
   "nbconvert_exporter": "python",
   "pygments_lexer": "ipython3",
   "version": "3.10.16"
  }
 },
 "nbformat": 4,
 "nbformat_minor": 5
}
