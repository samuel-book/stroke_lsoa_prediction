{
 "cells": [
  {
   "cell_type": "markdown",
   "id": "cd97bb12-a6ca-4c57-84ad-816361f20bad",
   "metadata": {},
   "source": [
    "# Link projected demographic data to smaller areas\n",
    "\n",
    "The age projection data is by local authority. Work out how to split the data across the MSOAs making up each local authority.\n",
    "\n",
    "Split by current proportions of MSOA sizes?\n",
    "\n",
    "## Code setup"
   ]
  },
  {
   "cell_type": "code",
   "execution_count": 114,
   "id": "c1c25fa4-013c-4298-a222-147dd53eca26",
   "metadata": {},
   "outputs": [],
   "source": [
    "import os\n",
    "import polars as pl"
   ]
  },
  {
   "cell_type": "markdown",
   "id": "067034ab-5edd-4ddb-b627-f93cee6ab70f",
   "metadata": {},
   "source": [
    "## Load data\n",
    "\n",
    "MSOA to local authority lookup:"
   ]
  },
  {
   "cell_type": "code",
   "execution_count": 151,
   "id": "1a926d95-e655-4bea-bec2-06711551c11c",
   "metadata": {},
   "outputs": [],
   "source": [
    "path_to_lookup = os.path.join('..', 'data', 'LSOA11_WD19_LAD19_EW_LU.csv')\n",
    "\n",
    "df_lsoa_auth_lookup = pl.read_csv(path_to_lookup)\n",
    "\n",
    "# Only keep LSOA and LAD columns:\n",
    "cols_to_keep = [c for c in df_lsoa_auth_lookup.columns if ('LSOA' in c) | ('LAD' in c)]\n",
    "df_lsoa_auth_lookup = df_lsoa_auth_lookup[cols_to_keep]"
   ]
  },
  {
   "cell_type": "code",
   "execution_count": 152,
   "id": "6ef97844-0979-4ffd-82d8-33d46218b125",
   "metadata": {},
   "outputs": [
    {
     "data": {
      "text/html": [
       "<div><style>\n",
       ".dataframe > thead > tr,\n",
       ".dataframe > tbody > tr {\n",
       "  text-align: right;\n",
       "  white-space: pre-wrap;\n",
       "}\n",
       "</style>\n",
       "<small>shape: (5, 4)</small><table border=\"1\" class=\"dataframe\"><thead><tr><th>LSOA11CD</th><th>LSOA11NM</th><th>LAD19CD</th><th>LAD19NM</th></tr><tr><td>str</td><td>str</td><td>str</td><td>str</td></tr></thead><tbody><tr><td>&quot;E01012057&quot;</td><td>&quot;Middlesbrough 009E&quot;</td><td>&quot;E06000002&quot;</td><td>&quot;Middlesbrough&quot;</td></tr><tr><td>&quot;E01012054&quot;</td><td>&quot;Middlesbrough 009B&quot;</td><td>&quot;E06000002&quot;</td><td>&quot;Middlesbrough&quot;</td></tr><tr><td>&quot;E01012053&quot;</td><td>&quot;Middlesbrough 009A&quot;</td><td>&quot;E06000002&quot;</td><td>&quot;Middlesbrough&quot;</td></tr><tr><td>&quot;E01033469&quot;</td><td>&quot;Middlesbrough 006E&quot;</td><td>&quot;E06000002&quot;</td><td>&quot;Middlesbrough&quot;</td></tr><tr><td>&quot;E01012026&quot;</td><td>&quot;Middlesbrough 006A&quot;</td><td>&quot;E06000002&quot;</td><td>&quot;Middlesbrough&quot;</td></tr></tbody></table></div>"
      ],
      "text/plain": [
       "shape: (5, 4)\n",
       "┌───────────┬────────────────────┬───────────┬───────────────┐\n",
       "│ LSOA11CD  ┆ LSOA11NM           ┆ LAD19CD   ┆ LAD19NM       │\n",
       "│ ---       ┆ ---                ┆ ---       ┆ ---           │\n",
       "│ str       ┆ str                ┆ str       ┆ str           │\n",
       "╞═══════════╪════════════════════╪═══════════╪═══════════════╡\n",
       "│ E01012057 ┆ Middlesbrough 009E ┆ E06000002 ┆ Middlesbrough │\n",
       "│ E01012054 ┆ Middlesbrough 009B ┆ E06000002 ┆ Middlesbrough │\n",
       "│ E01012053 ┆ Middlesbrough 009A ┆ E06000002 ┆ Middlesbrough │\n",
       "│ E01033469 ┆ Middlesbrough 006E ┆ E06000002 ┆ Middlesbrough │\n",
       "│ E01012026 ┆ Middlesbrough 006A ┆ E06000002 ┆ Middlesbrough │\n",
       "└───────────┴────────────────────┴───────────┴───────────────┘"
      ]
     },
     "execution_count": 152,
     "metadata": {},
     "output_type": "execute_result"
    }
   ],
   "source": [
    "df_lsoa_auth_lookup.head()"
   ]
  },
  {
   "cell_type": "markdown",
   "id": "8dd88dfa-2ed4-47f2-89a8-c7e7282fecd1",
   "metadata": {},
   "source": [
    "LSOA to MSOA lookup:"
   ]
  },
  {
   "cell_type": "code",
   "execution_count": 153,
   "id": "e7c2e305-261e-4398-9a6e-3bf2fcb936b2",
   "metadata": {},
   "outputs": [],
   "source": [
    "path_to_lookup = os.path.join('..', 'data', 'lsoa_to_msoa.csv')\n",
    "\n",
    "df_lsoa_msoa_lookup = pl.read_csv(path_to_lookup)"
   ]
  },
  {
   "cell_type": "code",
   "execution_count": 154,
   "id": "6e6793f0-71d6-47fb-89dc-6c25914e2c6b",
   "metadata": {},
   "outputs": [
    {
     "data": {
      "text/html": [
       "<div><style>\n",
       ".dataframe > thead > tr,\n",
       ".dataframe > tbody > tr {\n",
       "  text-align: right;\n",
       "  white-space: pre-wrap;\n",
       "}\n",
       "</style>\n",
       "<small>shape: (5, 6)</small><table border=\"1\" class=\"dataframe\"><thead><tr><th>lsoa11cd</th><th>msoa11cd</th><th>ladcd</th><th>lsoa11nm</th><th>msoa11nm</th><th>country</th></tr><tr><td>str</td><td>str</td><td>str</td><td>str</td><td>str</td><td>str</td></tr></thead><tbody><tr><td>&quot;E01000001&quot;</td><td>&quot;E02000001&quot;</td><td>&quot;E09000001&quot;</td><td>&quot;City of London 001A&quot;</td><td>&quot;City of London 001&quot;</td><td>&quot;E&quot;</td></tr><tr><td>&quot;E01000002&quot;</td><td>&quot;E02000001&quot;</td><td>&quot;E09000001&quot;</td><td>&quot;City of London 001B&quot;</td><td>&quot;City of London 001&quot;</td><td>&quot;E&quot;</td></tr><tr><td>&quot;E01000003&quot;</td><td>&quot;E02000001&quot;</td><td>&quot;E09000001&quot;</td><td>&quot;City of London 001C&quot;</td><td>&quot;City of London 001&quot;</td><td>&quot;E&quot;</td></tr><tr><td>&quot;E01000005&quot;</td><td>&quot;E02000001&quot;</td><td>&quot;E09000001&quot;</td><td>&quot;City of London 001E&quot;</td><td>&quot;City of London 001&quot;</td><td>&quot;E&quot;</td></tr><tr><td>&quot;E01000006&quot;</td><td>&quot;E02000017&quot;</td><td>&quot;E09000002&quot;</td><td>&quot;Barking and Dagenham 016A&quot;</td><td>&quot;Barking and Dagenham 016&quot;</td><td>&quot;E&quot;</td></tr></tbody></table></div>"
      ],
      "text/plain": [
       "shape: (5, 6)\n",
       "┌───────────┬───────────┬───────────┬──────────────────────┬──────────────────────────┬─────────┐\n",
       "│ lsoa11cd  ┆ msoa11cd  ┆ ladcd     ┆ lsoa11nm             ┆ msoa11nm                 ┆ country │\n",
       "│ ---       ┆ ---       ┆ ---       ┆ ---                  ┆ ---                      ┆ ---     │\n",
       "│ str       ┆ str       ┆ str       ┆ str                  ┆ str                      ┆ str     │\n",
       "╞═══════════╪═══════════╪═══════════╪══════════════════════╪══════════════════════════╪═════════╡\n",
       "│ E01000001 ┆ E02000001 ┆ E09000001 ┆ City of London 001A  ┆ City of London 001       ┆ E       │\n",
       "│ E01000002 ┆ E02000001 ┆ E09000001 ┆ City of London 001B  ┆ City of London 001       ┆ E       │\n",
       "│ E01000003 ┆ E02000001 ┆ E09000001 ┆ City of London 001C  ┆ City of London 001       ┆ E       │\n",
       "│ E01000005 ┆ E02000001 ┆ E09000001 ┆ City of London 001E  ┆ City of London 001       ┆ E       │\n",
       "│ E01000006 ┆ E02000017 ┆ E09000002 ┆ Barking and Dagenham ┆ Barking and Dagenham 016 ┆ E       │\n",
       "│           ┆           ┆           ┆ 016A                 ┆                          ┆         │\n",
       "└───────────┴───────────┴───────────┴──────────────────────┴──────────────────────────┴─────────┘"
      ]
     },
     "execution_count": 154,
     "metadata": {},
     "output_type": "execute_result"
    }
   ],
   "source": [
    "df_lsoa_msoa_lookup.head()"
   ]
  },
  {
   "cell_type": "markdown",
   "id": "a59c5d0d-812f-42ab-868e-fc35dce0e96d",
   "metadata": {},
   "source": [
    "Join the data:"
   ]
  },
  {
   "cell_type": "code",
   "execution_count": 155,
   "id": "88c20e14-49fc-4cda-9bc6-b3c8aae1b70f",
   "metadata": {},
   "outputs": [],
   "source": [
    "df_lookup = df_lsoa_auth_lookup.join(df_lsoa_msoa_lookup, left_on='LSOA11CD', right_on='lsoa11cd', how='left')"
   ]
  },
  {
   "cell_type": "code",
   "execution_count": 156,
   "id": "0f306d09-2978-4f96-917a-1ecc85af6c20",
   "metadata": {},
   "outputs": [
    {
     "data": {
      "text/html": [
       "<div><style>\n",
       ".dataframe > thead > tr,\n",
       ".dataframe > tbody > tr {\n",
       "  text-align: right;\n",
       "  white-space: pre-wrap;\n",
       "}\n",
       "</style>\n",
       "<small>shape: (5, 9)</small><table border=\"1\" class=\"dataframe\"><thead><tr><th>LSOA11CD</th><th>LSOA11NM</th><th>LAD19CD</th><th>LAD19NM</th><th>msoa11cd</th><th>ladcd</th><th>lsoa11nm</th><th>msoa11nm</th><th>country</th></tr><tr><td>str</td><td>str</td><td>str</td><td>str</td><td>str</td><td>str</td><td>str</td><td>str</td><td>str</td></tr></thead><tbody><tr><td>&quot;E01012057&quot;</td><td>&quot;Middlesbrough 009E&quot;</td><td>&quot;E06000002&quot;</td><td>&quot;Middlesbrough&quot;</td><td>&quot;E02002504&quot;</td><td>&quot;E06000002&quot;</td><td>&quot;Middlesbrough 009E&quot;</td><td>&quot;Middlesbrough 009&quot;</td><td>&quot;E&quot;</td></tr><tr><td>&quot;E01012054&quot;</td><td>&quot;Middlesbrough 009B&quot;</td><td>&quot;E06000002&quot;</td><td>&quot;Middlesbrough&quot;</td><td>&quot;E02002504&quot;</td><td>&quot;E06000002&quot;</td><td>&quot;Middlesbrough 009B&quot;</td><td>&quot;Middlesbrough 009&quot;</td><td>&quot;E&quot;</td></tr><tr><td>&quot;E01012053&quot;</td><td>&quot;Middlesbrough 009A&quot;</td><td>&quot;E06000002&quot;</td><td>&quot;Middlesbrough&quot;</td><td>&quot;E02002504&quot;</td><td>&quot;E06000002&quot;</td><td>&quot;Middlesbrough 009A&quot;</td><td>&quot;Middlesbrough 009&quot;</td><td>&quot;E&quot;</td></tr><tr><td>&quot;E01033469&quot;</td><td>&quot;Middlesbrough 006E&quot;</td><td>&quot;E06000002&quot;</td><td>&quot;Middlesbrough&quot;</td><td>&quot;E02002501&quot;</td><td>&quot;E06000002&quot;</td><td>&quot;Middlesbrough 006E&quot;</td><td>&quot;Middlesbrough 006&quot;</td><td>&quot;E&quot;</td></tr><tr><td>&quot;E01012026&quot;</td><td>&quot;Middlesbrough 006A&quot;</td><td>&quot;E06000002&quot;</td><td>&quot;Middlesbrough&quot;</td><td>&quot;E02002501&quot;</td><td>&quot;E06000002&quot;</td><td>&quot;Middlesbrough 006A&quot;</td><td>&quot;Middlesbrough 006&quot;</td><td>&quot;E&quot;</td></tr></tbody></table></div>"
      ],
      "text/plain": [
       "shape: (5, 9)\n",
       "┌───────────┬────────────┬───────────┬───────────┬───┬───────────┬───────────┬───────────┬─────────┐\n",
       "│ LSOA11CD  ┆ LSOA11NM   ┆ LAD19CD   ┆ LAD19NM   ┆ … ┆ ladcd     ┆ lsoa11nm  ┆ msoa11nm  ┆ country │\n",
       "│ ---       ┆ ---        ┆ ---       ┆ ---       ┆   ┆ ---       ┆ ---       ┆ ---       ┆ ---     │\n",
       "│ str       ┆ str        ┆ str       ┆ str       ┆   ┆ str       ┆ str       ┆ str       ┆ str     │\n",
       "╞═══════════╪════════════╪═══════════╪═══════════╪═══╪═══════════╪═══════════╪═══════════╪═════════╡\n",
       "│ E01012057 ┆ Middlesbro ┆ E06000002 ┆ Middlesbr ┆ … ┆ E06000002 ┆ Middlesbr ┆ Middlesbr ┆ E       │\n",
       "│           ┆ ugh 009E   ┆           ┆ ough      ┆   ┆           ┆ ough 009E ┆ ough 009  ┆         │\n",
       "│ E01012054 ┆ Middlesbro ┆ E06000002 ┆ Middlesbr ┆ … ┆ E06000002 ┆ Middlesbr ┆ Middlesbr ┆ E       │\n",
       "│           ┆ ugh 009B   ┆           ┆ ough      ┆   ┆           ┆ ough 009B ┆ ough 009  ┆         │\n",
       "│ E01012053 ┆ Middlesbro ┆ E06000002 ┆ Middlesbr ┆ … ┆ E06000002 ┆ Middlesbr ┆ Middlesbr ┆ E       │\n",
       "│           ┆ ugh 009A   ┆           ┆ ough      ┆   ┆           ┆ ough 009A ┆ ough 009  ┆         │\n",
       "│ E01033469 ┆ Middlesbro ┆ E06000002 ┆ Middlesbr ┆ … ┆ E06000002 ┆ Middlesbr ┆ Middlesbr ┆ E       │\n",
       "│           ┆ ugh 006E   ┆           ┆ ough      ┆   ┆           ┆ ough 006E ┆ ough 006  ┆         │\n",
       "│ E01012026 ┆ Middlesbro ┆ E06000002 ┆ Middlesbr ┆ … ┆ E06000002 ┆ Middlesbr ┆ Middlesbr ┆ E       │\n",
       "│           ┆ ugh 006A   ┆           ┆ ough      ┆   ┆           ┆ ough 006A ┆ ough 006  ┆         │\n",
       "└───────────┴────────────┴───────────┴───────────┴───┴───────────┴───────────┴───────────┴─────────┘"
      ]
     },
     "execution_count": 156,
     "metadata": {},
     "output_type": "execute_result"
    }
   ],
   "source": [
    "df_lookup.head()"
   ]
  },
  {
   "cell_type": "markdown",
   "id": "dd8ef737-0cfe-4644-b3f3-8a882213abbc",
   "metadata": {},
   "source": [
    "Drop LSOA columns and remove repeats:"
   ]
  },
  {
   "cell_type": "code",
   "execution_count": 157,
   "id": "10f1077f-3d2e-414a-a845-cdba46d91180",
   "metadata": {},
   "outputs": [],
   "source": [
    "cols_to_drop = ['LSOA11CD', 'LSOA11NM', 'lsoa11nm', 'ladcd']\n",
    "\n",
    "df_lookup = df_lookup.drop(cols_to_drop)"
   ]
  },
  {
   "cell_type": "code",
   "execution_count": 158,
   "id": "cbeb07fa-1a65-4ebc-ba0c-fd2571b00c24",
   "metadata": {},
   "outputs": [],
   "source": [
    "# Remove repeated rows:\n",
    "df_lookup = df_lookup.unique()"
   ]
  },
  {
   "cell_type": "code",
   "execution_count": 159,
   "id": "196236b8-be7a-4449-9e21-e6f49ffc49d5",
   "metadata": {},
   "outputs": [
    {
     "data": {
      "text/html": [
       "<div><style>\n",
       ".dataframe > thead > tr,\n",
       ".dataframe > tbody > tr {\n",
       "  text-align: right;\n",
       "  white-space: pre-wrap;\n",
       "}\n",
       "</style>\n",
       "<small>shape: (5, 5)</small><table border=\"1\" class=\"dataframe\"><thead><tr><th>LAD19CD</th><th>LAD19NM</th><th>msoa11cd</th><th>msoa11nm</th><th>country</th></tr><tr><td>str</td><td>str</td><td>str</td><td>str</td><td>str</td></tr></thead><tbody><tr><td>&quot;E07000240&quot;</td><td>&quot;St Albans&quot;</td><td>&quot;E02004929&quot;</td><td>&quot;St Albans 006&quot;</td><td>&quot;E&quot;</td></tr><tr><td>&quot;E07000011&quot;</td><td>&quot;Huntingdonshire&quot;</td><td>&quot;E02003758&quot;</td><td>&quot;Huntingdonshire 006&quot;</td><td>&quot;E&quot;</td></tr><tr><td>&quot;E06000056&quot;</td><td>&quot;Central Bedfordshire&quot;</td><td>&quot;E02003651&quot;</td><td>&quot;Central Bedfordshire 033&quot;</td><td>&quot;E&quot;</td></tr><tr><td>&quot;W06000009&quot;</td><td>&quot;Pembrokeshire&quot;</td><td>&quot;W02000129&quot;</td><td>&quot;Pembrokeshire 004&quot;</td><td>&quot;W&quot;</td></tr><tr><td>&quot;E08000030&quot;</td><td>&quot;Walsall&quot;</td><td>&quot;E02002143&quot;</td><td>&quot;Walsall 034&quot;</td><td>&quot;E&quot;</td></tr></tbody></table></div>"
      ],
      "text/plain": [
       "shape: (5, 5)\n",
       "┌───────────┬──────────────────────┬───────────┬──────────────────────────┬─────────┐\n",
       "│ LAD19CD   ┆ LAD19NM              ┆ msoa11cd  ┆ msoa11nm                 ┆ country │\n",
       "│ ---       ┆ ---                  ┆ ---       ┆ ---                      ┆ ---     │\n",
       "│ str       ┆ str                  ┆ str       ┆ str                      ┆ str     │\n",
       "╞═══════════╪══════════════════════╪═══════════╪══════════════════════════╪═════════╡\n",
       "│ E07000240 ┆ St Albans            ┆ E02004929 ┆ St Albans 006            ┆ E       │\n",
       "│ E07000011 ┆ Huntingdonshire      ┆ E02003758 ┆ Huntingdonshire 006      ┆ E       │\n",
       "│ E06000056 ┆ Central Bedfordshire ┆ E02003651 ┆ Central Bedfordshire 033 ┆ E       │\n",
       "│ W06000009 ┆ Pembrokeshire        ┆ W02000129 ┆ Pembrokeshire 004        ┆ W       │\n",
       "│ E08000030 ┆ Walsall              ┆ E02002143 ┆ Walsall 034              ┆ E       │\n",
       "└───────────┴──────────────────────┴───────────┴──────────────────────────┴─────────┘"
      ]
     },
     "execution_count": 159,
     "metadata": {},
     "output_type": "execute_result"
    }
   ],
   "source": [
    "df_lookup.head()"
   ]
  },
  {
   "cell_type": "markdown",
   "id": "171343a7-f72f-40c8-8112-e7948e780518",
   "metadata": {},
   "source": [
    "## Decide how to split district data between MSOAs\n",
    "\n",
    "Use ratio of population of MSOA to population of district.\n",
    "\n",
    "Load MSOA population numbers from the health statistics:"
   ]
  },
  {
   "cell_type": "code",
   "execution_count": 160,
   "id": "e7157822-0f4b-4625-996d-f8b9f6a0a023",
   "metadata": {},
   "outputs": [],
   "source": [
    "path_to_msoa_stats = os.path.join('..', 'data', 'msoa_cleaned.csv')\n",
    "\n",
    "df_stats = pl.read_csv(path_to_msoa_stats)\n",
    "\n",
    "# Recalculate total patients:\n",
    "df_stats = df_stats.with_columns((pl.col('good_health') + pl.col('fair health') + pl.col('bad health')).alias('total_health'))\n",
    "\n",
    "# Only keep some columns:\n",
    "cols_to_keep = ['MSOA', 'MSOA11CD', 'total_health']\n",
    "df_stats = df_stats[cols_to_keep]"
   ]
  },
  {
   "cell_type": "code",
   "execution_count": 161,
   "id": "3a946284-1258-496b-a2af-782dc429cc31",
   "metadata": {},
   "outputs": [
    {
     "data": {
      "text/html": [
       "<div><style>\n",
       ".dataframe > thead > tr,\n",
       ".dataframe > tbody > tr {\n",
       "  text-align: right;\n",
       "  white-space: pre-wrap;\n",
       "}\n",
       "</style>\n",
       "<small>shape: (5, 3)</small><table border=\"1\" class=\"dataframe\"><thead><tr><th>MSOA</th><th>MSOA11CD</th><th>total_health</th></tr><tr><td>str</td><td>str</td><td>i64</td></tr></thead><tbody><tr><td>&quot;Adur 001&quot;</td><td>&quot;E02006534&quot;</td><td>8524</td></tr><tr><td>&quot;Adur 002&quot;</td><td>&quot;E02006535&quot;</td><td>6634</td></tr><tr><td>&quot;Adur 003&quot;</td><td>&quot;E02006536&quot;</td><td>7100</td></tr><tr><td>&quot;Adur 004&quot;</td><td>&quot;E02006537&quot;</td><td>10127</td></tr><tr><td>&quot;Adur 005&quot;</td><td>&quot;E02006538&quot;</td><td>8526</td></tr></tbody></table></div>"
      ],
      "text/plain": [
       "shape: (5, 3)\n",
       "┌──────────┬───────────┬──────────────┐\n",
       "│ MSOA     ┆ MSOA11CD  ┆ total_health │\n",
       "│ ---      ┆ ---       ┆ ---          │\n",
       "│ str      ┆ str       ┆ i64          │\n",
       "╞══════════╪═══════════╪══════════════╡\n",
       "│ Adur 001 ┆ E02006534 ┆ 8524         │\n",
       "│ Adur 002 ┆ E02006535 ┆ 6634         │\n",
       "│ Adur 003 ┆ E02006536 ┆ 7100         │\n",
       "│ Adur 004 ┆ E02006537 ┆ 10127        │\n",
       "│ Adur 005 ┆ E02006538 ┆ 8526         │\n",
       "└──────────┴───────────┴──────────────┘"
      ]
     },
     "execution_count": 161,
     "metadata": {},
     "output_type": "execute_result"
    }
   ],
   "source": [
    "df_stats.head()"
   ]
  },
  {
   "cell_type": "markdown",
   "id": "6fe8a29f-1fb4-44fe-9a34-15727d1215a7",
   "metadata": {},
   "source": [
    "Merge in population numbers:"
   ]
  },
  {
   "cell_type": "code",
   "execution_count": 162,
   "id": "a6fdfc99-4e64-4f85-8ae9-7e3b6ddcff22",
   "metadata": {},
   "outputs": [],
   "source": [
    "# Join on the right because df_stats is missing the Isles of Scilly\n",
    "# and df_lookup is not.\n",
    "\n",
    "df_lookup = df_lookup.join(df_stats, left_on='msoa11cd', right_on='MSOA11CD', how='right')"
   ]
  },
  {
   "cell_type": "code",
   "execution_count": 163,
   "id": "812eb6be-90b8-4b3f-89f4-7a2237c951ee",
   "metadata": {},
   "outputs": [
    {
     "data": {
      "text/html": [
       "<div><style>\n",
       ".dataframe > thead > tr,\n",
       ".dataframe > tbody > tr {\n",
       "  text-align: right;\n",
       "  white-space: pre-wrap;\n",
       "}\n",
       "</style>\n",
       "<small>shape: (5, 7)</small><table border=\"1\" class=\"dataframe\"><thead><tr><th>LAD19CD</th><th>LAD19NM</th><th>msoa11nm</th><th>country</th><th>MSOA</th><th>MSOA11CD</th><th>total_health</th></tr><tr><td>str</td><td>str</td><td>str</td><td>str</td><td>str</td><td>str</td><td>i64</td></tr></thead><tbody><tr><td>&quot;E07000223&quot;</td><td>&quot;Adur&quot;</td><td>&quot;Adur 001&quot;</td><td>&quot;E&quot;</td><td>&quot;Adur 001&quot;</td><td>&quot;E02006534&quot;</td><td>8524</td></tr><tr><td>&quot;E07000223&quot;</td><td>&quot;Adur&quot;</td><td>&quot;Adur 002&quot;</td><td>&quot;E&quot;</td><td>&quot;Adur 002&quot;</td><td>&quot;E02006535&quot;</td><td>6634</td></tr><tr><td>&quot;E07000223&quot;</td><td>&quot;Adur&quot;</td><td>&quot;Adur 003&quot;</td><td>&quot;E&quot;</td><td>&quot;Adur 003&quot;</td><td>&quot;E02006536&quot;</td><td>7100</td></tr><tr><td>&quot;E07000223&quot;</td><td>&quot;Adur&quot;</td><td>&quot;Adur 004&quot;</td><td>&quot;E&quot;</td><td>&quot;Adur 004&quot;</td><td>&quot;E02006537&quot;</td><td>10127</td></tr><tr><td>&quot;E07000223&quot;</td><td>&quot;Adur&quot;</td><td>&quot;Adur 005&quot;</td><td>&quot;E&quot;</td><td>&quot;Adur 005&quot;</td><td>&quot;E02006538&quot;</td><td>8526</td></tr></tbody></table></div>"
      ],
      "text/plain": [
       "shape: (5, 7)\n",
       "┌───────────┬─────────┬──────────┬─────────┬──────────┬───────────┬──────────────┐\n",
       "│ LAD19CD   ┆ LAD19NM ┆ msoa11nm ┆ country ┆ MSOA     ┆ MSOA11CD  ┆ total_health │\n",
       "│ ---       ┆ ---     ┆ ---      ┆ ---     ┆ ---      ┆ ---       ┆ ---          │\n",
       "│ str       ┆ str     ┆ str      ┆ str     ┆ str      ┆ str       ┆ i64          │\n",
       "╞═══════════╪═════════╪══════════╪═════════╪══════════╪═══════════╪══════════════╡\n",
       "│ E07000223 ┆ Adur    ┆ Adur 001 ┆ E       ┆ Adur 001 ┆ E02006534 ┆ 8524         │\n",
       "│ E07000223 ┆ Adur    ┆ Adur 002 ┆ E       ┆ Adur 002 ┆ E02006535 ┆ 6634         │\n",
       "│ E07000223 ┆ Adur    ┆ Adur 003 ┆ E       ┆ Adur 003 ┆ E02006536 ┆ 7100         │\n",
       "│ E07000223 ┆ Adur    ┆ Adur 004 ┆ E       ┆ Adur 004 ┆ E02006537 ┆ 10127        │\n",
       "│ E07000223 ┆ Adur    ┆ Adur 005 ┆ E       ┆ Adur 005 ┆ E02006538 ┆ 8526         │\n",
       "└───────────┴─────────┴──────────┴─────────┴──────────┴───────────┴──────────────┘"
      ]
     },
     "execution_count": 163,
     "metadata": {},
     "output_type": "execute_result"
    }
   ],
   "source": [
    "df_lookup.head()"
   ]
  },
  {
   "cell_type": "markdown",
   "id": "dac2873c-7ca8-47bb-82eb-4d425b186eb4",
   "metadata": {},
   "source": [
    "Calculate total patients per district:"
   ]
  },
  {
   "cell_type": "code",
   "execution_count": 166,
   "id": "70ef9f3e-0c27-42ae-ae92-2e71afedb10c",
   "metadata": {},
   "outputs": [],
   "source": [
    "all_districts = df_lookup['LAD19CD'].unique().to_numpy()"
   ]
  },
  {
   "cell_type": "code",
   "execution_count": 168,
   "id": "0c7334d4-6477-4dab-8884-6299749c7172",
   "metadata": {},
   "outputs": [],
   "source": [
    "dict_district_pops = {}\n",
    "\n",
    "for district in all_districts:\n",
    "    mask = df_lookup['LAD19CD'] == district\n",
    "    if len(df_lookup.filter(mask)) > 0:\n",
    "        pop_here = df_lookup.filter(mask)['total_health'].sum()\n",
    "        dict_district_pops[district] = pop_here"
   ]
  },
  {
   "cell_type": "code",
   "execution_count": 169,
   "id": "b26535db-ad91-47aa-aeeb-b92b7e3b4d2e",
   "metadata": {},
   "outputs": [
    {
     "data": {
      "text/html": [
       "<div><style>\n",
       ".dataframe > thead > tr,\n",
       ".dataframe > tbody > tr {\n",
       "  text-align: right;\n",
       "  white-space: pre-wrap;\n",
       "}\n",
       "</style>\n",
       "<small>shape: (5, 7)</small><table border=\"1\" class=\"dataframe\"><thead><tr><th>LAD19CD</th><th>LAD19NM</th><th>msoa11nm</th><th>country</th><th>MSOA</th><th>MSOA11CD</th><th>total_health</th></tr><tr><td>str</td><td>str</td><td>str</td><td>str</td><td>str</td><td>str</td><td>i64</td></tr></thead><tbody><tr><td>&quot;E07000223&quot;</td><td>&quot;Adur&quot;</td><td>&quot;Adur 001&quot;</td><td>&quot;E&quot;</td><td>&quot;Adur 001&quot;</td><td>&quot;E02006534&quot;</td><td>8524</td></tr><tr><td>&quot;E07000223&quot;</td><td>&quot;Adur&quot;</td><td>&quot;Adur 002&quot;</td><td>&quot;E&quot;</td><td>&quot;Adur 002&quot;</td><td>&quot;E02006535&quot;</td><td>6634</td></tr><tr><td>&quot;E07000223&quot;</td><td>&quot;Adur&quot;</td><td>&quot;Adur 003&quot;</td><td>&quot;E&quot;</td><td>&quot;Adur 003&quot;</td><td>&quot;E02006536&quot;</td><td>7100</td></tr><tr><td>&quot;E07000223&quot;</td><td>&quot;Adur&quot;</td><td>&quot;Adur 004&quot;</td><td>&quot;E&quot;</td><td>&quot;Adur 004&quot;</td><td>&quot;E02006537&quot;</td><td>10127</td></tr><tr><td>&quot;E07000223&quot;</td><td>&quot;Adur&quot;</td><td>&quot;Adur 005&quot;</td><td>&quot;E&quot;</td><td>&quot;Adur 005&quot;</td><td>&quot;E02006538&quot;</td><td>8526</td></tr></tbody></table></div>"
      ],
      "text/plain": [
       "shape: (5, 7)\n",
       "┌───────────┬─────────┬──────────┬─────────┬──────────┬───────────┬──────────────┐\n",
       "│ LAD19CD   ┆ LAD19NM ┆ msoa11nm ┆ country ┆ MSOA     ┆ MSOA11CD  ┆ total_health │\n",
       "│ ---       ┆ ---     ┆ ---      ┆ ---     ┆ ---      ┆ ---       ┆ ---          │\n",
       "│ str       ┆ str     ┆ str      ┆ str     ┆ str      ┆ str       ┆ i64          │\n",
       "╞═══════════╪═════════╪══════════╪═════════╪══════════╪═══════════╪══════════════╡\n",
       "│ E07000223 ┆ Adur    ┆ Adur 001 ┆ E       ┆ Adur 001 ┆ E02006534 ┆ 8524         │\n",
       "│ E07000223 ┆ Adur    ┆ Adur 002 ┆ E       ┆ Adur 002 ┆ E02006535 ┆ 6634         │\n",
       "│ E07000223 ┆ Adur    ┆ Adur 003 ┆ E       ┆ Adur 003 ┆ E02006536 ┆ 7100         │\n",
       "│ E07000223 ┆ Adur    ┆ Adur 004 ┆ E       ┆ Adur 004 ┆ E02006537 ┆ 10127        │\n",
       "│ E07000223 ┆ Adur    ┆ Adur 005 ┆ E       ┆ Adur 005 ┆ E02006538 ┆ 8526         │\n",
       "└───────────┴─────────┴──────────┴─────────┴──────────┴───────────┴──────────────┘"
      ]
     },
     "execution_count": 169,
     "metadata": {},
     "output_type": "execute_result"
    }
   ],
   "source": [
    "df_lookup.head()"
   ]
  },
  {
   "cell_type": "markdown",
   "id": "4b3fab67-f04d-4cbd-93cc-369fa03795ae",
   "metadata": {},
   "source": [
    "Calculate ratio of patients per district:"
   ]
  },
  {
   "cell_type": "code",
   "execution_count": 170,
   "id": "ee0b6e43-db06-4aaf-9974-e4f30666d35c",
   "metadata": {},
   "outputs": [],
   "source": [
    "# Placeholder data:\n",
    "df_lookup = df_lookup.with_columns(pl.lit(0.0).alias('district_pop_ratio'))\n",
    "\n",
    "for district in all_districts:\n",
    "    mask = df_lookup['LAD19CD'] == district\n",
    "    df_lookup = df_lookup.with_columns(\n",
    "        pl.when((mask))\n",
    "        .then(df_lookup['total_health'].to_numpy() / dict_district_pops[district])         # replace with bin min\n",
    "        .otherwise(pl.col('district_pop_ratio'))  # otherwise keep the existing value\n",
    "        .name.keep()\n",
    "    )"
   ]
  },
  {
   "cell_type": "code",
   "execution_count": 171,
   "id": "41c5a36d-876f-4770-89e0-82e44546bdf4",
   "metadata": {},
   "outputs": [
    {
     "data": {
      "text/html": [
       "<div><style>\n",
       ".dataframe > thead > tr,\n",
       ".dataframe > tbody > tr {\n",
       "  text-align: right;\n",
       "  white-space: pre-wrap;\n",
       "}\n",
       "</style>\n",
       "<small>shape: (5, 8)</small><table border=\"1\" class=\"dataframe\"><thead><tr><th>LAD19CD</th><th>LAD19NM</th><th>msoa11nm</th><th>country</th><th>MSOA</th><th>MSOA11CD</th><th>total_health</th><th>district_pop_ratio</th></tr><tr><td>str</td><td>str</td><td>str</td><td>str</td><td>str</td><td>str</td><td>i64</td><td>f64</td></tr></thead><tbody><tr><td>&quot;E07000223&quot;</td><td>&quot;Adur&quot;</td><td>&quot;Adur 001&quot;</td><td>&quot;E&quot;</td><td>&quot;Adur 001&quot;</td><td>&quot;E02006534&quot;</td><td>8524</td><td>0.139322</td></tr><tr><td>&quot;E07000223&quot;</td><td>&quot;Adur&quot;</td><td>&quot;Adur 002&quot;</td><td>&quot;E&quot;</td><td>&quot;Adur 002&quot;</td><td>&quot;E02006535&quot;</td><td>6634</td><td>0.108431</td></tr><tr><td>&quot;E07000223&quot;</td><td>&quot;Adur&quot;</td><td>&quot;Adur 003&quot;</td><td>&quot;E&quot;</td><td>&quot;Adur 003&quot;</td><td>&quot;E02006536&quot;</td><td>7100</td><td>0.116047</td></tr><tr><td>&quot;E07000223&quot;</td><td>&quot;Adur&quot;</td><td>&quot;Adur 004&quot;</td><td>&quot;E&quot;</td><td>&quot;Adur 004&quot;</td><td>&quot;E02006537&quot;</td><td>10127</td><td>0.165523</td></tr><tr><td>&quot;E07000223&quot;</td><td>&quot;Adur&quot;</td><td>&quot;Adur 005&quot;</td><td>&quot;E&quot;</td><td>&quot;Adur 005&quot;</td><td>&quot;E02006538&quot;</td><td>8526</td><td>0.139355</td></tr></tbody></table></div>"
      ],
      "text/plain": [
       "shape: (5, 8)\n",
       "┌───────────┬─────────┬──────────┬─────────┬──────────┬───────────┬──────────────┬─────────────────┐\n",
       "│ LAD19CD   ┆ LAD19NM ┆ msoa11nm ┆ country ┆ MSOA     ┆ MSOA11CD  ┆ total_health ┆ district_pop_ra │\n",
       "│ ---       ┆ ---     ┆ ---      ┆ ---     ┆ ---      ┆ ---       ┆ ---          ┆ tio             │\n",
       "│ str       ┆ str     ┆ str      ┆ str     ┆ str      ┆ str       ┆ i64          ┆ ---             │\n",
       "│           ┆         ┆          ┆         ┆          ┆           ┆              ┆ f64             │\n",
       "╞═══════════╪═════════╪══════════╪═════════╪══════════╪═══════════╪══════════════╪═════════════════╡\n",
       "│ E07000223 ┆ Adur    ┆ Adur 001 ┆ E       ┆ Adur 001 ┆ E02006534 ┆ 8524         ┆ 0.139322        │\n",
       "│ E07000223 ┆ Adur    ┆ Adur 002 ┆ E       ┆ Adur 002 ┆ E02006535 ┆ 6634         ┆ 0.108431        │\n",
       "│ E07000223 ┆ Adur    ┆ Adur 003 ┆ E       ┆ Adur 003 ┆ E02006536 ┆ 7100         ┆ 0.116047        │\n",
       "│ E07000223 ┆ Adur    ┆ Adur 004 ┆ E       ┆ Adur 004 ┆ E02006537 ┆ 10127        ┆ 0.165523        │\n",
       "│ E07000223 ┆ Adur    ┆ Adur 005 ┆ E       ┆ Adur 005 ┆ E02006538 ┆ 8526         ┆ 0.139355        │\n",
       "└───────────┴─────────┴──────────┴─────────┴──────────┴───────────┴──────────────┴─────────────────┘"
      ]
     },
     "execution_count": 171,
     "metadata": {},
     "output_type": "execute_result"
    }
   ],
   "source": [
    "df_lookup.head()"
   ]
  },
  {
   "cell_type": "markdown",
   "id": "29e89704-30d3-4e27-acb8-8b3274f42668",
   "metadata": {},
   "source": [
    "Sanity check:"
   ]
  },
  {
   "cell_type": "code",
   "execution_count": 173,
   "id": "10f3907b-7574-4c13-9ebc-ee577909bc45",
   "metadata": {},
   "outputs": [],
   "source": [
    "for district in all_districts:\n",
    "    mask = df_lookup['LAD19CD'] == district\n",
    "    total_pop = df_lookup.filter(mask)['district_pop_ratio'].sum()\n",
    "    if round(total_pop, 3) != 1.000:\n",
    "        print(district)"
   ]
  },
  {
   "cell_type": "markdown",
   "id": "4fd81a0c-f7e0-449c-bc40-1d9245a70cbd",
   "metadata": {},
   "source": [
    "## Link projected demographic data"
   ]
  },
  {
   "cell_type": "code",
   "execution_count": 184,
   "id": "6822dc39-0171-4717-92b9-d6f3ce5573f9",
   "metadata": {},
   "outputs": [],
   "source": [
    "proj_years_str = ['2025', '2030', '2035', '2040']"
   ]
  },
  {
   "cell_type": "code",
   "execution_count": 207,
   "id": "575c0318-7d9c-4fd1-8ead-5909b3469bd5",
   "metadata": {},
   "outputs": [],
   "source": [
    "dict_dfs_proj = {}\n",
    "\n",
    "for label in proj_years_str:\n",
    "    df = pl.read_csv(os.path.join('..', 'data', f'nomis_age_predictions_{label}.csv'), comment_prefix='#')\n",
    "    # Drop the Isles of Scilly.\n",
    "    mask = df['local authority: district / unitary (as of April 2019)'].str.contains('Scilly')\n",
    "    df = df.filter(~mask)\n",
    "    dict_dfs_proj[label] = df"
   ]
  },
  {
   "cell_type": "markdown",
   "id": "a8cbf407-6030-4e2e-bdc3-f63fc6985ecd",
   "metadata": {},
   "source": [
    "Check one:"
   ]
  },
  {
   "cell_type": "code",
   "execution_count": 228,
   "id": "f94e0869-e05b-45a4-9240-670980f72b3f",
   "metadata": {},
   "outputs": [
    {
     "data": {
      "text/html": [
       "<div><style>\n",
       ".dataframe > thead > tr,\n",
       ".dataframe > tbody > tr {\n",
       "  text-align: right;\n",
       "  white-space: pre-wrap;\n",
       "}\n",
       "</style>\n",
       "<small>shape: (316, 20)</small><table border=\"1\" class=\"dataframe\"><thead><tr><th>local authority: district / unitary (as of April 2019)</th><th>mnemonic</th><th>Age 0 - 4</th><th>Aged 5-9</th><th>Aged 10-14</th><th>Aged 15-19</th><th>Aged 20-24</th><th>Aged 25-29</th><th>Aged 30-34</th><th>Aged 35-39</th><th>Aged 40-44</th><th>Aged 45-49</th><th>Aged 50-54</th><th>Aged 55-59</th><th>Aged 60-64</th><th>Aged 65-69</th><th>Aged 70-74</th><th>Aged 75-79</th><th>Aged 80-84</th><th>Aged 85+</th></tr><tr><td>str</td><td>str</td><td>i64</td><td>i64</td><td>i64</td><td>i64</td><td>i64</td><td>i64</td><td>i64</td><td>i64</td><td>i64</td><td>i64</td><td>i64</td><td>i64</td><td>i64</td><td>i64</td><td>i64</td><td>i64</td><td>i64</td><td>i64</td></tr></thead><tbody><tr><td>&quot;Darlington&quot;</td><td>&quot;E06000005&quot;</td><td>5241</td><td>5739</td><td>6660</td><td>6263</td><td>4744</td><td>5847</td><td>6454</td><td>6678</td><td>6699</td><td>6302</td><td>6842</td><td>7605</td><td>7583</td><td>6532</td><td>5523</td><td>5405</td><td>3514</td><td>3475</td></tr><tr><td>&quot;County Durham&quot;</td><td>&quot;E06000047&quot;</td><td>25167</td><td>27584</td><td>31229</td><td>33431</td><td>35331</td><td>30585</td><td>32949</td><td>31373</td><td>31522</td><td>29206</td><td>33259</td><td>38789</td><td>39263</td><td>33958</td><td>29160</td><td>27405</td><td>16918</td><td>14349</td></tr><tr><td>&quot;Hartlepool&quot;</td><td>&quot;E06000001&quot;</td><td>4636</td><td>5321</td><td>6015</td><td>5797</td><td>4511</td><td>5337</td><td>6077</td><td>6082</td><td>5745</td><td>5140</td><td>5711</td><td>6469</td><td>6798</td><td>5839</td><td>4826</td><td>4320</td><td>2474</td><td>2597</td></tr><tr><td>&quot;Middlesbrough&quot;</td><td>&quot;E06000002&quot;</td><td>8754</td><td>9036</td><td>9370</td><td>9283</td><td>10458</td><td>9696</td><td>9778</td><td>8633</td><td>7931</td><td>7004</td><td>7536</td><td>8131</td><td>8700</td><td>7562</td><td>6090</td><td>5374</td><td>3386</td><td>3038</td></tr><tr><td>&quot;Northumberland&quot;</td><td>&quot;E06000057&quot;</td><td>13735</td><td>15957</td><td>17447</td><td>16703</td><td>12613</td><td>15188</td><td>17023</td><td>18670</td><td>18953</td><td>18359</td><td>20978</td><td>24732</td><td>27325</td><td>25205</td><td>21489</td><td>20413</td><td>12574</td><td>11055</td></tr><tr><td>&hellip;</td><td>&hellip;</td><td>&hellip;</td><td>&hellip;</td><td>&hellip;</td><td>&hellip;</td><td>&hellip;</td><td>&hellip;</td><td>&hellip;</td><td>&hellip;</td><td>&hellip;</td><td>&hellip;</td><td>&hellip;</td><td>&hellip;</td><td>&hellip;</td><td>&hellip;</td><td>&hellip;</td><td>&hellip;</td><td>&hellip;</td><td>&hellip;</td></tr><tr><td>&quot;Tewkesbury&quot;</td><td>&quot;E07000083&quot;</td><td>5779</td><td>6274</td><td>6425</td><td>5519</td><td>3693</td><td>5223</td><td>6181</td><td>7118</td><td>6793</td><td>6129</td><td>6571</td><td>7356</td><td>7115</td><td>6239</td><td>5549</td><td>5308</td><td>3632</td><td>3177</td></tr><tr><td>&quot;Mendip&quot;</td><td>&quot;E07000187&quot;</td><td>5606</td><td>6411</td><td>7495</td><td>7302</td><td>4213</td><td>5379</td><td>5983</td><td>6849</td><td>6961</td><td>6817</td><td>8115</td><td>9432</td><td>9343</td><td>7971</td><td>7230</td><td>7000</td><td>4566</td><td>4193</td></tr><tr><td>&quot;Sedgemoor&quot;</td><td>&quot;E07000188&quot;</td><td>6123</td><td>6833</td><td>7789</td><td>7131</td><td>5153</td><td>6185</td><td>6827</td><td>7268</td><td>7187</td><td>6907</td><td>8225</td><td>9678</td><td>9761</td><td>8452</td><td>7694</td><td>7445</td><td>4988</td><td>4687</td></tr><tr><td>&quot;South Somerset&quot;</td><td>&quot;E07000189&quot;</td><td>7879</td><td>8975</td><td>10024</td><td>9468</td><td>6597</td><td>8085</td><td>8805</td><td>9522</td><td>9124</td><td>8924</td><td>10801</td><td>12777</td><td>13438</td><td>12000</td><td>11271</td><td>11170</td><td>7205</td><td>6438</td></tr><tr><td>&quot;Somerset West and Taunton&quot;</td><td>&quot;E07000246&quot;</td><td>7314</td><td>8329</td><td>9520</td><td>8770</td><td>6228</td><td>7812</td><td>8508</td><td>8995</td><td>9235</td><td>8826</td><td>10259</td><td>12235</td><td>12844</td><td>11703</td><td>10610</td><td>10119</td><td>6920</td><td>6742</td></tr></tbody></table></div>"
      ],
      "text/plain": [
       "shape: (316, 20)\n",
       "┌─────────────┬───────────┬───────────┬──────────┬───┬───────┬─────────────┬────────────┬──────────┐\n",
       "│ local       ┆ mnemonic  ┆ Age 0 - 4 ┆ Aged 5-9 ┆ … ┆ Aged  ┆ Aged 75-79  ┆ Aged 80-84 ┆ Aged 85+ │\n",
       "│ authority:  ┆ ---       ┆ ---       ┆ ---      ┆   ┆ 70-74 ┆ ---         ┆ ---        ┆ ---      │\n",
       "│ district /  ┆ str       ┆ i64       ┆ i64      ┆   ┆ ---   ┆ i64         ┆ i64        ┆ i64      │\n",
       "│ un…         ┆           ┆           ┆          ┆   ┆ i64   ┆             ┆            ┆          │\n",
       "│ ---         ┆           ┆           ┆          ┆   ┆       ┆             ┆            ┆          │\n",
       "│ str         ┆           ┆           ┆          ┆   ┆       ┆             ┆            ┆          │\n",
       "╞═════════════╪═══════════╪═══════════╪══════════╪═══╪═══════╪═════════════╪════════════╪══════════╡\n",
       "│ Darlington  ┆ E06000005 ┆ 5241      ┆ 5739     ┆ … ┆ 5523  ┆ 5405        ┆ 3514       ┆ 3475     │\n",
       "│ County      ┆ E06000047 ┆ 25167     ┆ 27584    ┆ … ┆ 29160 ┆ 27405       ┆ 16918      ┆ 14349    │\n",
       "│ Durham      ┆           ┆           ┆          ┆   ┆       ┆             ┆            ┆          │\n",
       "│ Hartlepool  ┆ E06000001 ┆ 4636      ┆ 5321     ┆ … ┆ 4826  ┆ 4320        ┆ 2474       ┆ 2597     │\n",
       "│ Middlesbrou ┆ E06000002 ┆ 8754      ┆ 9036     ┆ … ┆ 6090  ┆ 5374        ┆ 3386       ┆ 3038     │\n",
       "│ gh          ┆           ┆           ┆          ┆   ┆       ┆             ┆            ┆          │\n",
       "│ Northumberl ┆ E06000057 ┆ 13735     ┆ 15957    ┆ … ┆ 21489 ┆ 20413       ┆ 12574      ┆ 11055    │\n",
       "│ and         ┆           ┆           ┆          ┆   ┆       ┆             ┆            ┆          │\n",
       "│ …           ┆ …         ┆ …         ┆ …        ┆ … ┆ …     ┆ …           ┆ …          ┆ …        │\n",
       "│ Tewkesbury  ┆ E07000083 ┆ 5779      ┆ 6274     ┆ … ┆ 5549  ┆ 5308        ┆ 3632       ┆ 3177     │\n",
       "│ Mendip      ┆ E07000187 ┆ 5606      ┆ 6411     ┆ … ┆ 7230  ┆ 7000        ┆ 4566       ┆ 4193     │\n",
       "│ Sedgemoor   ┆ E07000188 ┆ 6123      ┆ 6833     ┆ … ┆ 7694  ┆ 7445        ┆ 4988       ┆ 4687     │\n",
       "│ South       ┆ E07000189 ┆ 7879      ┆ 8975     ┆ … ┆ 11271 ┆ 11170       ┆ 7205       ┆ 6438     │\n",
       "│ Somerset    ┆           ┆           ┆          ┆   ┆       ┆             ┆            ┆          │\n",
       "│ Somerset    ┆ E07000246 ┆ 7314      ┆ 8329     ┆ … ┆ 10610 ┆ 10119       ┆ 6920       ┆ 6742     │\n",
       "│ West and    ┆           ┆           ┆          ┆   ┆       ┆             ┆            ┆          │\n",
       "│ Taunton     ┆           ┆           ┆          ┆   ┆       ┆             ┆            ┆          │\n",
       "└─────────────┴───────────┴───────────┴──────────┴───┴───────┴─────────────┴────────────┴──────────┘"
      ]
     },
     "execution_count": 228,
     "metadata": {},
     "output_type": "execute_result"
    }
   ],
   "source": [
    "dict_dfs_proj[proj_years_str[0]]"
   ]
  },
  {
   "cell_type": "markdown",
   "id": "fa68befa-0bb6-4c54-a621-9cb2382444af",
   "metadata": {},
   "source": [
    "The following function combines the lookup for MSOA to local authority area with the age projections and scales the number of people down to the ratio for that MSOA."
   ]
  },
  {
   "cell_type": "code",
   "execution_count": 225,
   "id": "6d2f2fc3-d3ec-44ea-bfd7-acf531f63be6",
   "metadata": {},
   "outputs": [],
   "source": [
    "def convert_proj_to_msoa(df_proj, df_lookup):\n",
    "    # Join the two dataframes:\n",
    "    df = df_proj.join(df_lookup, left_on='mnemonic', right_on='LAD19CD', how='left')\n",
    "    # Pick out population columns:\n",
    "    cols_pop = [c for c in df_proj.columns if c.startswith('Age')]\n",
    "    # Scale population columns by ratio column:\n",
    "    df[cols_pop] = df['district_pop_ratio'] * df[cols_pop]\n",
    "    # Round to nearest integer:\n",
    "    for col in cols_pop:\n",
    "        df = df.with_columns(pl.col(col).round(0).cast(int))\n",
    "    return df"
   ]
  },
  {
   "cell_type": "markdown",
   "id": "29f6750e-b002-4ffb-8c54-dc956794d313",
   "metadata": {},
   "source": [
    "Run this function for all year projections:"
   ]
  },
  {
   "cell_type": "code",
   "execution_count": 233,
   "id": "362c9577-cbfe-491c-ad38-0546f5a90749",
   "metadata": {},
   "outputs": [],
   "source": [
    "dict_df_proj_scaled = {}\n",
    "\n",
    "for label in proj_years_str:\n",
    "    df = convert_proj_to_msoa(dict_dfs_proj[label], df_lookup)\n",
    "    # Drop some columns:\n",
    "    cols_to_drop = ['local authority: district / unitary (as of April 2019)', 'mnemonic', 'LAD19NM', 'msoa11nm', 'total_health', 'district_pop_ratio']\n",
    "    df = df.drop(cols_to_drop)\n",
    "    # Move MSOA columns to start:\n",
    "    cols = [c for c in df.columns if 'MSOA' in c] + [c for c in df.columns if 'MSOA' not in c]\n",
    "    df = df[cols]\n",
    "    dict_df_proj_scaled[label] = df"
   ]
  },
  {
   "cell_type": "markdown",
   "id": "70932af1-d999-4fe3-a12f-d3e92a4d876a",
   "metadata": {},
   "source": [
    "Check the results for one:"
   ]
  },
  {
   "cell_type": "code",
   "execution_count": 234,
   "id": "ae4482dd-a528-4af0-b056-68e7b3e23155",
   "metadata": {},
   "outputs": [
    {
     "data": {
      "text/html": [
       "<div><style>\n",
       ".dataframe > thead > tr,\n",
       ".dataframe > tbody > tr {\n",
       "  text-align: right;\n",
       "  white-space: pre-wrap;\n",
       "}\n",
       "</style>\n",
       "<small>shape: (6_790, 21)</small><table border=\"1\" class=\"dataframe\"><thead><tr><th>MSOA</th><th>MSOA11CD</th><th>Age 0 - 4</th><th>Aged 5-9</th><th>Aged 10-14</th><th>Aged 15-19</th><th>Aged 20-24</th><th>Aged 25-29</th><th>Aged 30-34</th><th>Aged 35-39</th><th>Aged 40-44</th><th>Aged 45-49</th><th>Aged 50-54</th><th>Aged 55-59</th><th>Aged 60-64</th><th>Aged 65-69</th><th>Aged 70-74</th><th>Aged 75-79</th><th>Aged 80-84</th><th>Aged 85+</th><th>country</th></tr><tr><td>str</td><td>str</td><td>i64</td><td>i64</td><td>i64</td><td>i64</td><td>i64</td><td>i64</td><td>i64</td><td>i64</td><td>i64</td><td>i64</td><td>i64</td><td>i64</td><td>i64</td><td>i64</td><td>i64</td><td>i64</td><td>i64</td><td>i64</td><td>str</td></tr></thead><tbody><tr><td>&quot;Darlington 001&quot;</td><td>&quot;E02002559&quot;</td><td>439</td><td>481</td><td>558</td><td>525</td><td>397</td><td>490</td><td>541</td><td>559</td><td>561</td><td>528</td><td>573</td><td>637</td><td>635</td><td>547</td><td>463</td><td>453</td><td>294</td><td>291</td><td>&quot;E&quot;</td></tr><tr><td>&quot;Darlington 002&quot;</td><td>&quot;E02002560&quot;</td><td>298</td><td>326</td><td>378</td><td>356</td><td>270</td><td>332</td><td>367</td><td>379</td><td>381</td><td>358</td><td>389</td><td>432</td><td>431</td><td>371</td><td>314</td><td>307</td><td>200</td><td>197</td><td>&quot;E&quot;</td></tr><tr><td>&quot;Darlington 003&quot;</td><td>&quot;E02002561&quot;</td><td>285</td><td>312</td><td>362</td><td>341</td><td>258</td><td>318</td><td>351</td><td>363</td><td>364</td><td>343</td><td>372</td><td>414</td><td>412</td><td>355</td><td>300</td><td>294</td><td>191</td><td>189</td><td>&quot;E&quot;</td></tr><tr><td>&quot;Darlington 004&quot;</td><td>&quot;E02002562&quot;</td><td>301</td><td>330</td><td>383</td><td>360</td><td>273</td><td>336</td><td>371</td><td>384</td><td>385</td><td>362</td><td>393</td><td>437</td><td>436</td><td>375</td><td>317</td><td>311</td><td>202</td><td>200</td><td>&quot;E&quot;</td></tr><tr><td>&quot;Darlington 005&quot;</td><td>&quot;E02002563&quot;</td><td>271</td><td>297</td><td>345</td><td>324</td><td>246</td><td>303</td><td>334</td><td>346</td><td>347</td><td>326</td><td>354</td><td>394</td><td>392</td><td>338</td><td>286</td><td>280</td><td>182</td><td>180</td><td>&quot;E&quot;</td></tr><tr><td>&hellip;</td><td>&hellip;</td><td>&hellip;</td><td>&hellip;</td><td>&hellip;</td><td>&hellip;</td><td>&hellip;</td><td>&hellip;</td><td>&hellip;</td><td>&hellip;</td><td>&hellip;</td><td>&hellip;</td><td>&hellip;</td><td>&hellip;</td><td>&hellip;</td><td>&hellip;</td><td>&hellip;</td><td>&hellip;</td><td>&hellip;</td><td>&hellip;</td><td>&hellip;</td></tr><tr><td>&quot;West Somerset 001&quot;</td><td>&quot;E02006113&quot;</td><td>370</td><td>421</td><td>482</td><td>444</td><td>315</td><td>395</td><td>430</td><td>455</td><td>467</td><td>446</td><td>519</td><td>619</td><td>650</td><td>592</td><td>537</td><td>512</td><td>350</td><td>341</td><td>&quot;E&quot;</td></tr><tr><td>&quot;West Somerset 002&quot;</td><td>&quot;E02006114&quot;</td><td>340</td><td>387</td><td>442</td><td>407</td><td>289</td><td>363</td><td>395</td><td>418</td><td>429</td><td>410</td><td>476</td><td>568</td><td>597</td><td>544</td><td>493</td><td>470</td><td>321</td><td>313</td><td>&quot;E&quot;</td></tr><tr><td>&quot;West Somerset 003&quot;</td><td>&quot;E02006115&quot;</td><td>364</td><td>415</td><td>474</td><td>437</td><td>310</td><td>389</td><td>424</td><td>448</td><td>460</td><td>440</td><td>511</td><td>610</td><td>640</td><td>583</td><td>529</td><td>504</td><td>345</td><td>336</td><td>&quot;E&quot;</td></tr><tr><td>&quot;West Somerset 004&quot;</td><td>&quot;E02006116&quot;</td><td>397</td><td>452</td><td>516</td><td>476</td><td>338</td><td>424</td><td>461</td><td>488</td><td>501</td><td>479</td><td>556</td><td>664</td><td>697</td><td>635</td><td>575</td><td>549</td><td>375</td><td>366</td><td>&quot;E&quot;</td></tr><tr><td>&quot;West Somerset 005&quot;</td><td>&quot;E02006117&quot;</td><td>280</td><td>319</td><td>364</td><td>336</td><td>238</td><td>299</td><td>326</td><td>344</td><td>354</td><td>338</td><td>393</td><td>468</td><td>492</td><td>448</td><td>406</td><td>387</td><td>265</td><td>258</td><td>&quot;E&quot;</td></tr></tbody></table></div>"
      ],
      "text/plain": [
       "shape: (6_790, 21)\n",
       "┌────────────┬───────────┬───────────┬──────────┬───┬────────────┬────────────┬──────────┬─────────┐\n",
       "│ MSOA       ┆ MSOA11CD  ┆ Age 0 - 4 ┆ Aged 5-9 ┆ … ┆ Aged 75-79 ┆ Aged 80-84 ┆ Aged 85+ ┆ country │\n",
       "│ ---        ┆ ---       ┆ ---       ┆ ---      ┆   ┆ ---        ┆ ---        ┆ ---      ┆ ---     │\n",
       "│ str        ┆ str       ┆ i64       ┆ i64      ┆   ┆ i64        ┆ i64        ┆ i64      ┆ str     │\n",
       "╞════════════╪═══════════╪═══════════╪══════════╪═══╪════════════╪════════════╪══════════╪═════════╡\n",
       "│ Darlington ┆ E02002559 ┆ 439       ┆ 481      ┆ … ┆ 453        ┆ 294        ┆ 291      ┆ E       │\n",
       "│ 001        ┆           ┆           ┆          ┆   ┆            ┆            ┆          ┆         │\n",
       "│ Darlington ┆ E02002560 ┆ 298       ┆ 326      ┆ … ┆ 307        ┆ 200        ┆ 197      ┆ E       │\n",
       "│ 002        ┆           ┆           ┆          ┆   ┆            ┆            ┆          ┆         │\n",
       "│ Darlington ┆ E02002561 ┆ 285       ┆ 312      ┆ … ┆ 294        ┆ 191        ┆ 189      ┆ E       │\n",
       "│ 003        ┆           ┆           ┆          ┆   ┆            ┆            ┆          ┆         │\n",
       "│ Darlington ┆ E02002562 ┆ 301       ┆ 330      ┆ … ┆ 311        ┆ 202        ┆ 200      ┆ E       │\n",
       "│ 004        ┆           ┆           ┆          ┆   ┆            ┆            ┆          ┆         │\n",
       "│ Darlington ┆ E02002563 ┆ 271       ┆ 297      ┆ … ┆ 280        ┆ 182        ┆ 180      ┆ E       │\n",
       "│ 005        ┆           ┆           ┆          ┆   ┆            ┆            ┆          ┆         │\n",
       "│ …          ┆ …         ┆ …         ┆ …        ┆ … ┆ …          ┆ …          ┆ …        ┆ …       │\n",
       "│ West       ┆ E02006113 ┆ 370       ┆ 421      ┆ … ┆ 512        ┆ 350        ┆ 341      ┆ E       │\n",
       "│ Somerset   ┆           ┆           ┆          ┆   ┆            ┆            ┆          ┆         │\n",
       "│ 001        ┆           ┆           ┆          ┆   ┆            ┆            ┆          ┆         │\n",
       "│ West       ┆ E02006114 ┆ 340       ┆ 387      ┆ … ┆ 470        ┆ 321        ┆ 313      ┆ E       │\n",
       "│ Somerset   ┆           ┆           ┆          ┆   ┆            ┆            ┆          ┆         │\n",
       "│ 002        ┆           ┆           ┆          ┆   ┆            ┆            ┆          ┆         │\n",
       "│ West       ┆ E02006115 ┆ 364       ┆ 415      ┆ … ┆ 504        ┆ 345        ┆ 336      ┆ E       │\n",
       "│ Somerset   ┆           ┆           ┆          ┆   ┆            ┆            ┆          ┆         │\n",
       "│ 003        ┆           ┆           ┆          ┆   ┆            ┆            ┆          ┆         │\n",
       "│ West       ┆ E02006116 ┆ 397       ┆ 452      ┆ … ┆ 549        ┆ 375        ┆ 366      ┆ E       │\n",
       "│ Somerset   ┆           ┆           ┆          ┆   ┆            ┆            ┆          ┆         │\n",
       "│ 004        ┆           ┆           ┆          ┆   ┆            ┆            ┆          ┆         │\n",
       "│ West       ┆ E02006117 ┆ 280       ┆ 319      ┆ … ┆ 387        ┆ 265        ┆ 258      ┆ E       │\n",
       "│ Somerset   ┆           ┆           ┆          ┆   ┆            ┆            ┆          ┆         │\n",
       "│ 005        ┆           ┆           ┆          ┆   ┆            ┆            ┆          ┆         │\n",
       "└────────────┴───────────┴───────────┴──────────┴───┴────────────┴────────────┴──────────┴─────────┘"
      ]
     },
     "execution_count": 234,
     "metadata": {},
     "output_type": "execute_result"
    }
   ],
   "source": [
    "dict_df_proj_scaled[proj_years_str[0]]"
   ]
  },
  {
   "cell_type": "markdown",
   "id": "b50ddb58-3cde-4690-b5cc-f4508af062b1",
   "metadata": {},
   "source": [
    "Save results:"
   ]
  },
  {
   "cell_type": "code",
   "execution_count": 236,
   "id": "1d875dc7-bb4b-41c1-a05c-43ad22e32d30",
   "metadata": {},
   "outputs": [],
   "source": [
    "for label in proj_years_str:\n",
    "    df = dict_df_proj_scaled[label]\n",
    "    df.write_csv(os.path.join('..', 'data', 'projections', f'msoa_projections_{label}.csv'))"
   ]
  },
  {
   "cell_type": "code",
   "execution_count": null,
   "id": "bd985066-0f44-4592-9e55-35e3a151aae0",
   "metadata": {},
   "outputs": [],
   "source": []
  }
 ],
 "metadata": {
  "kernelspec": {
   "display_name": "Python 3 (ipykernel)",
   "language": "python",
   "name": "python3"
  },
  "language_info": {
   "codemirror_mode": {
    "name": "ipython",
    "version": 3
   },
   "file_extension": ".py",
   "mimetype": "text/x-python",
   "name": "python",
   "nbconvert_exporter": "python",
   "pygments_lexer": "ipython3",
   "version": "3.10.16"
  }
 },
 "nbformat": 4,
 "nbformat_minor": 5
}
