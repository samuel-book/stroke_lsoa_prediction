{
 "cells": [
  {
   "cell_type": "markdown",
   "id": "79fff366-e2d7-409c-8849-0b6433f02629",
   "metadata": {},
   "source": [
    "# Convert Nomis prediction tables into multiple files\n",
    "\n",
    "On download, the .csv contains one long sheet with multiple tables each with their own header and footer.\n",
    "\n",
    "In this notebook, load in the downloaded file, split it into separate tables, and then save the separate tables.\n",
    "\n",
    "## Code setup"
   ]
  },
  {
   "cell_type": "code",
   "execution_count": 2,
   "id": "1467d4d9-3704-461d-8627-fc0ac7cb11b4",
   "metadata": {},
   "outputs": [],
   "source": [
    "import os\n",
    "import polars as pl\n",
    "import numpy as np"
   ]
  },
  {
   "cell_type": "markdown",
   "id": "6f0f50df-7467-4ecf-8629-82098d5bc4a1",
   "metadata": {},
   "source": [
    "## Load data\n",
    "\n",
    "Load downloaded projection data as line strings:"
   ]
  },
  {
   "cell_type": "code",
   "execution_count": 48,
   "id": "12097136-7c39-4a36-80b4-d17f8f7fea38",
   "metadata": {},
   "outputs": [],
   "source": [
    "path_to_file = os.path.join('..', 'data', 'nomis_age_predictions.csv')\n",
    "\n",
    "with open(path_to_file, 'r') as f:\n",
    "    all_lines = f.readlines()"
   ]
  },
  {
   "cell_type": "code",
   "execution_count": 49,
   "id": "ce4c5957-adf0-42df-8efb-c5cf5ffb8f90",
   "metadata": {},
   "outputs": [
    {
     "data": {
      "text/plain": [
       "['\\n',\n",
       " '\"Population projections - local authority based by single year of age\"\\n',\n",
       " '\"ONS Crown Copyright Reserved [from Nomis on 13 March 2025]\"\\n',\n",
       " '\"Projected Year:\",\"2025\"\\n',\n",
       " '\"Gender     :\",\"Total\"\\n',\n",
       " '\\n']"
      ]
     },
     "execution_count": 49,
     "metadata": {},
     "output_type": "execute_result"
    }
   ],
   "source": [
    "all_lines[:6]"
   ]
  },
  {
   "cell_type": "markdown",
   "id": "d5ee64de-2249-4dac-b9aa-ec8dfbd168ef",
   "metadata": {},
   "source": [
    "Remove any empty lines:"
   ]
  },
  {
   "cell_type": "code",
   "execution_count": 50,
   "id": "a6fd85b1-be08-41c2-b0cc-d2e107139e37",
   "metadata": {},
   "outputs": [],
   "source": [
    "all_lines = [a.replace('\\n', '').replace('\"\"', '') for a in all_lines]\n",
    "all_lines = [a for a in all_lines if a != '']"
   ]
  },
  {
   "cell_type": "code",
   "execution_count": 51,
   "id": "2a7b9f43-060a-400b-8781-e73767e4ad21",
   "metadata": {},
   "outputs": [
    {
     "data": {
      "text/plain": [
       "['\"Population projections - local authority based by single year of age\"',\n",
       " '\"ONS Crown Copyright Reserved [from Nomis on 13 March 2025]\"',\n",
       " '\"Projected Year:\",\"2025\"',\n",
       " '\"Gender     :\",\"Total\"',\n",
       " '\"local authority: district / unitary (as of April 2019)\",\"mnemonic\",\"Age 0 - 4\",\"Aged 5-9\",\"Aged 10-14\",\"Aged 15-19\",\"Aged 20-24\",\"Aged 25-29\",\"Aged 30-34\",\"Aged 35-39\",\"Aged 40-44\",\"Aged 45-49\",\"Aged 50-54\",\"Aged 55-59\",\"Aged 60-64\",\"Aged 65-69\",\"Aged 70-74\",\"Aged 75-79\",\"Aged 80-84\",\"Aged 85+\"',\n",
       " '\"Darlington\",\"E06000005\",5241,5739,6660,6263,4744,5847,6454,6678,6699,6302,6842,7605,7583,6532,5523,5405,3514,3475']"
      ]
     },
     "execution_count": 51,
     "metadata": {},
     "output_type": "execute_result"
    }
   ],
   "source": [
    "all_lines[:6]"
   ]
  },
  {
   "cell_type": "markdown",
   "id": "dfb0e680-7656-4d3c-8475-b61a1574a753",
   "metadata": {},
   "source": [
    "## Split apart tables\n",
    "\n",
    "Assume that each new table starts with the string '\"Population projections' and split the lines:"
   ]
  },
  {
   "cell_type": "code",
   "execution_count": 52,
   "id": "d2b670fc-3f48-474a-b3f5-44bd04011833",
   "metadata": {},
   "outputs": [],
   "source": [
    "split_table_lines = []\n",
    "\n",
    "ind_start = 0\n",
    "ind_end = 0\n",
    "for i, line in enumerate(all_lines):\n",
    "    if line.startswith('\"Population projections') | (i == len(all_lines) - 1):\n",
    "        # Start of a new table or end of the last table.\n",
    "        ind_end = i\n",
    "        if ind_end > ind_start:\n",
    "            # If this is the first table, don't store anything above it:\n",
    "            split_table_lines.append(all_lines[ind_start:ind_end])\n",
    "            ind_start = ind_end\n",
    "    else:\n",
    "        pass"
   ]
  },
  {
   "cell_type": "markdown",
   "id": "1b19d013-4561-49aa-bbf9-5233e9eb2b0e",
   "metadata": {},
   "source": [
    "How many tables are there now?"
   ]
  },
  {
   "cell_type": "code",
   "execution_count": 53,
   "id": "1b450ea4-1bfc-4c6d-a543-02cc2ff11d5a",
   "metadata": {},
   "outputs": [
    {
     "data": {
      "text/plain": [
       "4"
      ]
     },
     "execution_count": 53,
     "metadata": {},
     "output_type": "execute_result"
    }
   ],
   "source": [
    "len(split_table_lines)"
   ]
  },
  {
   "cell_type": "markdown",
   "id": "edead0d4-4932-439d-a48b-742d0443a8b6",
   "metadata": {},
   "source": [
    "Check the first few lines of each:"
   ]
  },
  {
   "cell_type": "code",
   "execution_count": 54,
   "id": "a9bc6bdf-bb39-4f2d-9872-9a7df3ad69fd",
   "metadata": {},
   "outputs": [
    {
     "name": "stdout",
     "output_type": "stream",
     "text": [
      "['\"Population projections - local authority based by single year of age\"', '\"ONS Crown Copyright Reserved [from Nomis on 13 March 2025]\"', '\"Projected Year:\",\"2025\"', '\"Gender     :\",\"Total\"', '\"local authority: district / unitary (as of April 2019)\",\"mnemonic\",\"Age 0 - 4\",\"Aged 5-9\",\"Aged 10-14\",\"Aged 15-19\",\"Aged 20-24\",\"Aged 25-29\",\"Aged 30-34\",\"Aged 35-39\",\"Aged 40-44\",\"Aged 45-49\",\"Aged 50-54\",\"Aged 55-59\",\"Aged 60-64\",\"Aged 65-69\",\"Aged 70-74\",\"Aged 75-79\",\"Aged 80-84\",\"Aged 85+\"', '\"Darlington\",\"E06000005\",5241,5739,6660,6263,4744,5847,6454,6678,6699,6302,6842,7605,7583,6532,5523,5405,3514,3475', '\"County Durham\",\"E06000047\",25167,27584,31229,33431,35331,30585,32949,31373,31522,29206,33259,38789,39263,33958,29160,27405,16918,14349', '\"Hartlepool\",\"E06000001\",4636,5321,6015,5797,4511,5337,6077,6082,5745,5140,5711,6469,6798,5839,4826,4320,2474,2597']\n",
      "['\"Population projections - local authority based by single year of age\"', '\"ONS Crown Copyright Reserved [from Nomis on 13 March 2025]\"', '\"Projected Year:\",\"2030\"', '\"Gender     :\",\"Total\"', '\"local authority: district / unitary (as of April 2019)\",\"mnemonic\",\"Age 0 - 4\",\"Aged 5-9\",\"Aged 10-14\",\"Aged 15-19\",\"Aged 20-24\",\"Aged 25-29\",\"Aged 30-34\",\"Aged 35-39\",\"Aged 40-44\",\"Aged 45-49\",\"Aged 50-54\",\"Aged 55-59\",\"Aged 60-64\",\"Aged 65-69\",\"Aged 70-74\",\"Aged 75-79\",\"Aged 80-84\",\"Aged 85+\"', '\"Darlington\",\"E06000005\",5164,5371,5928,6292,5293,5452,5946,6617,6819,6650,6187,6767,7437,7391,6209,5036,4579,3912', '\"County Durham\",\"E06000047\",25322,26562,28728,34845,39924,29581,30235,33246,32141,32182,29978,33752,38772,38294,32019,25751,21572,16434', '\"Hartlepool\",\"E06000001\",4491,4894,5474,5861,5139,4860,5397,6109,6165,5798,5186,5640,6363,6614,5448,4179,3378,2660']\n",
      "['\"Population projections - local authority based by single year of age\"', '\"ONS Crown Copyright Reserved [from Nomis on 13 March 2025]\"', '\"Projected Year:\",\"2035\"', '\"Gender     :\",\"Total\"', '\"local authority: district / unitary (as of April 2019)\",\"mnemonic\",\"Age 0 - 4\",\"Aged 5-9\",\"Aged 10-14\",\"Aged 15-19\",\"Aged 20-24\",\"Aged 25-29\",\"Aged 30-34\",\"Aged 35-39\",\"Aged 40-44\",\"Aged 45-49\",\"Aged 50-54\",\"Aged 55-59\",\"Aged 60-64\",\"Aged 65-69\",\"Aged 70-74\",\"Aged 75-79\",\"Aged 80-84\",\"Aged 85+\"', '\"Darlington\",\"E06000005\",5241,5301,5561,5616,5424,6097,5573,6083,6775,6793,6562,6138,6637,7276,7050,5703,4321,4934', '\"County Durham\",\"E06000047\",26034,26664,27624,32331,41264,33213,29064,30536,33838,32926,32979,30548,33925,37904,36253,28517,20526,20689', '\"Hartlepool\",\"E06000001\",4552,4759,5058,5344,5260,5502,4963,5458,6204,6195,5831,5139,5572,6236,6194,4753,3311,3334']\n",
      "['\"Population projections - local authority based by single year of age\"', '\"ONS Crown Copyright Reserved [from Nomis on 13 March 2025]\"', '\"Projected Year:\",\"2040\"', '\"Gender     :\",\"Total\"', '\"local authority: district / unitary (as of April 2019)\",\"mnemonic\",\"Age 0 - 4\",\"Aged 5-9\",\"Aged 10-14\",\"Aged 15-19\",\"Aged 20-24\",\"Aged 25-29\",\"Aged 30-34\",\"Aged 35-39\",\"Aged 40-44\",\"Aged 45-49\",\"Aged 50-54\",\"Aged 55-59\",\"Aged 60-64\",\"Aged 65-69\",\"Aged 70-74\",\"Aged 75-79\",\"Aged 80-84\",\"Aged 85+\"', '\"Darlington\",\"E06000005\",5418,5379,5494,5299,4980,6281,6241,5716,6229,6765,6717,6536,6041,6518,6971,6515,4950,5328', '\"County Durham\",\"E06000047\",27094,27349,27690,30951,38613,34449,32561,29260,31110,34507,33829,33578,30845,33340,36007,32506,23048,22249', '\"Hartlepool\",\"E06000001\",4696,4824,4932,4970,4856,5655,5604,5049,5570,6246,6218,5769,5100,5488,5881,5443,3813,3675']\n"
     ]
    }
   ],
   "source": [
    "for i, lines in enumerate(split_table_lines):\n",
    "    print(lines[:8])"
   ]
  },
  {
   "cell_type": "markdown",
   "id": "f0b4ed7f-6dd8-4b45-9bfb-b71c3e662601",
   "metadata": {},
   "source": [
    "And the final few lines:"
   ]
  },
  {
   "cell_type": "code",
   "execution_count": 55,
   "id": "3c7919a2-b31e-4c81-974c-250eb8414ec8",
   "metadata": {},
   "outputs": [
    {
     "name": "stdout",
     "output_type": "stream",
     "text": [
      "['\"Forest of Dean\",\"E07000080\",4268,4843,5171,5545,3885,4095,4512,4858,5027,4795,5943,7307,7432,6395,5745,5524,3558,2816', '\"Gloucester\",\"E07000081\",7688,7732,8367,8189,7604,8276,8839,9059,8816,7944,8252,8947,8460,6892,5545,5366,3707,3482', '\"Stroud\",\"E07000082\",5667,6584,7720,7099,4720,5631,6190,7132,7612,7660,9128,9815,9507,8073,7099,6873,4449,3779', '\"Tewkesbury\",\"E07000083\",5779,6274,6425,5519,3693,5223,6181,7118,6793,6129,6571,7356,7115,6239,5549,5308,3632,3177', '\"Mendip\",\"E07000187\",5606,6411,7495,7302,4213,5379,5983,6849,6961,6817,8115,9432,9343,7971,7230,7000,4566,4193', '\"Sedgemoor\",\"E07000188\",6123,6833,7789,7131,5153,6185,6827,7268,7187,6907,8225,9678,9761,8452,7694,7445,4988,4687', '\"South Somerset\",\"E07000189\",7879,8975,10024,9468,6597,8085,8805,9522,9124,8924,10801,12777,13438,12000,11271,11170,7205,6438', '\"Somerset West and Taunton\",\"E07000246\",7314,8329,9520,8770,6228,7812,8508,8995,9235,8826,10259,12235,12844,11703,10610,10119,6920,6742', ',\"Figures may not sum because of rounding.\"', ',']\n",
      "['\"Forest of Dean\",\"E07000080\",4360,4812,5178,5972,4341,3831,4305,5055,5470,5466,5209,6380,7703,7539,6149,5212,4555,3433', '\"Gloucester\",\"E07000081\",7709,7381,7610,8629,8556,7950,8666,8832,9008,8742,7789,8045,8615,7964,6401,5083,4535,4208', '\"Stroud\",\"E07000082\",5771,6500,7239,7361,5344,5338,6075,7180,8129,8235,8076,9380,9906,9343,7735,6416,5727,4483', '\"Tewkesbury\",\"E07000083\",5948,6346,6471,6232,4277,5010,6072,7199,7495,7068,6362,6878,7496,7397,6171,5184,4549,3833', '\"Mendip\",\"E07000187\",5600,6201,7200,7595,4753,4901,5748,6821,7530,7457,7331,8489,9610,9493,7813,6691,5986,5105', '\"Sedgemoor\",\"E07000188\",6169,6603,7274,7565,5763,5684,6582,7302,7788,7662,7403,8639,9928,9894,8212,7089,6297,5703', '\"South Somerset\",\"E07000189\",7717,8450,9420,9626,7410,7463,8352,9075,9806,9497,9452,11556,13588,13978,11972,10518,9263,7749', '\"Somerset West and Taunton\",\"E07000246\",7345,8031,8965,9406,7093,7316,8118,8975,9776,9914,9592,11309,13301,13689,11711,9952,8832,8154', ',\"Figures may not sum because of rounding.\"', ',']\n",
      "['\"Forest of Dean\",\"E07000080\",4486,4900,5133,5883,4602,4287,4046,4841,5658,5910,5890,5671,6812,7805,7255,5629,4340,4396', '\"Gloucester\",\"E07000081\",7941,7411,7296,7926,9027,8961,8309,8619,8851,8976,8555,7594,7799,8131,7430,5875,4344,5231', '\"Stroud\",\"E07000082\",5911,6614,7137,6909,5618,6036,5782,7007,8211,8750,8697,8413,9448,9728,8980,7037,5400,5746', '\"Tewkesbury\",\"E07000083\",6115,6480,6474,6170,4698,5696,5813,7008,7539,7682,7229,6632,7005,7751,7315,5790,4462,4815', '\"Mendip\",\"E07000187\",5665,6204,6956,7245,4988,5532,5335,6532,7540,8003,7979,7740,8726,9762,9298,7286,5758,6596', '\"Sedgemoor\",\"E07000188\",6359,6655,7035,7065,6126,6380,6114,7030,7848,8252,8171,7861,8953,10083,9630,7626,6039,7221', '\"South Somerset\",\"E07000189\",7770,8310,8903,9048,7656,8375,7770,8607,9427,10149,10068,10276,12402,14178,13978,11285,8792,9918', '\"Somerset West and Taunton\",\"E07000246\",7509,8059,8646,8837,7576,8284,7634,8559,9774,10465,10687,10607,12357,14171,13725,11045,8721,10400', ',\"Figures may not sum because of rounding.\"', ',']\n",
      "['\"Cotswold\",\"E07000079\",4787,5318,5586,5347,4694,4280,4543,5032,6181,6818,7210,7250,7076,7934,8525,7939,5983,6513', '\"Forest of Dean\",\"E07000080\",4714,5035,5221,5803,4464,4527,4534,4565,5430,6087,6335,6366,6137,6969,7522,6669,4747,4724', '\"Gloucester\",\"E07000081\",8333,7619,7331,7630,8452,9447,9369,8264,8618,8861,8809,8334,7385,7401,7617,6858,5054,5691', '\"Stroud\",\"E07000082\",6190,6775,7256,6822,5306,6323,6527,6684,7991,8841,9207,9074,8573,9279,9354,8216,5995,6084', '\"Tewkesbury\",\"E07000083\",6447,6645,6584,6152,4562,6083,6571,6708,7317,7713,7774,7449,6731,7255,7648,6877,5032,5253', '\"Mendip\",\"E07000187\",5874,6285,6962,7024,4752,5784,6008,6124,7216,8039,8513,8392,8029,8940,9576,8689,6339,7258', '\"Sedgemoor\",\"E07000188\",6634,6844,7089,6858,5760,6738,6870,6579,7552,8328,8754,8645,8236,9172,9846,8982,6572,7867', '\"South Somerset\",\"E07000189\",8061,8382,8782,8599,7231,8689,8712,8044,8945,9823,10693,10952,11196,13036,14230,13230,9565,10743', '\"Somerset West and Taunton\",\"E07000246\",7853,8229,8669,8560,7149,8747,8625,8064,9322,10471,11248,11724,11637,13224,14222,12998,9777,11583', ',\"Figures may not sum because of rounding.\"']\n"
     ]
    }
   ],
   "source": [
    "for i, lines in enumerate(split_table_lines):\n",
    "    print(lines[-10:])"
   ]
  },
  {
   "cell_type": "markdown",
   "id": "e03bc92a-e62d-4ad0-ba91-f426095f4ad5",
   "metadata": {},
   "source": [
    "## Mark headers and footers as comments"
   ]
  },
  {
   "cell_type": "code",
   "execution_count": 56,
   "id": "16060892-8900-495e-9d3e-a06b7e101eec",
   "metadata": {},
   "outputs": [],
   "source": [
    "footer_start_str = ',\"Figures may not sum because of rounding.\"'\n",
    "header_end_str = '\"Gender     :\",\"Total\"'"
   ]
  },
  {
   "cell_type": "code",
   "execution_count": 57,
   "id": "20e10d06-e953-4727-a396-9c0133c16ad2",
   "metadata": {},
   "outputs": [],
   "source": [
    "for i, lines in enumerate(split_table_lines):\n",
    "    for ip, p in enumerate(lines):\n",
    "        if p.startswith(header_end_str):\n",
    "            ind_header_end = ip\n",
    "        elif p.startswith(footer_start_str):\n",
    "            ind_footer_start = ip\n",
    "    lines[:ind_header_end+1] = [f'# {p}' for p in lines[:ind_header_end+1]]\n",
    "    lines[ind_footer_start:] = [f'# {p}' for p in lines[ind_footer_start:]]"
   ]
  },
  {
   "cell_type": "markdown",
   "id": "4066d644-979b-4d20-bee9-fe283b6b3715",
   "metadata": {},
   "source": [
    "Check the first few lines of each:"
   ]
  },
  {
   "cell_type": "code",
   "execution_count": 61,
   "id": "4d6dedf2-9f9e-4ef7-8daa-35fe20d3152f",
   "metadata": {},
   "outputs": [
    {
     "name": "stdout",
     "output_type": "stream",
     "text": [
      "['# \"Population projections - local authority based by single year of age\"', '# \"ONS Crown Copyright Reserved [from Nomis on 13 March 2025]\"', '# \"Projected Year:\",\"2025\"', '# \"Gender     :\",\"Total\"', '\"local authority: district / unitary (as of April 2019)\",\"mnemonic\",\"Age 0 - 4\",\"Aged 5-9\",\"Aged 10-14\",\"Aged 15-19\",\"Aged 20-24\",\"Aged 25-29\",\"Aged 30-34\",\"Aged 35-39\",\"Aged 40-44\",\"Aged 45-49\",\"Aged 50-54\",\"Aged 55-59\",\"Aged 60-64\",\"Aged 65-69\",\"Aged 70-74\",\"Aged 75-79\",\"Aged 80-84\",\"Aged 85+\"', '\"Darlington\",\"E06000005\",5241,5739,6660,6263,4744,5847,6454,6678,6699,6302,6842,7605,7583,6532,5523,5405,3514,3475']\n",
      "['# \"Population projections - local authority based by single year of age\"', '# \"ONS Crown Copyright Reserved [from Nomis on 13 March 2025]\"', '# \"Projected Year:\",\"2030\"', '# \"Gender     :\",\"Total\"', '\"local authority: district / unitary (as of April 2019)\",\"mnemonic\",\"Age 0 - 4\",\"Aged 5-9\",\"Aged 10-14\",\"Aged 15-19\",\"Aged 20-24\",\"Aged 25-29\",\"Aged 30-34\",\"Aged 35-39\",\"Aged 40-44\",\"Aged 45-49\",\"Aged 50-54\",\"Aged 55-59\",\"Aged 60-64\",\"Aged 65-69\",\"Aged 70-74\",\"Aged 75-79\",\"Aged 80-84\",\"Aged 85+\"', '\"Darlington\",\"E06000005\",5164,5371,5928,6292,5293,5452,5946,6617,6819,6650,6187,6767,7437,7391,6209,5036,4579,3912']\n",
      "['# \"Population projections - local authority based by single year of age\"', '# \"ONS Crown Copyright Reserved [from Nomis on 13 March 2025]\"', '# \"Projected Year:\",\"2035\"', '# \"Gender     :\",\"Total\"', '\"local authority: district / unitary (as of April 2019)\",\"mnemonic\",\"Age 0 - 4\",\"Aged 5-9\",\"Aged 10-14\",\"Aged 15-19\",\"Aged 20-24\",\"Aged 25-29\",\"Aged 30-34\",\"Aged 35-39\",\"Aged 40-44\",\"Aged 45-49\",\"Aged 50-54\",\"Aged 55-59\",\"Aged 60-64\",\"Aged 65-69\",\"Aged 70-74\",\"Aged 75-79\",\"Aged 80-84\",\"Aged 85+\"', '\"Darlington\",\"E06000005\",5241,5301,5561,5616,5424,6097,5573,6083,6775,6793,6562,6138,6637,7276,7050,5703,4321,4934']\n",
      "['# \"Population projections - local authority based by single year of age\"', '# \"ONS Crown Copyright Reserved [from Nomis on 13 March 2025]\"', '# \"Projected Year:\",\"2040\"', '# \"Gender     :\",\"Total\"', '\"local authority: district / unitary (as of April 2019)\",\"mnemonic\",\"Age 0 - 4\",\"Aged 5-9\",\"Aged 10-14\",\"Aged 15-19\",\"Aged 20-24\",\"Aged 25-29\",\"Aged 30-34\",\"Aged 35-39\",\"Aged 40-44\",\"Aged 45-49\",\"Aged 50-54\",\"Aged 55-59\",\"Aged 60-64\",\"Aged 65-69\",\"Aged 70-74\",\"Aged 75-79\",\"Aged 80-84\",\"Aged 85+\"', '\"Darlington\",\"E06000005\",5418,5379,5494,5299,4980,6281,6241,5716,6229,6765,6717,6536,6041,6518,6971,6515,4950,5328']\n"
     ]
    }
   ],
   "source": [
    "for i, lines in enumerate(split_table_lines):\n",
    "    print(lines[:6])"
   ]
  },
  {
   "cell_type": "markdown",
   "id": "cd278175-4c93-48c0-ba6b-00bce2b0f004",
   "metadata": {},
   "source": [
    "And the final few lines:"
   ]
  },
  {
   "cell_type": "code",
   "execution_count": 62,
   "id": "f3e71588-4fa8-4292-a895-7d12d184c363",
   "metadata": {},
   "outputs": [
    {
     "name": "stdout",
     "output_type": "stream",
     "text": [
      "['\"Somerset West and Taunton\",\"E07000246\",7314,8329,9520,8770,6228,7812,8508,8995,9235,8826,10259,12235,12844,11703,10610,10119,6920,6742', '# ,\"Figures may not sum because of rounding.\"', '# ,']\n",
      "['\"Somerset West and Taunton\",\"E07000246\",7345,8031,8965,9406,7093,7316,8118,8975,9776,9914,9592,11309,13301,13689,11711,9952,8832,8154', '# ,\"Figures may not sum because of rounding.\"', '# ,']\n",
      "['\"Somerset West and Taunton\",\"E07000246\",7509,8059,8646,8837,7576,8284,7634,8559,9774,10465,10687,10607,12357,14171,13725,11045,8721,10400', '# ,\"Figures may not sum because of rounding.\"', '# ,']\n",
      "['\"South Somerset\",\"E07000189\",8061,8382,8782,8599,7231,8689,8712,8044,8945,9823,10693,10952,11196,13036,14230,13230,9565,10743', '\"Somerset West and Taunton\",\"E07000246\",7853,8229,8669,8560,7149,8747,8625,8064,9322,10471,11248,11724,11637,13224,14222,12998,9777,11583', '# ,\"Figures may not sum because of rounding.\"']\n"
     ]
    }
   ],
   "source": [
    "for i, lines in enumerate(split_table_lines):\n",
    "    print(lines[-3:])"
   ]
  },
  {
   "cell_type": "markdown",
   "id": "9fa49182-5c87-4bf0-a280-6042022baf7c",
   "metadata": {},
   "source": [
    "## Label the tables\n",
    "\n",
    "Pick out the projected year from the table lines and store the year and lines in a dict:"
   ]
  },
  {
   "cell_type": "code",
   "execution_count": 65,
   "id": "57282e54-ad6a-4433-8395-791fbf66a793",
   "metadata": {},
   "outputs": [],
   "source": [
    "label_str = 'Projected Year'\n",
    "\n",
    "dict_split_table_lines = {}\n",
    "\n",
    "for i, lines in enumerate(split_table_lines):\n",
    "    for p in lines:\n",
    "        if label_str in p:\n",
    "            label = p.split('Year:\",\"')[1].replace('\"', '')\n",
    "            dict_split_table_lines[label] = lines"
   ]
  },
  {
   "cell_type": "code",
   "execution_count": 66,
   "id": "d563b36b-dbc6-4f4e-a30f-dcb234e35fa2",
   "metadata": {},
   "outputs": [
    {
     "data": {
      "text/plain": [
       "dict_keys(['2025', '2030', '2035', '2040'])"
      ]
     },
     "execution_count": 66,
     "metadata": {},
     "output_type": "execute_result"
    }
   ],
   "source": [
    "dict_split_table_lines.keys()"
   ]
  },
  {
   "cell_type": "markdown",
   "id": "0484f6f4-bb49-46c2-a0c4-3b4aed038a35",
   "metadata": {},
   "source": [
    "## Save results"
   ]
  },
  {
   "cell_type": "code",
   "execution_count": 67,
   "id": "c319ed84-6cdb-4c6c-80ae-79e5414f004b",
   "metadata": {},
   "outputs": [],
   "source": [
    "for label, lines in dict_split_table_lines.items():\n",
    "    path_to_out = os.path.join('..', 'data', f'nomis_age_predictions_{label}.csv')\n",
    "    with open(path_to_out, 'w') as f:\n",
    "        # Place linebreaks back in with '\\n':\n",
    "        f.writelines([f'{p}\\n' for p in lines])"
   ]
  },
  {
   "cell_type": "markdown",
   "id": "3716be5c-043c-4523-805d-fb578e487ec7",
   "metadata": {},
   "source": [
    "## Check results by loading in new data:"
   ]
  },
  {
   "cell_type": "code",
   "execution_count": 69,
   "id": "70922c76-a974-4797-b399-2d94e7681dcc",
   "metadata": {},
   "outputs": [],
   "source": [
    "dict_dfs_check = {}\n",
    "\n",
    "for label in list(dict_split_table_lines.keys()):\n",
    "    df = pl.read_csv(os.path.join('..', 'data', f'nomis_age_predictions_{label}.csv'), comment_prefix='#')\n",
    "    dict_dfs_check[label] = df"
   ]
  },
  {
   "cell_type": "code",
   "execution_count": 70,
   "id": "9715e676-6c3a-4c45-adb6-5ec31f9717cb",
   "metadata": {},
   "outputs": [
    {
     "data": {
      "text/html": [
       "<div><style>\n",
       ".dataframe > thead > tr,\n",
       ".dataframe > tbody > tr {\n",
       "  text-align: right;\n",
       "  white-space: pre-wrap;\n",
       "}\n",
       "</style>\n",
       "<small>shape: (317, 20)</small><table border=\"1\" class=\"dataframe\"><thead><tr><th>local authority: district / unitary (as of April 2019)</th><th>mnemonic</th><th>Age 0 - 4</th><th>Aged 5-9</th><th>Aged 10-14</th><th>Aged 15-19</th><th>Aged 20-24</th><th>Aged 25-29</th><th>Aged 30-34</th><th>Aged 35-39</th><th>Aged 40-44</th><th>Aged 45-49</th><th>Aged 50-54</th><th>Aged 55-59</th><th>Aged 60-64</th><th>Aged 65-69</th><th>Aged 70-74</th><th>Aged 75-79</th><th>Aged 80-84</th><th>Aged 85+</th></tr><tr><td>str</td><td>str</td><td>i64</td><td>i64</td><td>i64</td><td>i64</td><td>i64</td><td>i64</td><td>i64</td><td>i64</td><td>i64</td><td>i64</td><td>i64</td><td>i64</td><td>i64</td><td>i64</td><td>i64</td><td>i64</td><td>i64</td><td>i64</td></tr></thead><tbody><tr><td>&quot;Darlington&quot;</td><td>&quot;E06000005&quot;</td><td>5241</td><td>5739</td><td>6660</td><td>6263</td><td>4744</td><td>5847</td><td>6454</td><td>6678</td><td>6699</td><td>6302</td><td>6842</td><td>7605</td><td>7583</td><td>6532</td><td>5523</td><td>5405</td><td>3514</td><td>3475</td></tr><tr><td>&quot;County Durham&quot;</td><td>&quot;E06000047&quot;</td><td>25167</td><td>27584</td><td>31229</td><td>33431</td><td>35331</td><td>30585</td><td>32949</td><td>31373</td><td>31522</td><td>29206</td><td>33259</td><td>38789</td><td>39263</td><td>33958</td><td>29160</td><td>27405</td><td>16918</td><td>14349</td></tr><tr><td>&quot;Hartlepool&quot;</td><td>&quot;E06000001&quot;</td><td>4636</td><td>5321</td><td>6015</td><td>5797</td><td>4511</td><td>5337</td><td>6077</td><td>6082</td><td>5745</td><td>5140</td><td>5711</td><td>6469</td><td>6798</td><td>5839</td><td>4826</td><td>4320</td><td>2474</td><td>2597</td></tr><tr><td>&quot;Middlesbrough&quot;</td><td>&quot;E06000002&quot;</td><td>8754</td><td>9036</td><td>9370</td><td>9283</td><td>10458</td><td>9696</td><td>9778</td><td>8633</td><td>7931</td><td>7004</td><td>7536</td><td>8131</td><td>8700</td><td>7562</td><td>6090</td><td>5374</td><td>3386</td><td>3038</td></tr><tr><td>&quot;Northumberland&quot;</td><td>&quot;E06000057&quot;</td><td>13735</td><td>15957</td><td>17447</td><td>16703</td><td>12613</td><td>15188</td><td>17023</td><td>18670</td><td>18953</td><td>18359</td><td>20978</td><td>24732</td><td>27325</td><td>25205</td><td>21489</td><td>20413</td><td>12574</td><td>11055</td></tr><tr><td>&hellip;</td><td>&hellip;</td><td>&hellip;</td><td>&hellip;</td><td>&hellip;</td><td>&hellip;</td><td>&hellip;</td><td>&hellip;</td><td>&hellip;</td><td>&hellip;</td><td>&hellip;</td><td>&hellip;</td><td>&hellip;</td><td>&hellip;</td><td>&hellip;</td><td>&hellip;</td><td>&hellip;</td><td>&hellip;</td><td>&hellip;</td><td>&hellip;</td></tr><tr><td>&quot;Tewkesbury&quot;</td><td>&quot;E07000083&quot;</td><td>5779</td><td>6274</td><td>6425</td><td>5519</td><td>3693</td><td>5223</td><td>6181</td><td>7118</td><td>6793</td><td>6129</td><td>6571</td><td>7356</td><td>7115</td><td>6239</td><td>5549</td><td>5308</td><td>3632</td><td>3177</td></tr><tr><td>&quot;Mendip&quot;</td><td>&quot;E07000187&quot;</td><td>5606</td><td>6411</td><td>7495</td><td>7302</td><td>4213</td><td>5379</td><td>5983</td><td>6849</td><td>6961</td><td>6817</td><td>8115</td><td>9432</td><td>9343</td><td>7971</td><td>7230</td><td>7000</td><td>4566</td><td>4193</td></tr><tr><td>&quot;Sedgemoor&quot;</td><td>&quot;E07000188&quot;</td><td>6123</td><td>6833</td><td>7789</td><td>7131</td><td>5153</td><td>6185</td><td>6827</td><td>7268</td><td>7187</td><td>6907</td><td>8225</td><td>9678</td><td>9761</td><td>8452</td><td>7694</td><td>7445</td><td>4988</td><td>4687</td></tr><tr><td>&quot;South Somerset&quot;</td><td>&quot;E07000189&quot;</td><td>7879</td><td>8975</td><td>10024</td><td>9468</td><td>6597</td><td>8085</td><td>8805</td><td>9522</td><td>9124</td><td>8924</td><td>10801</td><td>12777</td><td>13438</td><td>12000</td><td>11271</td><td>11170</td><td>7205</td><td>6438</td></tr><tr><td>&quot;Somerset West and Taunton&quot;</td><td>&quot;E07000246&quot;</td><td>7314</td><td>8329</td><td>9520</td><td>8770</td><td>6228</td><td>7812</td><td>8508</td><td>8995</td><td>9235</td><td>8826</td><td>10259</td><td>12235</td><td>12844</td><td>11703</td><td>10610</td><td>10119</td><td>6920</td><td>6742</td></tr></tbody></table></div>"
      ],
      "text/plain": [
       "shape: (317, 20)\n",
       "┌─────────────┬───────────┬───────────┬──────────┬───┬───────┬─────────────┬────────────┬──────────┐\n",
       "│ local       ┆ mnemonic  ┆ Age 0 - 4 ┆ Aged 5-9 ┆ … ┆ Aged  ┆ Aged 75-79  ┆ Aged 80-84 ┆ Aged 85+ │\n",
       "│ authority:  ┆ ---       ┆ ---       ┆ ---      ┆   ┆ 70-74 ┆ ---         ┆ ---        ┆ ---      │\n",
       "│ district /  ┆ str       ┆ i64       ┆ i64      ┆   ┆ ---   ┆ i64         ┆ i64        ┆ i64      │\n",
       "│ un…         ┆           ┆           ┆          ┆   ┆ i64   ┆             ┆            ┆          │\n",
       "│ ---         ┆           ┆           ┆          ┆   ┆       ┆             ┆            ┆          │\n",
       "│ str         ┆           ┆           ┆          ┆   ┆       ┆             ┆            ┆          │\n",
       "╞═════════════╪═══════════╪═══════════╪══════════╪═══╪═══════╪═════════════╪════════════╪══════════╡\n",
       "│ Darlington  ┆ E06000005 ┆ 5241      ┆ 5739     ┆ … ┆ 5523  ┆ 5405        ┆ 3514       ┆ 3475     │\n",
       "│ County      ┆ E06000047 ┆ 25167     ┆ 27584    ┆ … ┆ 29160 ┆ 27405       ┆ 16918      ┆ 14349    │\n",
       "│ Durham      ┆           ┆           ┆          ┆   ┆       ┆             ┆            ┆          │\n",
       "│ Hartlepool  ┆ E06000001 ┆ 4636      ┆ 5321     ┆ … ┆ 4826  ┆ 4320        ┆ 2474       ┆ 2597     │\n",
       "│ Middlesbrou ┆ E06000002 ┆ 8754      ┆ 9036     ┆ … ┆ 6090  ┆ 5374        ┆ 3386       ┆ 3038     │\n",
       "│ gh          ┆           ┆           ┆          ┆   ┆       ┆             ┆            ┆          │\n",
       "│ Northumberl ┆ E06000057 ┆ 13735     ┆ 15957    ┆ … ┆ 21489 ┆ 20413       ┆ 12574      ┆ 11055    │\n",
       "│ and         ┆           ┆           ┆          ┆   ┆       ┆             ┆            ┆          │\n",
       "│ …           ┆ …         ┆ …         ┆ …        ┆ … ┆ …     ┆ …           ┆ …          ┆ …        │\n",
       "│ Tewkesbury  ┆ E07000083 ┆ 5779      ┆ 6274     ┆ … ┆ 5549  ┆ 5308        ┆ 3632       ┆ 3177     │\n",
       "│ Mendip      ┆ E07000187 ┆ 5606      ┆ 6411     ┆ … ┆ 7230  ┆ 7000        ┆ 4566       ┆ 4193     │\n",
       "│ Sedgemoor   ┆ E07000188 ┆ 6123      ┆ 6833     ┆ … ┆ 7694  ┆ 7445        ┆ 4988       ┆ 4687     │\n",
       "│ South       ┆ E07000189 ┆ 7879      ┆ 8975     ┆ … ┆ 11271 ┆ 11170       ┆ 7205       ┆ 6438     │\n",
       "│ Somerset    ┆           ┆           ┆          ┆   ┆       ┆             ┆            ┆          │\n",
       "│ Somerset    ┆ E07000246 ┆ 7314      ┆ 8329     ┆ … ┆ 10610 ┆ 10119       ┆ 6920       ┆ 6742     │\n",
       "│ West and    ┆           ┆           ┆          ┆   ┆       ┆             ┆            ┆          │\n",
       "│ Taunton     ┆           ┆           ┆          ┆   ┆       ┆             ┆            ┆          │\n",
       "└─────────────┴───────────┴───────────┴──────────┴───┴───────┴─────────────┴────────────┴──────────┘"
      ]
     },
     "execution_count": 70,
     "metadata": {},
     "output_type": "execute_result"
    }
   ],
   "source": [
    "dict_dfs_check['2025']"
   ]
  },
  {
   "cell_type": "code",
   "execution_count": 71,
   "id": "46d1d7b5-4db6-4e55-bf6c-0b162a6fc60a",
   "metadata": {},
   "outputs": [
    {
     "data": {
      "text/html": [
       "<div><style>\n",
       ".dataframe > thead > tr,\n",
       ".dataframe > tbody > tr {\n",
       "  text-align: right;\n",
       "  white-space: pre-wrap;\n",
       "}\n",
       "</style>\n",
       "<small>shape: (317, 20)</small><table border=\"1\" class=\"dataframe\"><thead><tr><th>local authority: district / unitary (as of April 2019)</th><th>mnemonic</th><th>Age 0 - 4</th><th>Aged 5-9</th><th>Aged 10-14</th><th>Aged 15-19</th><th>Aged 20-24</th><th>Aged 25-29</th><th>Aged 30-34</th><th>Aged 35-39</th><th>Aged 40-44</th><th>Aged 45-49</th><th>Aged 50-54</th><th>Aged 55-59</th><th>Aged 60-64</th><th>Aged 65-69</th><th>Aged 70-74</th><th>Aged 75-79</th><th>Aged 80-84</th><th>Aged 85+</th></tr><tr><td>str</td><td>str</td><td>i64</td><td>i64</td><td>i64</td><td>i64</td><td>i64</td><td>i64</td><td>i64</td><td>i64</td><td>i64</td><td>i64</td><td>i64</td><td>i64</td><td>i64</td><td>i64</td><td>i64</td><td>i64</td><td>i64</td><td>i64</td></tr></thead><tbody><tr><td>&quot;Darlington&quot;</td><td>&quot;E06000005&quot;</td><td>5418</td><td>5379</td><td>5494</td><td>5299</td><td>4980</td><td>6281</td><td>6241</td><td>5716</td><td>6229</td><td>6765</td><td>6717</td><td>6536</td><td>6041</td><td>6518</td><td>6971</td><td>6515</td><td>4950</td><td>5328</td></tr><tr><td>&quot;County Durham&quot;</td><td>&quot;E06000047&quot;</td><td>27094</td><td>27349</td><td>27690</td><td>30951</td><td>38613</td><td>34449</td><td>32561</td><td>29260</td><td>31110</td><td>34507</td><td>33829</td><td>33578</td><td>30845</td><td>33340</td><td>36007</td><td>32506</td><td>23048</td><td>22249</td></tr><tr><td>&quot;Hartlepool&quot;</td><td>&quot;E06000001&quot;</td><td>4696</td><td>4824</td><td>4932</td><td>4970</td><td>4856</td><td>5655</td><td>5604</td><td>5049</td><td>5570</td><td>6246</td><td>6218</td><td>5769</td><td>5100</td><td>5488</td><td>5881</td><td>5443</td><td>3813</td><td>3675</td></tr><tr><td>&quot;Middlesbrough&quot;</td><td>&quot;E06000002&quot;</td><td>8976</td><td>8443</td><td>8005</td><td>8605</td><td>11277</td><td>10481</td><td>9160</td><td>7443</td><td>7582</td><td>8037</td><td>7733</td><td>7194</td><td>6394</td><td>6592</td><td>6808</td><td>6619</td><td>4989</td><td>4429</td></tr><tr><td>&quot;Northumberland&quot;</td><td>&quot;E06000057&quot;</td><td>13944</td><td>14871</td><td>15607</td><td>15067</td><td>13319</td><td>15738</td><td>16345</td><td>16333</td><td>18632</td><td>20892</td><td>21731</td><td>22217</td><td>21783</td><td>24155</td><td>25801</td><td>24591</td><td>18416</td><td>18631</td></tr><tr><td>&hellip;</td><td>&hellip;</td><td>&hellip;</td><td>&hellip;</td><td>&hellip;</td><td>&hellip;</td><td>&hellip;</td><td>&hellip;</td><td>&hellip;</td><td>&hellip;</td><td>&hellip;</td><td>&hellip;</td><td>&hellip;</td><td>&hellip;</td><td>&hellip;</td><td>&hellip;</td><td>&hellip;</td><td>&hellip;</td><td>&hellip;</td><td>&hellip;</td></tr><tr><td>&quot;Tewkesbury&quot;</td><td>&quot;E07000083&quot;</td><td>6447</td><td>6645</td><td>6584</td><td>6152</td><td>4562</td><td>6083</td><td>6571</td><td>6708</td><td>7317</td><td>7713</td><td>7774</td><td>7449</td><td>6731</td><td>7255</td><td>7648</td><td>6877</td><td>5032</td><td>5253</td></tr><tr><td>&quot;Mendip&quot;</td><td>&quot;E07000187&quot;</td><td>5874</td><td>6285</td><td>6962</td><td>7024</td><td>4752</td><td>5784</td><td>6008</td><td>6124</td><td>7216</td><td>8039</td><td>8513</td><td>8392</td><td>8029</td><td>8940</td><td>9576</td><td>8689</td><td>6339</td><td>7258</td></tr><tr><td>&quot;Sedgemoor&quot;</td><td>&quot;E07000188&quot;</td><td>6634</td><td>6844</td><td>7089</td><td>6858</td><td>5760</td><td>6738</td><td>6870</td><td>6579</td><td>7552</td><td>8328</td><td>8754</td><td>8645</td><td>8236</td><td>9172</td><td>9846</td><td>8982</td><td>6572</td><td>7867</td></tr><tr><td>&quot;South Somerset&quot;</td><td>&quot;E07000189&quot;</td><td>8061</td><td>8382</td><td>8782</td><td>8599</td><td>7231</td><td>8689</td><td>8712</td><td>8044</td><td>8945</td><td>9823</td><td>10693</td><td>10952</td><td>11196</td><td>13036</td><td>14230</td><td>13230</td><td>9565</td><td>10743</td></tr><tr><td>&quot;Somerset West and Taunton&quot;</td><td>&quot;E07000246&quot;</td><td>7853</td><td>8229</td><td>8669</td><td>8560</td><td>7149</td><td>8747</td><td>8625</td><td>8064</td><td>9322</td><td>10471</td><td>11248</td><td>11724</td><td>11637</td><td>13224</td><td>14222</td><td>12998</td><td>9777</td><td>11583</td></tr></tbody></table></div>"
      ],
      "text/plain": [
       "shape: (317, 20)\n",
       "┌─────────────┬───────────┬───────────┬──────────┬───┬───────┬─────────────┬────────────┬──────────┐\n",
       "│ local       ┆ mnemonic  ┆ Age 0 - 4 ┆ Aged 5-9 ┆ … ┆ Aged  ┆ Aged 75-79  ┆ Aged 80-84 ┆ Aged 85+ │\n",
       "│ authority:  ┆ ---       ┆ ---       ┆ ---      ┆   ┆ 70-74 ┆ ---         ┆ ---        ┆ ---      │\n",
       "│ district /  ┆ str       ┆ i64       ┆ i64      ┆   ┆ ---   ┆ i64         ┆ i64        ┆ i64      │\n",
       "│ un…         ┆           ┆           ┆          ┆   ┆ i64   ┆             ┆            ┆          │\n",
       "│ ---         ┆           ┆           ┆          ┆   ┆       ┆             ┆            ┆          │\n",
       "│ str         ┆           ┆           ┆          ┆   ┆       ┆             ┆            ┆          │\n",
       "╞═════════════╪═══════════╪═══════════╪══════════╪═══╪═══════╪═════════════╪════════════╪══════════╡\n",
       "│ Darlington  ┆ E06000005 ┆ 5418      ┆ 5379     ┆ … ┆ 6971  ┆ 6515        ┆ 4950       ┆ 5328     │\n",
       "│ County      ┆ E06000047 ┆ 27094     ┆ 27349    ┆ … ┆ 36007 ┆ 32506       ┆ 23048      ┆ 22249    │\n",
       "│ Durham      ┆           ┆           ┆          ┆   ┆       ┆             ┆            ┆          │\n",
       "│ Hartlepool  ┆ E06000001 ┆ 4696      ┆ 4824     ┆ … ┆ 5881  ┆ 5443        ┆ 3813       ┆ 3675     │\n",
       "│ Middlesbrou ┆ E06000002 ┆ 8976      ┆ 8443     ┆ … ┆ 6808  ┆ 6619        ┆ 4989       ┆ 4429     │\n",
       "│ gh          ┆           ┆           ┆          ┆   ┆       ┆             ┆            ┆          │\n",
       "│ Northumberl ┆ E06000057 ┆ 13944     ┆ 14871    ┆ … ┆ 25801 ┆ 24591       ┆ 18416      ┆ 18631    │\n",
       "│ and         ┆           ┆           ┆          ┆   ┆       ┆             ┆            ┆          │\n",
       "│ …           ┆ …         ┆ …         ┆ …        ┆ … ┆ …     ┆ …           ┆ …          ┆ …        │\n",
       "│ Tewkesbury  ┆ E07000083 ┆ 6447      ┆ 6645     ┆ … ┆ 7648  ┆ 6877        ┆ 5032       ┆ 5253     │\n",
       "│ Mendip      ┆ E07000187 ┆ 5874      ┆ 6285     ┆ … ┆ 9576  ┆ 8689        ┆ 6339       ┆ 7258     │\n",
       "│ Sedgemoor   ┆ E07000188 ┆ 6634      ┆ 6844     ┆ … ┆ 9846  ┆ 8982        ┆ 6572       ┆ 7867     │\n",
       "│ South       ┆ E07000189 ┆ 8061      ┆ 8382     ┆ … ┆ 14230 ┆ 13230       ┆ 9565       ┆ 10743    │\n",
       "│ Somerset    ┆           ┆           ┆          ┆   ┆       ┆             ┆            ┆          │\n",
       "│ Somerset    ┆ E07000246 ┆ 7853      ┆ 8229     ┆ … ┆ 14222 ┆ 12998       ┆ 9777       ┆ 11583    │\n",
       "│ West and    ┆           ┆           ┆          ┆   ┆       ┆             ┆            ┆          │\n",
       "│ Taunton     ┆           ┆           ┆          ┆   ┆       ┆             ┆            ┆          │\n",
       "└─────────────┴───────────┴───────────┴──────────┴───┴───────┴─────────────┴────────────┴──────────┘"
      ]
     },
     "execution_count": 71,
     "metadata": {},
     "output_type": "execute_result"
    }
   ],
   "source": [
    "dict_dfs_check['2040']"
   ]
  },
  {
   "cell_type": "code",
   "execution_count": null,
   "id": "bef55d92-b394-4718-b89c-748cb3fb1bfb",
   "metadata": {},
   "outputs": [],
   "source": []
  }
 ],
 "metadata": {
  "kernelspec": {
   "display_name": "Python 3 (ipykernel)",
   "language": "python",
   "name": "python3"
  },
  "language_info": {
   "codemirror_mode": {
    "name": "ipython",
    "version": 3
   },
   "file_extension": ".py",
   "mimetype": "text/x-python",
   "name": "python",
   "nbconvert_exporter": "python",
   "pygments_lexer": "ipython3",
   "version": "3.10.16"
  }
 },
 "nbformat": 4,
 "nbformat_minor": 5
}
