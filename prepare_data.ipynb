{
 "cells": [
  {
   "cell_type": "markdown",
   "id": "9d006efe-670c-4de3-a62a-991e9faf8d25",
   "metadata": {},
   "source": [
    "# Prepare data\n",
    "\n",
    "Make one file that's ready to go.\n",
    "\n",
    "Combine data from multiple sources to get information on more age bands.\n",
    "\n",
    "## Code setup"
   ]
  },
  {
   "cell_type": "code",
   "execution_count": 1,
   "id": "20e8e424-05da-4db7-8825-332686b90abb",
   "metadata": {},
   "outputs": [],
   "source": [
    "import os\n",
    "import polars as pl"
   ]
  },
  {
   "cell_type": "markdown",
   "id": "c9a48015-ae12-4ec7-aa49-28771126c242",
   "metadata": {},
   "source": [
    "## Load data\n",
    "\n",
    "Patient demographics by MSOA:"
   ]
  },
  {
   "cell_type": "code",
   "execution_count": 2,
   "id": "b78902a1-09ad-4126-a55e-4c092d691049",
   "metadata": {},
   "outputs": [],
   "source": [
    "path_to_msoa_stats = os.path.join('data', 'msoa_collated.csv')\n",
    "\n",
    "df_stats_old = pl.read_csv(path_to_msoa_stats)"
   ]
  },
  {
   "cell_type": "code",
   "execution_count": 3,
   "id": "6eee299a-355d-43cf-aee8-022f7b1e3b9e",
   "metadata": {},
   "outputs": [
    {
     "data": {
      "text/html": [
       "<div><style>\n",
       ".dataframe > thead > tr,\n",
       ".dataframe > tbody > tr {\n",
       "  text-align: right;\n",
       "  white-space: pre-wrap;\n",
       "}\n",
       "</style>\n",
       "<small>shape: (5, 17)</small><table border=\"1\" class=\"dataframe\"><thead><tr><th>MSOA</th><th>admissions</th><th>IMD2019Score</th><th>All persons</th><th>0-64</th><th>65-79</th><th>80+</th><th>country</th><th>good_health</th><th>fair health</th><th>bad health</th><th>prop_0-64</th><th>prop_65-79</th><th>prop_80+</th><th>prop_good_health</th><th>prop_fair health</th><th>prop_bad health</th></tr><tr><td>str</td><td>f64</td><td>f64</td><td>i64</td><td>i64</td><td>i64</td><td>i64</td><td>str</td><td>i64</td><td>i64</td><td>i64</td><td>f64</td><td>f64</td><td>f64</td><td>f64</td><td>f64</td><td>f64</td></tr></thead><tbody><tr><td>&quot;Adur 001&quot;</td><td>14.333333</td><td>16.924833</td><td>8815</td><td>6905</td><td>1339</td><td>571</td><td>&quot;E&quot;</td><td>6799</td><td>1251</td><td>474</td><td>0.783324</td><td>0.1519</td><td>0.064776</td><td>0.79763</td><td>0.146762</td><td>0.055608</td></tr><tr><td>&quot;Adur 002&quot;</td><td>7.333333</td><td>6.4704</td><td>7263</td><td>5431</td><td>1345</td><td>487</td><td>&quot;E&quot;</td><td>5537</td><td>838</td><td>259</td><td>0.747763</td><td>0.185185</td><td>0.067052</td><td>0.83464</td><td>0.126319</td><td>0.039041</td></tr><tr><td>&quot;Adur 003&quot;</td><td>9.333333</td><td>13.7334</td><td>7354</td><td>5745</td><td>1157</td><td>452</td><td>&quot;E&quot;</td><td>5820</td><td>969</td><td>311</td><td>0.781208</td><td>0.157329</td><td>0.061463</td><td>0.819718</td><td>0.136479</td><td>0.043803</td></tr><tr><td>&quot;Adur 004&quot;</td><td>21.0</td><td>26.199857</td><td>10582</td><td>8583</td><td>1371</td><td>628</td><td>&quot;E&quot;</td><td>7872</td><td>1546</td><td>709</td><td>0.811094</td><td>0.12956</td><td>0.059346</td><td>0.777328</td><td>0.152661</td><td>0.070011</td></tr><tr><td>&quot;Adur 005&quot;</td><td>13.666667</td><td>11.7948</td><td>9059</td><td>6995</td><td>1479</td><td>585</td><td>&quot;E&quot;</td><td>7106</td><td>1081</td><td>339</td><td>0.77216</td><td>0.163263</td><td>0.064577</td><td>0.833451</td><td>0.126789</td><td>0.039761</td></tr></tbody></table></div>"
      ],
      "text/plain": [
       "shape: (5, 17)\n",
       "┌──────────┬────────────┬───────────┬───────────┬───┬──────────┬───────────┬───────────┬───────────┐\n",
       "│ MSOA     ┆ admissions ┆ IMD2019Sc ┆ All       ┆ … ┆ prop_80+ ┆ prop_good ┆ prop_fair ┆ prop_bad  │\n",
       "│ ---      ┆ ---        ┆ ore       ┆ persons   ┆   ┆ ---      ┆ _health   ┆ health    ┆ health    │\n",
       "│ str      ┆ f64        ┆ ---       ┆ ---       ┆   ┆ f64      ┆ ---       ┆ ---       ┆ ---       │\n",
       "│          ┆            ┆ f64       ┆ i64       ┆   ┆          ┆ f64       ┆ f64       ┆ f64       │\n",
       "╞══════════╪════════════╪═══════════╪═══════════╪═══╪══════════╪═══════════╪═══════════╪═══════════╡\n",
       "│ Adur 001 ┆ 14.333333  ┆ 16.924833 ┆ 8815      ┆ … ┆ 0.064776 ┆ 0.79763   ┆ 0.146762  ┆ 0.055608  │\n",
       "│ Adur 002 ┆ 7.333333   ┆ 6.4704    ┆ 7263      ┆ … ┆ 0.067052 ┆ 0.83464   ┆ 0.126319  ┆ 0.039041  │\n",
       "│ Adur 003 ┆ 9.333333   ┆ 13.7334   ┆ 7354      ┆ … ┆ 0.061463 ┆ 0.819718  ┆ 0.136479  ┆ 0.043803  │\n",
       "│ Adur 004 ┆ 21.0       ┆ 26.199857 ┆ 10582     ┆ … ┆ 0.059346 ┆ 0.777328  ┆ 0.152661  ┆ 0.070011  │\n",
       "│ Adur 005 ┆ 13.666667  ┆ 11.7948   ┆ 9059      ┆ … ┆ 0.064577 ┆ 0.833451  ┆ 0.126789  ┆ 0.039761  │\n",
       "└──────────┴────────────┴───────────┴───────────┴───┴──────────┴───────────┴───────────┴───────────┘"
      ]
     },
     "execution_count": 3,
     "metadata": {},
     "output_type": "execute_result"
    }
   ],
   "source": [
    "df_stats_old.head()"
   ]
  },
  {
   "cell_type": "markdown",
   "id": "f68b4c75-5a16-443a-b09a-3d366317b466",
   "metadata": {},
   "source": [
    "Link this to MSOA names and codes.\n",
    "\n",
    "Load the data:"
   ]
  },
  {
   "cell_type": "code",
   "execution_count": 4,
   "id": "b8434257-2f3f-4d75-8924-ef73d87ec6e3",
   "metadata": {},
   "outputs": [],
   "source": [
    "path_to_msoa = os.path.join('data', 'Output_Area_to_LSOA_to_MSOA_to_Local_Authority_District_(December_2017)_Lookup_with_Area_Classifications_in_Great_Britain.csv')\n",
    "\n",
    "df_msoa_names_codes = pl.read_csv(path_to_msoa)\n",
    "\n",
    "# Remove repeats from all the LSOA and OA:\n",
    "df_msoa_names_codes = df_msoa_names_codes.unique(subset='MSOA11CD')[['MSOA11CD', 'MSOA11NM']]"
   ]
  },
  {
   "cell_type": "code",
   "execution_count": 6,
   "id": "4a7dc799-cb71-4d03-95cb-0cfb2212610e",
   "metadata": {},
   "outputs": [
    {
     "data": {
      "text/html": [
       "<div><style>\n",
       ".dataframe > thead > tr,\n",
       ".dataframe > tbody > tr {\n",
       "  text-align: right;\n",
       "  white-space: pre-wrap;\n",
       "}\n",
       "</style>\n",
       "<small>shape: (8_480, 2)</small><table border=\"1\" class=\"dataframe\"><thead><tr><th>MSOA11CD</th><th>MSOA11NM</th></tr><tr><td>str</td><td>str</td></tr></thead><tbody><tr><td>&quot;E02004477&quot;</td><td>&quot;Castle Point 005&quot;</td></tr><tr><td>&quot;E02001922&quot;</td><td>&quot;Birmingham 096&quot;</td></tr><tr><td>&quot;S02001986&quot;</td><td>&quot;Nairn East&quot;</td></tr><tr><td>&quot;E02003233&quot;</td><td>&quot;Swindon 022&quot;</td></tr><tr><td>&quot;E02000255&quot;</td><td>&quot;Ealing 018&quot;</td></tr><tr><td>&hellip;</td><td>&hellip;</td></tr><tr><td>&quot;E02004411&quot;</td><td>&quot;Wealden 009&quot;</td></tr><tr><td>&quot;E02002822&quot;</td><td>&quot;Derby 027&quot;</td></tr><tr><td>&quot;E02003612&quot;</td><td>&quot;Central Bedfordshire 014&quot;</td></tr><tr><td>&quot;E02002635&quot;</td><td>&quot;Blackpool 003&quot;</td></tr><tr><td>&quot;E02005687&quot;</td><td>&quot;South Northamptonshire 007&quot;</td></tr></tbody></table></div>"
      ],
      "text/plain": [
       "shape: (8_480, 2)\n",
       "┌───────────┬────────────────────────────┐\n",
       "│ MSOA11CD  ┆ MSOA11NM                   │\n",
       "│ ---       ┆ ---                        │\n",
       "│ str       ┆ str                        │\n",
       "╞═══════════╪════════════════════════════╡\n",
       "│ E02004477 ┆ Castle Point 005           │\n",
       "│ E02001922 ┆ Birmingham 096             │\n",
       "│ S02001986 ┆ Nairn East                 │\n",
       "│ E02003233 ┆ Swindon 022                │\n",
       "│ E02000255 ┆ Ealing 018                 │\n",
       "│ …         ┆ …                          │\n",
       "│ E02004411 ┆ Wealden 009                │\n",
       "│ E02002822 ┆ Derby 027                  │\n",
       "│ E02003612 ┆ Central Bedfordshire 014   │\n",
       "│ E02002635 ┆ Blackpool 003              │\n",
       "│ E02005687 ┆ South Northamptonshire 007 │\n",
       "└───────────┴────────────────────────────┘"
      ]
     },
     "execution_count": 6,
     "metadata": {},
     "output_type": "execute_result"
    }
   ],
   "source": [
    "df_msoa_names_codes.head()"
   ]
  },
  {
   "cell_type": "code",
   "execution_count": 7,
   "id": "cc367dc4-6b04-406d-9da8-d77ce048a2a1",
   "metadata": {},
   "outputs": [
    {
     "data": {
      "text/html": [
       "<div><style>\n",
       ".dataframe > thead > tr,\n",
       ".dataframe > tbody > tr {\n",
       "  text-align: right;\n",
       "  white-space: pre-wrap;\n",
       "}\n",
       "</style>\n",
       "<small>shape: (3, 18)</small><table border=\"1\" class=\"dataframe\"><thead><tr><th>MSOA</th><th>admissions</th><th>IMD2019Score</th><th>All persons</th><th>0-64</th><th>65-79</th><th>80+</th><th>country</th><th>good_health</th><th>fair health</th><th>bad health</th><th>prop_0-64</th><th>prop_65-79</th><th>prop_80+</th><th>prop_good_health</th><th>prop_fair health</th><th>prop_bad health</th><th>MSOA11CD</th></tr><tr><td>str</td><td>f64</td><td>f64</td><td>i64</td><td>i64</td><td>i64</td><td>i64</td><td>str</td><td>i64</td><td>i64</td><td>i64</td><td>f64</td><td>f64</td><td>f64</td><td>f64</td><td>f64</td><td>f64</td><td>str</td></tr></thead><tbody><tr><td>&quot;Adur 001&quot;</td><td>14.333333</td><td>16.924833</td><td>8815</td><td>6905</td><td>1339</td><td>571</td><td>&quot;E&quot;</td><td>6799</td><td>1251</td><td>474</td><td>0.783324</td><td>0.1519</td><td>0.064776</td><td>0.79763</td><td>0.146762</td><td>0.055608</td><td>&quot;E02006534&quot;</td></tr><tr><td>&quot;Adur 002&quot;</td><td>7.333333</td><td>6.4704</td><td>7263</td><td>5431</td><td>1345</td><td>487</td><td>&quot;E&quot;</td><td>5537</td><td>838</td><td>259</td><td>0.747763</td><td>0.185185</td><td>0.067052</td><td>0.83464</td><td>0.126319</td><td>0.039041</td><td>&quot;E02006535&quot;</td></tr><tr><td>&quot;Adur 003&quot;</td><td>9.333333</td><td>13.7334</td><td>7354</td><td>5745</td><td>1157</td><td>452</td><td>&quot;E&quot;</td><td>5820</td><td>969</td><td>311</td><td>0.781208</td><td>0.157329</td><td>0.061463</td><td>0.819718</td><td>0.136479</td><td>0.043803</td><td>&quot;E02006536&quot;</td></tr></tbody></table></div>"
      ],
      "text/plain": [
       "shape: (3, 18)\n",
       "┌──────────┬───────────┬───────────┬───────────┬───┬───────────┬───────────┬───────────┬───────────┐\n",
       "│ MSOA     ┆ admission ┆ IMD2019Sc ┆ All       ┆ … ┆ prop_good ┆ prop_fair ┆ prop_bad  ┆ MSOA11CD  │\n",
       "│ ---      ┆ s         ┆ ore       ┆ persons   ┆   ┆ _health   ┆ health    ┆ health    ┆ ---       │\n",
       "│ str      ┆ ---       ┆ ---       ┆ ---       ┆   ┆ ---       ┆ ---       ┆ ---       ┆ str       │\n",
       "│          ┆ f64       ┆ f64       ┆ i64       ┆   ┆ f64       ┆ f64       ┆ f64       ┆           │\n",
       "╞══════════╪═══════════╪═══════════╪═══════════╪═══╪═══════════╪═══════════╪═══════════╪═══════════╡\n",
       "│ Adur 001 ┆ 14.333333 ┆ 16.924833 ┆ 8815      ┆ … ┆ 0.79763   ┆ 0.146762  ┆ 0.055608  ┆ E02006534 │\n",
       "│ Adur 002 ┆ 7.333333  ┆ 6.4704    ┆ 7263      ┆ … ┆ 0.83464   ┆ 0.126319  ┆ 0.039041  ┆ E02006535 │\n",
       "│ Adur 003 ┆ 9.333333  ┆ 13.7334   ┆ 7354      ┆ … ┆ 0.819718  ┆ 0.136479  ┆ 0.043803  ┆ E02006536 │\n",
       "└──────────┴───────────┴───────────┴───────────┴───┴───────────┴───────────┴───────────┴───────────┘"
      ]
     },
     "execution_count": 7,
     "metadata": {},
     "output_type": "execute_result"
    }
   ],
   "source": [
    "df_stats_old = df_stats_old.join(df_msoa_names_codes, left_on='MSOA', right_on='MSOA11NM', how='left')\n",
    "\n",
    "df_stats_old.head(3)"
   ]
  },
  {
   "cell_type": "markdown",
   "id": "3f62ac35-0fa8-4889-98bd-d3afcc30c684",
   "metadata": {},
   "source": [
    "Load newer stats dataframe with more age band info:"
   ]
  },
  {
   "cell_type": "code",
   "execution_count": 8,
   "id": "3b4867a6-00ba-45a8-9103-3a63766b903e",
   "metadata": {},
   "outputs": [],
   "source": [
    "path_to_msoa_stats = os.path.join('data', 'collated_data_regional_msoa11cd.csv')\n",
    "\n",
    "df_stats = pl.read_csv(path_to_msoa_stats)"
   ]
  },
  {
   "cell_type": "code",
   "execution_count": 9,
   "id": "b7cf26ca-2bb8-4f77-b78d-3514877932eb",
   "metadata": {},
   "outputs": [
    {
     "data": {
      "text/html": [
       "<div><style>\n",
       ".dataframe > thead > tr,\n",
       ".dataframe > tbody > tr {\n",
       "  text-align: right;\n",
       "  white-space: pre-wrap;\n",
       "}\n",
       "</style>\n",
       "<small>shape: (5, 68)</small><table border=\"1\" class=\"dataframe\"><thead><tr><th>msoa11cd</th><th>polygon_area_km2</th><th>population_density</th><th>income_domain_weighted_mean</th><th>imd_weighted_mean</th><th>weighted_ivt_time</th><th>mt_time_weighted_mean</th><th>ivt_time_weighted_mean</th><th>mt_transfer_time_weighted_mean</th><th>ethnic_group_other_than_white_british</th><th>ethnic_group_all_categories_ethnic_group</th><th>ethnic_minority_proportion</th><th>bad_or_very_bad_health</th><th>all_categories_general_health</th><th>bad_health_proportion</th><th>long_term_health_count</th><th>all_categories_long_term_health_problem_or_disability</th><th>long_term_health_proportion</th><th>age_65_plus_count</th><th>population_all</th><th>age_65_plus_proportion</th><th>age_band_all_0</th><th>age_0_proportion</th><th>age_band_all_5</th><th>age_5_proportion</th><th>age_band_all_10</th><th>age_10_proportion</th><th>age_band_all_15</th><th>age_15_proportion</th><th>age_band_all_20</th><th>age_20_proportion</th><th>age_band_all_25</th><th>age_25_proportion</th><th>age_band_all_30</th><th>age_30_proportion</th><th>age_band_all_35</th><th>age_35_proportion</th><th>age_band_all_40</th><th>age_40_proportion</th><th>age_band_all_45</th><th>age_45_proportion</th><th>age_band_all_50</th><th>age_50_proportion</th><th>age_band_all_55</th><th>age_55_proportion</th><th>age_band_all_60</th><th>age_60_proportion</th><th>age_band_all_65</th><th>age_65_proportion</th><th>age_band_all_70</th><th>age_70_proportion</th><th>age_band_all_75</th><th>age_75_proportion</th><th>age_band_all_80</th><th>age_80_proportion</th><th>age_band_all_85</th><th>age_85_proportion</th><th>age_band_all_90</th><th>age_90_proportion</th><th>rural_False</th><th>rural_True</th><th>proportion_rural</th><th>over_65_within_30_False</th><th>over_65_within_30_True</th><th>proportion_over_65_within_30</th><th>closest_is_mt_False</th><th>closest_is_mt_True</th><th>proportion_closest_is_mt</th></tr><tr><td>str</td><td>f64</td><td>f64</td><td>f64</td><td>f64</td><td>f64</td><td>f64</td><td>f64</td><td>f64</td><td>i64</td><td>i64</td><td>f64</td><td>i64</td><td>i64</td><td>f64</td><td>i64</td><td>i64</td><td>f64</td><td>i64</td><td>i64</td><td>f64</td><td>i64</td><td>f64</td><td>i64</td><td>f64</td><td>i64</td><td>f64</td><td>i64</td><td>f64</td><td>i64</td><td>f64</td><td>i64</td><td>f64</td><td>i64</td><td>f64</td><td>i64</td><td>f64</td><td>i64</td><td>f64</td><td>i64</td><td>f64</td><td>i64</td><td>f64</td><td>i64</td><td>f64</td><td>i64</td><td>f64</td><td>i64</td><td>f64</td><td>i64</td><td>f64</td><td>i64</td><td>f64</td><td>i64</td><td>f64</td><td>i64</td><td>f64</td><td>i64</td><td>f64</td><td>f64</td><td>f64</td><td>f64</td><td>f64</td><td>f64</td><td>f64</td><td>f64</td><td>f64</td><td>f64</td></tr></thead><tbody><tr><td>&quot;E02000001&quot;</td><td>7.4935</td><td>1459.6557</td><td>0.0693</td><td>15.4842</td><td>10.9293</td><td>10.7663</td><td>10.7663</td><td>0.0</td><td>3132</td><td>7375</td><td>0.4247</td><td>246</td><td>7375</td><td>0.0334</td><td>835</td><td>7187</td><td>0.1162</td><td>1731</td><td>10938</td><td>0.1583</td><td>474</td><td>0.0433</td><td>646</td><td>0.0591</td><td>465</td><td>0.0425</td><td>455</td><td>0.0416</td><td>1061</td><td>0.097</td><td>1445</td><td>0.1321</td><td>795</td><td>0.0727</td><td>680</td><td>0.0622</td><td>538</td><td>0.0492</td><td>663</td><td>0.0606</td><td>764</td><td>0.0698</td><td>672</td><td>0.0614</td><td>549</td><td>0.0502</td><td>508</td><td>0.0464</td><td>474</td><td>0.0433</td><td>300</td><td>0.0274</td><td>217</td><td>0.0198</td><td>116</td><td>0.0106</td><td>116</td><td>0.0106</td><td>10938.0</td><td>0.0</td><td>0.0</td><td>0.0</td><td>1731.0</td><td>1.0</td><td>0.0</td><td>10938.0</td><td>1.0</td></tr><tr><td>&quot;E02000002&quot;</td><td>5.603</td><td>1378.9128</td><td>0.2165</td><td>34.8123</td><td>13.3056</td><td>13.2008</td><td>13.2008</td><td>0.0</td><td>2861</td><td>6775</td><td>0.4223</td><td>495</td><td>6775</td><td>0.0731</td><td>1346</td><td>6724</td><td>0.2002</td><td>979</td><td>7726</td><td>0.1267</td><td>674</td><td>0.0872</td><td>688</td><td>0.089</td><td>640</td><td>0.0828</td><td>527</td><td>0.0682</td><td>409</td><td>0.0529</td><td>528</td><td>0.0683</td><td>588</td><td>0.0761</td><td>551</td><td>0.0713</td><td>537</td><td>0.0695</td><td>494</td><td>0.0639</td><td>432</td><td>0.0559</td><td>404</td><td>0.0523</td><td>275</td><td>0.0356</td><td>231</td><td>0.0299</td><td>178</td><td>0.023</td><td>209</td><td>0.0271</td><td>166</td><td>0.0215</td><td>92</td><td>0.0119</td><td>103</td><td>0.0133</td><td>7726.0</td><td>0.0</td><td>0.0</td><td>0.0</td><td>979.0</td><td>1.0</td><td>0.0</td><td>7726.0</td><td>1.0</td></tr><tr><td>&quot;E02000003&quot;</td><td>5.5425</td><td>2029.0451</td><td>0.1412</td><td>25.2469</td><td>10.2465</td><td>10.2794</td><td>10.2794</td><td>0.0</td><td>5291</td><td>10045</td><td>0.5267</td><td>521</td><td>10045</td><td>0.0519</td><td>1590</td><td>10033</td><td>0.1585</td><td>1284</td><td>11246</td><td>0.1142</td><td>956</td><td>0.085</td><td>860</td><td>0.0765</td><td>740</td><td>0.0658</td><td>644</td><td>0.0573</td><td>632</td><td>0.0562</td><td>865</td><td>0.0769</td><td>991</td><td>0.0881</td><td>950</td><td>0.0845</td><td>794</td><td>0.0706</td><td>726</td><td>0.0646</td><td>643</td><td>0.0572</td><td>604</td><td>0.0537</td><td>557</td><td>0.0495</td><td>349</td><td>0.031</td><td>336</td><td>0.0299</td><td>219</td><td>0.0195</td><td>183</td><td>0.0163</td><td>120</td><td>0.0107</td><td>77</td><td>0.0068</td><td>11246.0</td><td>0.0</td><td>0.0</td><td>0.0</td><td>1284.0</td><td>1.0</td><td>0.0</td><td>11246.0</td><td>1.0</td></tr><tr><td>&quot;E02000004&quot;</td><td>6.4333</td><td>1033.0652</td><td>0.1402</td><td>23.8576</td><td>9.3787</td><td>9.3055</td><td>9.3055</td><td>0.0</td><td>1461</td><td>6182</td><td>0.2363</td><td>378</td><td>6182</td><td>0.0611</td><td>1016</td><td>5937</td><td>0.1711</td><td>1008</td><td>6646</td><td>0.1517</td><td>461</td><td>0.0694</td><td>476</td><td>0.0716</td><td>381</td><td>0.0573</td><td>385</td><td>0.0579</td><td>478</td><td>0.0719</td><td>555</td><td>0.0835</td><td>458</td><td>0.0689</td><td>427</td><td>0.0642</td><td>354</td><td>0.0533</td><td>419</td><td>0.063</td><td>422</td><td>0.0635</td><td>416</td><td>0.0626</td><td>406</td><td>0.0611</td><td>236</td><td>0.0355</td><td>238</td><td>0.0358</td><td>192</td><td>0.0289</td><td>142</td><td>0.0214</td><td>88</td><td>0.0132</td><td>112</td><td>0.0169</td><td>6646.0</td><td>0.0</td><td>0.0</td><td>0.0</td><td>1008.0</td><td>1.0</td><td>0.0</td><td>6646.0</td><td>1.0</td></tr><tr><td>&quot;E02000005&quot;</td><td>3.0652</td><td>3438.5836</td><td>0.1571</td><td>29.6949</td><td>10.1</td><td>10.1</td><td>10.1</td><td>0.0</td><td>3534</td><td>8562</td><td>0.4128</td><td>528</td><td>8562</td><td>0.0617</td><td>1435</td><td>8562</td><td>0.1676</td><td>920</td><td>10540</td><td>0.0873</td><td>990</td><td>0.0939</td><td>923</td><td>0.0876</td><td>897</td><td>0.0851</td><td>720</td><td>0.0683</td><td>568</td><td>0.0539</td><td>728</td><td>0.0691</td><td>860</td><td>0.0816</td><td>887</td><td>0.0842</td><td>782</td><td>0.0742</td><td>692</td><td>0.0657</td><td>633</td><td>0.0601</td><td>547</td><td>0.0519</td><td>393</td><td>0.0373</td><td>268</td><td>0.0254</td><td>222</td><td>0.0211</td><td>169</td><td>0.016</td><td>124</td><td>0.0118</td><td>82</td><td>0.0078</td><td>55</td><td>0.0052</td><td>10540.0</td><td>0.0</td><td>0.0</td><td>0.0</td><td>920.0</td><td>1.0</td><td>0.0</td><td>10540.0</td><td>1.0</td></tr></tbody></table></div>"
      ],
      "text/plain": [
       "shape: (5, 68)\n",
       "┌───────────┬───────────┬───────────┬───────────┬───┬───────────┬───────────┬───────────┬──────────┐\n",
       "│ msoa11cd  ┆ polygon_a ┆ populatio ┆ income_do ┆ … ┆ proportio ┆ closest_i ┆ closest_i ┆ proporti │\n",
       "│ ---       ┆ rea_km2   ┆ n_density ┆ main_weig ┆   ┆ n_over_65 ┆ s_mt_Fals ┆ s_mt_True ┆ on_close │\n",
       "│ str       ┆ ---       ┆ ---       ┆ hted_mean ┆   ┆ _within_3 ┆ e         ┆ ---       ┆ st_is_mt │\n",
       "│           ┆ f64       ┆ f64       ┆ ---       ┆   ┆ 0         ┆ ---       ┆ f64       ┆ ---      │\n",
       "│           ┆           ┆           ┆ f64       ┆   ┆ ---       ┆ f64       ┆           ┆ f64      │\n",
       "│           ┆           ┆           ┆           ┆   ┆ f64       ┆           ┆           ┆          │\n",
       "╞═══════════╪═══════════╪═══════════╪═══════════╪═══╪═══════════╪═══════════╪═══════════╪══════════╡\n",
       "│ E02000001 ┆ 7.4935    ┆ 1459.6557 ┆ 0.0693    ┆ … ┆ 1.0       ┆ 0.0       ┆ 10938.0   ┆ 1.0      │\n",
       "│ E02000002 ┆ 5.603     ┆ 1378.9128 ┆ 0.2165    ┆ … ┆ 1.0       ┆ 0.0       ┆ 7726.0    ┆ 1.0      │\n",
       "│ E02000003 ┆ 5.5425    ┆ 2029.0451 ┆ 0.1412    ┆ … ┆ 1.0       ┆ 0.0       ┆ 11246.0   ┆ 1.0      │\n",
       "│ E02000004 ┆ 6.4333    ┆ 1033.0652 ┆ 0.1402    ┆ … ┆ 1.0       ┆ 0.0       ┆ 6646.0    ┆ 1.0      │\n",
       "│ E02000005 ┆ 3.0652    ┆ 3438.5836 ┆ 0.1571    ┆ … ┆ 1.0       ┆ 0.0       ┆ 10540.0   ┆ 1.0      │\n",
       "└───────────┴───────────┴───────────┴───────────┴───┴───────────┴───────────┴───────────┴──────────┘"
      ]
     },
     "execution_count": 9,
     "metadata": {},
     "output_type": "execute_result"
    }
   ],
   "source": [
    "df_stats.head()"
   ]
  },
  {
   "cell_type": "markdown",
   "id": "4aa39a5a-20bb-4406-a424-5131a29a11c3",
   "metadata": {},
   "source": [
    "Only keep columns that match other MSOA dataframe:"
   ]
  },
  {
   "cell_type": "code",
   "execution_count": 10,
   "id": "9916a757-7a9e-4ec1-baec-cb7157a1d2f2",
   "metadata": {},
   "outputs": [],
   "source": [
    "cols_to_keep = [\n",
    "    'msoa11cd',\n",
    "    'age_0_proportion',\n",
    "    'age_5_proportion',\n",
    "    'age_10_proportion',\n",
    "    'age_15_proportion',\n",
    "    'age_20_proportion',\n",
    "    'age_25_proportion',\n",
    "    'age_30_proportion',\n",
    "    'age_35_proportion',\n",
    "    'age_40_proportion',\n",
    "    'age_45_proportion',\n",
    "    'age_50_proportion',\n",
    "    'age_55_proportion',\n",
    "    'age_60_proportion',\n",
    "    'age_65_proportion',\n",
    "    'age_70_proportion',\n",
    "    'age_75_proportion',\n",
    "    'age_80_proportion',\n",
    "    'age_85_proportion',\n",
    "    'age_90_proportion',\n",
    "]"
   ]
  },
  {
   "cell_type": "code",
   "execution_count": 11,
   "id": "d0a99b46-5602-4f7f-b9dc-381f87bc596b",
   "metadata": {},
   "outputs": [],
   "source": [
    "df_stats = df_stats[cols_to_keep]"
   ]
  },
  {
   "cell_type": "markdown",
   "id": "25aa775a-04f9-4614-9a6a-3a684c793052",
   "metadata": {},
   "source": [
    "Merge together:"
   ]
  },
  {
   "cell_type": "code",
   "execution_count": 12,
   "id": "b22528f6-e24c-490e-9a15-923148ee3148",
   "metadata": {},
   "outputs": [],
   "source": [
    "df_stats = df_stats_old.join(df_stats, left_on='MSOA11CD', right_on='msoa11cd', how='left')"
   ]
  },
  {
   "cell_type": "code",
   "execution_count": 13,
   "id": "415a31a5-321e-42df-9d3b-2fe41372e482",
   "metadata": {},
   "outputs": [
    {
     "data": {
      "text/html": [
       "<div><style>\n",
       ".dataframe > thead > tr,\n",
       ".dataframe > tbody > tr {\n",
       "  text-align: right;\n",
       "  white-space: pre-wrap;\n",
       "}\n",
       "</style>\n",
       "<small>shape: (5, 37)</small><table border=\"1\" class=\"dataframe\"><thead><tr><th>MSOA</th><th>admissions</th><th>IMD2019Score</th><th>All persons</th><th>0-64</th><th>65-79</th><th>80+</th><th>country</th><th>good_health</th><th>fair health</th><th>bad health</th><th>prop_0-64</th><th>prop_65-79</th><th>prop_80+</th><th>prop_good_health</th><th>prop_fair health</th><th>prop_bad health</th><th>MSOA11CD</th><th>age_0_proportion</th><th>age_5_proportion</th><th>age_10_proportion</th><th>age_15_proportion</th><th>age_20_proportion</th><th>age_25_proportion</th><th>age_30_proportion</th><th>age_35_proportion</th><th>age_40_proportion</th><th>age_45_proportion</th><th>age_50_proportion</th><th>age_55_proportion</th><th>age_60_proportion</th><th>age_65_proportion</th><th>age_70_proportion</th><th>age_75_proportion</th><th>age_80_proportion</th><th>age_85_proportion</th><th>age_90_proportion</th></tr><tr><td>str</td><td>f64</td><td>f64</td><td>i64</td><td>i64</td><td>i64</td><td>i64</td><td>str</td><td>i64</td><td>i64</td><td>i64</td><td>f64</td><td>f64</td><td>f64</td><td>f64</td><td>f64</td><td>f64</td><td>str</td><td>f64</td><td>f64</td><td>f64</td><td>f64</td><td>f64</td><td>f64</td><td>f64</td><td>f64</td><td>f64</td><td>f64</td><td>f64</td><td>f64</td><td>f64</td><td>f64</td><td>f64</td><td>f64</td><td>f64</td><td>f64</td><td>f64</td></tr></thead><tbody><tr><td>&quot;Adur 001&quot;</td><td>14.333333</td><td>16.924833</td><td>8815</td><td>6905</td><td>1339</td><td>571</td><td>&quot;E&quot;</td><td>6799</td><td>1251</td><td>474</td><td>0.783324</td><td>0.1519</td><td>0.064776</td><td>0.79763</td><td>0.146762</td><td>0.055608</td><td>&quot;E02006534&quot;</td><td>0.0515</td><td>0.0708</td><td>0.0614</td><td>0.0573</td><td>0.0449</td><td>0.0409</td><td>0.0508</td><td>0.0652</td><td>0.0682</td><td>0.0714</td><td>0.0745</td><td>0.0748</td><td>0.0555</td><td>0.0559</td><td>0.0528</td><td>0.0422</td><td>0.0322</td><td>0.0177</td><td>0.0121</td></tr><tr><td>&quot;Adur 002&quot;</td><td>7.333333</td><td>6.4704</td><td>7263</td><td>5431</td><td>1345</td><td>487</td><td>&quot;E&quot;</td><td>5537</td><td>838</td><td>259</td><td>0.747763</td><td>0.185185</td><td>0.067052</td><td>0.83464</td><td>0.126319</td><td>0.039041</td><td>&quot;E02006535&quot;</td><td>0.0518</td><td>0.074</td><td>0.0638</td><td>0.0454</td><td>0.03</td><td>0.0369</td><td>0.0386</td><td>0.0586</td><td>0.0678</td><td>0.0836</td><td>0.0691</td><td>0.0674</td><td>0.0597</td><td>0.0578</td><td>0.0774</td><td>0.0492</td><td>0.0369</td><td>0.0206</td><td>0.0117</td></tr><tr><td>&quot;Adur 003&quot;</td><td>9.333333</td><td>13.7334</td><td>7354</td><td>5745</td><td>1157</td><td>452</td><td>&quot;E&quot;</td><td>5820</td><td>969</td><td>311</td><td>0.781208</td><td>0.157329</td><td>0.061463</td><td>0.819718</td><td>0.136479</td><td>0.043803</td><td>&quot;E02006536&quot;</td><td>0.0461</td><td>0.0621</td><td>0.0697</td><td>0.0652</td><td>0.0404</td><td>0.0389</td><td>0.0501</td><td>0.0603</td><td>0.0643</td><td>0.0681</td><td>0.0753</td><td>0.0685</td><td>0.0639</td><td>0.0609</td><td>0.0582</td><td>0.0421</td><td>0.0385</td><td>0.0188</td><td>0.0088</td></tr><tr><td>&quot;Adur 004&quot;</td><td>21.0</td><td>26.199857</td><td>10582</td><td>8583</td><td>1371</td><td>628</td><td>&quot;E&quot;</td><td>7872</td><td>1546</td><td>709</td><td>0.811094</td><td>0.12956</td><td>0.059346</td><td>0.777328</td><td>0.152661</td><td>0.070011</td><td>&quot;E02006537&quot;</td><td>0.0616</td><td>0.0719</td><td>0.0608</td><td>0.0537</td><td>0.0463</td><td>0.0564</td><td>0.0611</td><td>0.0602</td><td>0.0696</td><td>0.072</td><td>0.0747</td><td>0.0679</td><td>0.0529</td><td>0.0465</td><td>0.0438</td><td>0.0367</td><td>0.0318</td><td>0.0213</td><td>0.0107</td></tr><tr><td>&quot;Adur 005&quot;</td><td>13.666667</td><td>11.7948</td><td>9059</td><td>6995</td><td>1479</td><td>585</td><td>&quot;E&quot;</td><td>7106</td><td>1081</td><td>339</td><td>0.77216</td><td>0.163263</td><td>0.064577</td><td>0.833451</td><td>0.126789</td><td>0.039761</td><td>&quot;E02006538&quot;</td><td>0.0527</td><td>0.0618</td><td>0.0541</td><td>0.0367</td><td>0.0414</td><td>0.0517</td><td>0.0503</td><td>0.056</td><td>0.0666</td><td>0.081</td><td>0.0762</td><td>0.0742</td><td>0.0616</td><td>0.0597</td><td>0.067</td><td>0.0425</td><td>0.0313</td><td>0.0216</td><td>0.0133</td></tr></tbody></table></div>"
      ],
      "text/plain": [
       "shape: (5, 37)\n",
       "┌──────────┬───────────┬───────────┬───────────┬───┬───────────┬───────────┬───────────┬───────────┐\n",
       "│ MSOA     ┆ admission ┆ IMD2019Sc ┆ All       ┆ … ┆ age_75_pr ┆ age_80_pr ┆ age_85_pr ┆ age_90_pr │\n",
       "│ ---      ┆ s         ┆ ore       ┆ persons   ┆   ┆ oportion  ┆ oportion  ┆ oportion  ┆ oportion  │\n",
       "│ str      ┆ ---       ┆ ---       ┆ ---       ┆   ┆ ---       ┆ ---       ┆ ---       ┆ ---       │\n",
       "│          ┆ f64       ┆ f64       ┆ i64       ┆   ┆ f64       ┆ f64       ┆ f64       ┆ f64       │\n",
       "╞══════════╪═══════════╪═══════════╪═══════════╪═══╪═══════════╪═══════════╪═══════════╪═══════════╡\n",
       "│ Adur 001 ┆ 14.333333 ┆ 16.924833 ┆ 8815      ┆ … ┆ 0.0422    ┆ 0.0322    ┆ 0.0177    ┆ 0.0121    │\n",
       "│ Adur 002 ┆ 7.333333  ┆ 6.4704    ┆ 7263      ┆ … ┆ 0.0492    ┆ 0.0369    ┆ 0.0206    ┆ 0.0117    │\n",
       "│ Adur 003 ┆ 9.333333  ┆ 13.7334   ┆ 7354      ┆ … ┆ 0.0421    ┆ 0.0385    ┆ 0.0188    ┆ 0.0088    │\n",
       "│ Adur 004 ┆ 21.0      ┆ 26.199857 ┆ 10582     ┆ … ┆ 0.0367    ┆ 0.0318    ┆ 0.0213    ┆ 0.0107    │\n",
       "│ Adur 005 ┆ 13.666667 ┆ 11.7948   ┆ 9059      ┆ … ┆ 0.0425    ┆ 0.0313    ┆ 0.0216    ┆ 0.0133    │\n",
       "└──────────┴───────────┴───────────┴───────────┴───┴───────────┴───────────┴───────────┴───────────┘"
      ]
     },
     "execution_count": 13,
     "metadata": {},
     "output_type": "execute_result"
    }
   ],
   "source": [
    "df_stats.head()"
   ]
  },
  {
   "cell_type": "markdown",
   "id": "20610a8c-5481-42c6-9489-a53137c000a7",
   "metadata": {},
   "source": [
    "Merge age bands under 65:"
   ]
  },
  {
   "cell_type": "code",
   "execution_count": 14,
   "id": "ea3c740b-3e1d-45d6-bc98-9da2edec41da",
   "metadata": {},
   "outputs": [],
   "source": [
    "ages_to_merge = [\n",
    "    'age_0_proportion',\n",
    "    'age_5_proportion',\n",
    "    'age_10_proportion',\n",
    "    'age_15_proportion',\n",
    "    'age_20_proportion',\n",
    "    'age_25_proportion',\n",
    "    'age_30_proportion',\n",
    "    'age_35_proportion',\n",
    "    'age_40_proportion',\n",
    "    'age_45_proportion',\n",
    "    'age_50_proportion',\n",
    "    'age_55_proportion',\n",
    "    'age_60_proportion',\n",
    "    # 'age_65_proportion',\n",
    "]\n",
    "\n",
    "df_stats = df_stats.insert_column(-1, pl.Series('age_less65_proportion', df_stats[ages_to_merge].sum_horizontal()))\n",
    "\n",
    "df_stats = df_stats.drop(ages_to_merge)"
   ]
  },
  {
   "cell_type": "markdown",
   "id": "632cc1c1-e980-4ae1-b4d6-4d60577ecb1a",
   "metadata": {},
   "source": [
    "Merge age bands over 80:"
   ]
  },
  {
   "cell_type": "code",
   "execution_count": 15,
   "id": "0c605b61-0eab-4b82-af1c-1c33aa3b6bcb",
   "metadata": {},
   "outputs": [],
   "source": [
    "ages_to_merge = [\n",
    "    'age_80_proportion',\n",
    "    'age_85_proportion',\n",
    "    'age_90_proportion',\n",
    "]\n",
    "\n",
    "df_stats = df_stats.insert_column(-1, pl.Series('age_over80_proportion', df_stats[ages_to_merge].sum_horizontal()))\n",
    "\n",
    "df_stats = df_stats.drop(ages_to_merge)"
   ]
  },
  {
   "cell_type": "code",
   "execution_count": 16,
   "id": "def0dc67-7842-4e90-9d9f-e3a9d166fdad",
   "metadata": {},
   "outputs": [
    {
     "data": {
      "text/html": [
       "<div><style>\n",
       ".dataframe > thead > tr,\n",
       ".dataframe > tbody > tr {\n",
       "  text-align: right;\n",
       "  white-space: pre-wrap;\n",
       "}\n",
       "</style>\n",
       "<small>shape: (5, 23)</small><table border=\"1\" class=\"dataframe\"><thead><tr><th>MSOA</th><th>admissions</th><th>IMD2019Score</th><th>All persons</th><th>0-64</th><th>65-79</th><th>80+</th><th>country</th><th>good_health</th><th>fair health</th><th>bad health</th><th>prop_0-64</th><th>prop_65-79</th><th>prop_80+</th><th>prop_good_health</th><th>prop_fair health</th><th>prop_bad health</th><th>MSOA11CD</th><th>age_65_proportion</th><th>age_70_proportion</th><th>age_75_proportion</th><th>age_less65_proportion</th><th>age_over80_proportion</th></tr><tr><td>str</td><td>f64</td><td>f64</td><td>i64</td><td>i64</td><td>i64</td><td>i64</td><td>str</td><td>i64</td><td>i64</td><td>i64</td><td>f64</td><td>f64</td><td>f64</td><td>f64</td><td>f64</td><td>f64</td><td>str</td><td>f64</td><td>f64</td><td>f64</td><td>f64</td><td>f64</td></tr></thead><tbody><tr><td>&quot;Adur 001&quot;</td><td>14.333333</td><td>16.924833</td><td>8815</td><td>6905</td><td>1339</td><td>571</td><td>&quot;E&quot;</td><td>6799</td><td>1251</td><td>474</td><td>0.783324</td><td>0.1519</td><td>0.064776</td><td>0.79763</td><td>0.146762</td><td>0.055608</td><td>&quot;E02006534&quot;</td><td>0.0559</td><td>0.0528</td><td>0.0422</td><td>0.7872</td><td>0.062</td></tr><tr><td>&quot;Adur 002&quot;</td><td>7.333333</td><td>6.4704</td><td>7263</td><td>5431</td><td>1345</td><td>487</td><td>&quot;E&quot;</td><td>5537</td><td>838</td><td>259</td><td>0.747763</td><td>0.185185</td><td>0.067052</td><td>0.83464</td><td>0.126319</td><td>0.039041</td><td>&quot;E02006535&quot;</td><td>0.0578</td><td>0.0774</td><td>0.0492</td><td>0.7467</td><td>0.0692</td></tr><tr><td>&quot;Adur 003&quot;</td><td>9.333333</td><td>13.7334</td><td>7354</td><td>5745</td><td>1157</td><td>452</td><td>&quot;E&quot;</td><td>5820</td><td>969</td><td>311</td><td>0.781208</td><td>0.157329</td><td>0.061463</td><td>0.819718</td><td>0.136479</td><td>0.043803</td><td>&quot;E02006536&quot;</td><td>0.0609</td><td>0.0582</td><td>0.0421</td><td>0.7729</td><td>0.0661</td></tr><tr><td>&quot;Adur 004&quot;</td><td>21.0</td><td>26.199857</td><td>10582</td><td>8583</td><td>1371</td><td>628</td><td>&quot;E&quot;</td><td>7872</td><td>1546</td><td>709</td><td>0.811094</td><td>0.12956</td><td>0.059346</td><td>0.777328</td><td>0.152661</td><td>0.070011</td><td>&quot;E02006537&quot;</td><td>0.0465</td><td>0.0438</td><td>0.0367</td><td>0.8091</td><td>0.0638</td></tr><tr><td>&quot;Adur 005&quot;</td><td>13.666667</td><td>11.7948</td><td>9059</td><td>6995</td><td>1479</td><td>585</td><td>&quot;E&quot;</td><td>7106</td><td>1081</td><td>339</td><td>0.77216</td><td>0.163263</td><td>0.064577</td><td>0.833451</td><td>0.126789</td><td>0.039761</td><td>&quot;E02006538&quot;</td><td>0.0597</td><td>0.067</td><td>0.0425</td><td>0.7643</td><td>0.0662</td></tr></tbody></table></div>"
      ],
      "text/plain": [
       "shape: (5, 23)\n",
       "┌──────────┬───────────┬───────────┬───────────┬───┬───────────┬───────────┬───────────┬───────────┐\n",
       "│ MSOA     ┆ admission ┆ IMD2019Sc ┆ All       ┆ … ┆ age_70_pr ┆ age_75_pr ┆ age_less6 ┆ age_over8 │\n",
       "│ ---      ┆ s         ┆ ore       ┆ persons   ┆   ┆ oportion  ┆ oportion  ┆ 5_proport ┆ 0_proport │\n",
       "│ str      ┆ ---       ┆ ---       ┆ ---       ┆   ┆ ---       ┆ ---       ┆ ion       ┆ ion       │\n",
       "│          ┆ f64       ┆ f64       ┆ i64       ┆   ┆ f64       ┆ f64       ┆ ---       ┆ ---       │\n",
       "│          ┆           ┆           ┆           ┆   ┆           ┆           ┆ f64       ┆ f64       │\n",
       "╞══════════╪═══════════╪═══════════╪═══════════╪═══╪═══════════╪═══════════╪═══════════╪═══════════╡\n",
       "│ Adur 001 ┆ 14.333333 ┆ 16.924833 ┆ 8815      ┆ … ┆ 0.0528    ┆ 0.0422    ┆ 0.7872    ┆ 0.062     │\n",
       "│ Adur 002 ┆ 7.333333  ┆ 6.4704    ┆ 7263      ┆ … ┆ 0.0774    ┆ 0.0492    ┆ 0.7467    ┆ 0.0692    │\n",
       "│ Adur 003 ┆ 9.333333  ┆ 13.7334   ┆ 7354      ┆ … ┆ 0.0582    ┆ 0.0421    ┆ 0.7729    ┆ 0.0661    │\n",
       "│ Adur 004 ┆ 21.0      ┆ 26.199857 ┆ 10582     ┆ … ┆ 0.0438    ┆ 0.0367    ┆ 0.8091    ┆ 0.0638    │\n",
       "│ Adur 005 ┆ 13.666667 ┆ 11.7948   ┆ 9059      ┆ … ┆ 0.067     ┆ 0.0425    ┆ 0.7643    ┆ 0.0662    │\n",
       "└──────────┴───────────┴───────────┴───────────┴───┴───────────┴───────────┴───────────┴───────────┘"
      ]
     },
     "execution_count": 16,
     "metadata": {},
     "output_type": "execute_result"
    }
   ],
   "source": [
    "df_stats.head()"
   ]
  },
  {
   "cell_type": "markdown",
   "id": "8fe722a6-0450-44cf-9a5f-3107bf634748",
   "metadata": {},
   "source": [
    "Drop old proportion age bands to prevent confusion:"
   ]
  },
  {
   "cell_type": "code",
   "execution_count": 17,
   "id": "582f6b2b-0d0f-4c89-b627-e1780ac916f2",
   "metadata": {},
   "outputs": [],
   "source": [
    "df_stats = df_stats.drop(['prop_0-64', 'prop_65-79', 'prop_80+', '0-64', '65-79', '80+'])"
   ]
  },
  {
   "cell_type": "markdown",
   "id": "69861e5f-323f-462e-a4db-631a211b4e11",
   "metadata": {},
   "source": [
    "Check sum of admissions for Welsh areas:"
   ]
  },
  {
   "cell_type": "code",
   "execution_count": 18,
   "id": "2f9aca55-e6ea-4846-a4f3-d15bdabdc216",
   "metadata": {},
   "outputs": [
    {
     "data": {
      "text/plain": [
       "0.0"
      ]
     },
     "execution_count": 18,
     "metadata": {},
     "output_type": "execute_result"
    }
   ],
   "source": [
    "df_stats.filter(df_stats['country'] == 'W')['admissions'].sum()"
   ]
  },
  {
   "cell_type": "markdown",
   "id": "753ceb6a-31a9-487f-b171-4736813beda5",
   "metadata": {},
   "source": [
    "Save a copy:"
   ]
  },
  {
   "cell_type": "code",
   "execution_count": 19,
   "id": "5e199bbe-5ad4-41d2-8c6d-2d52b5cff13a",
   "metadata": {},
   "outputs": [],
   "source": [
    "df_stats.write_csv('./data/msoa_cleaned.csv')"
   ]
  }
 ],
 "metadata": {
  "kernelspec": {
   "display_name": "Python 3 (ipykernel)",
   "language": "python",
   "name": "python3"
  },
  "language_info": {
   "codemirror_mode": {
    "name": "ipython",
    "version": 3
   },
   "file_extension": ".py",
   "mimetype": "text/x-python",
   "name": "python",
   "nbconvert_exporter": "python",
   "pygments_lexer": "ipython3",
   "version": "3.10.16"
  }
 },
 "nbformat": 4,
 "nbformat_minor": 5
}
