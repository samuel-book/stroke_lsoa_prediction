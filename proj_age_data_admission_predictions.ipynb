{
 "cells": [
  {
   "cell_type": "markdown",
   "id": "28fe674e-1120-4b8b-aa2d-33376652d6b8",
   "metadata": {},
   "source": [
    "# Predict admissions from projected age data\n",
    "\n",
    "Predict health levels of the new populations and then predict the stroke admissions.\n",
    "\n",
    "## Code setup"
   ]
  },
  {
   "cell_type": "code",
   "execution_count": 1,
   "id": "00766110-4e9c-428c-95d6-e180ffc11901",
   "metadata": {},
   "outputs": [],
   "source": [
    "import os\n",
    "import polars as pl\n",
    "import numpy as np\n",
    "\n",
    "from scipy.optimize import minimize\n",
    "import statsmodels.api as sm  # for linear regression\n",
    "\n",
    "import matplotlib.pyplot as plt"
   ]
  },
  {
   "cell_type": "markdown",
   "id": "ca67b37d-1a6e-4d40-9fb0-288db8161752",
   "metadata": {},
   "source": [
    "## Load data\n",
    "\n",
    "Linear regression fits to create health proportions from ages:"
   ]
  },
  {
   "cell_type": "code",
   "execution_count": 2,
   "id": "6b9c8bd2-6a50-4794-b2b2-4508413b86e6",
   "metadata": {},
   "outputs": [
    {
     "data": {
      "text/html": [
       "<div><style>\n",
       ".dataframe > thead > tr,\n",
       ".dataframe > tbody > tr {\n",
       "  text-align: right;\n",
       "  white-space: pre-wrap;\n",
       "}\n",
       "</style>\n",
       "<small>shape: (5, 7)</small><table border=\"1\" class=\"dataframe\"><thead><tr><th>imd_bin_min</th><th>imd_bin_max</th><th>col_age</th><th>col_health</th><th>m</th><th>c</th><th>rsquared</th></tr><tr><td>f64</td><td>f64</td><td>str</td><td>str</td><td>f64</td><td>f64</td><td>f64</td></tr></thead><tbody><tr><td>2.2122</td><td>7.708</td><td>&quot;age_less65_proportion&quot;</td><td>&quot;prop_good_health&quot;</td><td>0.3543778</td><td>0.5874175</td><td>0.6364851</td></tr><tr><td>2.2122</td><td>7.708</td><td>&quot;age_less65_proportion&quot;</td><td>&quot;prop_fair health&quot;</td><td>-0.264882</td><td>0.3105843</td><td>0.6541842</td></tr><tr><td>2.2122</td><td>7.708</td><td>&quot;age_less65_proportion&quot;</td><td>&quot;prop_bad health&quot;</td><td>-0.089496</td><td>0.1019982</td><td>0.4586286</td></tr><tr><td>2.2122</td><td>7.708</td><td>&quot;age_65_proportion&quot;</td><td>&quot;prop_good_health&quot;</td><td>-1.484968</td><td>0.9440812</td><td>0.4800753</td></tr><tr><td>2.2122</td><td>7.708</td><td>&quot;age_65_proportion&quot;</td><td>&quot;prop_fair health&quot;</td><td>1.1150576</td><td>0.0437121</td><td>0.497979</td></tr></tbody></table></div>"
      ],
      "text/plain": [
       "shape: (5, 7)\n",
       "┌─────────────┬─────────────┬─────────────────┬────────────────┬───────────┬───────────┬───────────┐\n",
       "│ imd_bin_min ┆ imd_bin_max ┆ col_age         ┆ col_health     ┆ m         ┆ c         ┆ rsquared  │\n",
       "│ ---         ┆ ---         ┆ ---             ┆ ---            ┆ ---       ┆ ---       ┆ ---       │\n",
       "│ f64         ┆ f64         ┆ str             ┆ str            ┆ f64       ┆ f64       ┆ f64       │\n",
       "╞═════════════╪═════════════╪═════════════════╪════════════════╪═══════════╪═══════════╪═══════════╡\n",
       "│ 2.2122      ┆ 7.708       ┆ age_less65_prop ┆ prop_good_heal ┆ 0.3543778 ┆ 0.5874175 ┆ 0.6364851 │\n",
       "│             ┆             ┆ ortion          ┆ th             ┆           ┆           ┆           │\n",
       "│ 2.2122      ┆ 7.708       ┆ age_less65_prop ┆ prop_fair      ┆ -0.264882 ┆ 0.3105843 ┆ 0.6541842 │\n",
       "│             ┆             ┆ ortion          ┆ health         ┆           ┆           ┆           │\n",
       "│ 2.2122      ┆ 7.708       ┆ age_less65_prop ┆ prop_bad       ┆ -0.089496 ┆ 0.1019982 ┆ 0.4586286 │\n",
       "│             ┆             ┆ ortion          ┆ health         ┆           ┆           ┆           │\n",
       "│ 2.2122      ┆ 7.708       ┆ age_65_proporti ┆ prop_good_heal ┆ -1.484968 ┆ 0.9440812 ┆ 0.4800753 │\n",
       "│             ┆             ┆ on              ┆ th             ┆           ┆           ┆           │\n",
       "│ 2.2122      ┆ 7.708       ┆ age_65_proporti ┆ prop_fair      ┆ 1.1150576 ┆ 0.0437121 ┆ 0.497979  │\n",
       "│             ┆             ┆ on              ┆ health         ┆           ┆           ┆           │\n",
       "└─────────────┴─────────────┴─────────────────┴────────────────┴───────────┴───────────┴───────────┘"
      ]
     },
     "execution_count": 2,
     "metadata": {},
     "output_type": "execute_result"
    }
   ],
   "source": [
    "df_health_lines = pl.read_csv(os.path.join('outputs', 'line_fits_age_to_health.csv'))\n",
    "\n",
    "df_health_lines.head()"
   ]
  },
  {
   "cell_type": "markdown",
   "id": "4c4b0f6d-9126-47a9-be9f-52090d8cb42d",
   "metadata": {},
   "source": [
    "Linear regression fits to create admissions from health proportions:"
   ]
  },
  {
   "cell_type": "code",
   "execution_count": 3,
   "id": "e1dc0695-83c8-4295-8a9e-bf747eda900b",
   "metadata": {},
   "outputs": [
    {
     "data": {
      "text/html": [
       "<div><style>\n",
       ".dataframe > thead > tr,\n",
       ".dataframe > tbody > tr {\n",
       "  text-align: right;\n",
       "  white-space: pre-wrap;\n",
       "}\n",
       "</style>\n",
       "<small>shape: (5, 6)</small><table border=\"1\" class=\"dataframe\"><thead><tr><th>imd_bin_min</th><th>imd_bin_max</th><th>coeff_good_health</th><th>coeff_fair_health</th><th>coeff_bad_health</th><th>rsquared</th></tr><tr><td>f64</td><td>f64</td><td>f64</td><td>f64</td><td>f64</td><td>f64</td></tr></thead><tbody><tr><td>2.2122</td><td>7.708</td><td>0.0</td><td>0.008549</td><td>0.017694</td><td>0.5722268</td></tr><tr><td>7.708</td><td>10.369</td><td>0.0</td><td>0.0101521</td><td>0.0091246</td><td>0.5156227</td></tr><tr><td>10.369</td><td>12.74375</td><td>0.0</td><td>0.0118571</td><td>0.0027425</td><td>0.5254204</td></tr><tr><td>12.74375</td><td>15.2564</td><td>0.0</td><td>0.0119053</td><td>0.0023227</td><td>0.565176</td></tr><tr><td>15.2564</td><td>18.32929</td><td>0.0</td><td>0.0121379</td><td>0.0</td><td>0.5270501</td></tr></tbody></table></div>"
      ],
      "text/plain": [
       "shape: (5, 6)\n",
       "┌─────────────┬─────────────┬───────────────────┬───────────────────┬──────────────────┬───────────┐\n",
       "│ imd_bin_min ┆ imd_bin_max ┆ coeff_good_health ┆ coeff_fair_health ┆ coeff_bad_health ┆ rsquared  │\n",
       "│ ---         ┆ ---         ┆ ---               ┆ ---               ┆ ---              ┆ ---       │\n",
       "│ f64         ┆ f64         ┆ f64               ┆ f64               ┆ f64              ┆ f64       │\n",
       "╞═════════════╪═════════════╪═══════════════════╪═══════════════════╪══════════════════╪═══════════╡\n",
       "│ 2.2122      ┆ 7.708       ┆ 0.0               ┆ 0.008549          ┆ 0.017694         ┆ 0.5722268 │\n",
       "│ 7.708       ┆ 10.369      ┆ 0.0               ┆ 0.0101521         ┆ 0.0091246        ┆ 0.5156227 │\n",
       "│ 10.369      ┆ 12.74375    ┆ 0.0               ┆ 0.0118571         ┆ 0.0027425        ┆ 0.5254204 │\n",
       "│ 12.74375    ┆ 15.2564     ┆ 0.0               ┆ 0.0119053         ┆ 0.0023227        ┆ 0.565176  │\n",
       "│ 15.2564     ┆ 18.32929    ┆ 0.0               ┆ 0.0121379         ┆ 0.0              ┆ 0.5270501 │\n",
       "└─────────────┴─────────────┴───────────────────┴───────────────────┴──────────────────┴───────────┘"
      ]
     },
     "execution_count": 3,
     "metadata": {},
     "output_type": "execute_result"
    }
   ],
   "source": [
    "df_admissions_lines = pl.read_csv(os.path.join('outputs', 'line_fits_health_to_admissions.csv'))\n",
    "\n",
    "df_admissions_lines.head()"
   ]
  },
  {
   "cell_type": "markdown",
   "id": "7d4ebcbe-6be2-4827-8e4c-ca8044df5ca7",
   "metadata": {},
   "source": [
    "The projected data file names contain these labels:"
   ]
  },
  {
   "cell_type": "code",
   "execution_count": 4,
   "id": "8753de2d-0c48-4e89-a71c-c4e15dc2f1a0",
   "metadata": {},
   "outputs": [],
   "source": [
    "proj_years_str = ['2025', '2030', '2035', '2040']"
   ]
  },
  {
   "cell_type": "markdown",
   "id": "43d7f388-80cc-438e-82b2-b3799af88249",
   "metadata": {},
   "source": [
    "Load in the data and store in a dictionary:"
   ]
  },
  {
   "cell_type": "code",
   "execution_count": 5,
   "id": "8884d78a-7f97-45e4-a7d1-e19d26d894aa",
   "metadata": {},
   "outputs": [],
   "source": [
    "dict_df_proj_scaled = {}\n",
    "\n",
    "for label in proj_years_str:\n",
    "    df = pl.read_csv(os.path.join('data', 'projections', f'msoa_projections_props_{label}.csv'))\n",
    "    dict_df_proj_scaled[label] = df"
   ]
  },
  {
   "cell_type": "markdown",
   "id": "b5e47c94-81a4-4425-a5ca-50b59349d0a8",
   "metadata": {},
   "source": [
    "Check one of them:"
   ]
  },
  {
   "cell_type": "code",
   "execution_count": 6,
   "id": "dab5702e-2bd7-4184-9032-05e3e87de44b",
   "metadata": {},
   "outputs": [
    {
     "data": {
      "text/html": [
       "<div><style>\n",
       ".dataframe > thead > tr,\n",
       ".dataframe > tbody > tr {\n",
       "  text-align: right;\n",
       "  white-space: pre-wrap;\n",
       "}\n",
       "</style>\n",
       "<small>shape: (6_790, 9)</small><table border=\"1\" class=\"dataframe\"><thead><tr><th>MSOA</th><th>MSOA11CD</th><th>country</th><th>total_patients</th><th>age_65_proportion</th><th>age_70_proportion</th><th>age_75_proportion</th><th>age_less65_proportion</th><th>age_over80_proportion</th></tr><tr><td>str</td><td>str</td><td>str</td><td>i64</td><td>f64</td><td>f64</td><td>f64</td><td>f64</td><td>f64</td></tr></thead><tbody><tr><td>&quot;Darlington 001&quot;</td><td>&quot;E02002559&quot;</td><td>&quot;E&quot;</td><td>8996</td><td>0.0607</td><td>0.0649</td><td>0.0607</td><td>0.718</td><td>0.0957</td></tr><tr><td>&quot;Darlington 002&quot;</td><td>&quot;E02002560&quot;</td><td>&quot;E&quot;</td><td>6101</td><td>0.0606</td><td>0.0649</td><td>0.0606</td><td>0.7181</td><td>0.0957</td></tr><tr><td>&quot;Darlington 003&quot;</td><td>&quot;E02002561&quot;</td><td>&quot;E&quot;</td><td>5840</td><td>0.0606</td><td>0.0649</td><td>0.0606</td><td>0.7182</td><td>0.0957</td></tr><tr><td>&quot;Darlington 004&quot;</td><td>&quot;E02002562&quot;</td><td>&quot;E&quot;</td><td>6170</td><td>0.0608</td><td>0.065</td><td>0.0606</td><td>0.718</td><td>0.0956</td></tr><tr><td>&quot;Darlington 005&quot;</td><td>&quot;E02002563&quot;</td><td>&quot;E&quot;</td><td>5556</td><td>0.0607</td><td>0.065</td><td>0.0607</td><td>0.718</td><td>0.0958</td></tr><tr><td>&hellip;</td><td>&hellip;</td><td>&hellip;</td><td>&hellip;</td><td>&hellip;</td><td>&hellip;</td><td>&hellip;</td><td>&hellip;</td><td>&hellip;</td></tr><tr><td>&quot;West Somerset 001&quot;</td><td>&quot;E02006113&quot;</td><td>&quot;E&quot;</td><td>9210</td><td>0.0726</td><td>0.0781</td><td>0.0713</td><td>0.6606</td><td>0.1174</td></tr><tr><td>&quot;West Somerset 002&quot;</td><td>&quot;E02006114&quot;</td><td>&quot;E&quot;</td><td>8459</td><td>0.0726</td><td>0.0781</td><td>0.0714</td><td>0.6606</td><td>0.1173</td></tr><tr><td>&quot;West Somerset 003&quot;</td><td>&quot;E02006115&quot;</td><td>&quot;E&quot;</td><td>9074</td><td>0.0726</td><td>0.0781</td><td>0.0714</td><td>0.6606</td><td>0.1173</td></tr><tr><td>&quot;West Somerset 004&quot;</td><td>&quot;E02006116&quot;</td><td>&quot;E&quot;</td><td>9875</td><td>0.0726</td><td>0.0781</td><td>0.0714</td><td>0.6607</td><td>0.1173</td></tr><tr><td>&quot;West Somerset 005&quot;</td><td>&quot;E02006117&quot;</td><td>&quot;E&quot;</td><td>6973</td><td>0.0726</td><td>0.078</td><td>0.0714</td><td>0.6608</td><td>0.1172</td></tr></tbody></table></div>"
      ],
      "text/plain": [
       "shape: (6_790, 9)\n",
       "┌────────────┬───────────┬─────────┬───────────┬───┬───────────┬───────────┬───────────┬───────────┐\n",
       "│ MSOA       ┆ MSOA11CD  ┆ country ┆ total_pat ┆ … ┆ age_70_pr ┆ age_75_pr ┆ age_less6 ┆ age_over8 │\n",
       "│ ---        ┆ ---       ┆ ---     ┆ ients     ┆   ┆ oportion  ┆ oportion  ┆ 5_proport ┆ 0_proport │\n",
       "│ str        ┆ str       ┆ str     ┆ ---       ┆   ┆ ---       ┆ ---       ┆ ion       ┆ ion       │\n",
       "│            ┆           ┆         ┆ i64       ┆   ┆ f64       ┆ f64       ┆ ---       ┆ ---       │\n",
       "│            ┆           ┆         ┆           ┆   ┆           ┆           ┆ f64       ┆ f64       │\n",
       "╞════════════╪═══════════╪═════════╪═══════════╪═══╪═══════════╪═══════════╪═══════════╪═══════════╡\n",
       "│ Darlington ┆ E02002559 ┆ E       ┆ 8996      ┆ … ┆ 0.0649    ┆ 0.0607    ┆ 0.718     ┆ 0.0957    │\n",
       "│ 001        ┆           ┆         ┆           ┆   ┆           ┆           ┆           ┆           │\n",
       "│ Darlington ┆ E02002560 ┆ E       ┆ 6101      ┆ … ┆ 0.0649    ┆ 0.0606    ┆ 0.7181    ┆ 0.0957    │\n",
       "│ 002        ┆           ┆         ┆           ┆   ┆           ┆           ┆           ┆           │\n",
       "│ Darlington ┆ E02002561 ┆ E       ┆ 5840      ┆ … ┆ 0.0649    ┆ 0.0606    ┆ 0.7182    ┆ 0.0957    │\n",
       "│ 003        ┆           ┆         ┆           ┆   ┆           ┆           ┆           ┆           │\n",
       "│ Darlington ┆ E02002562 ┆ E       ┆ 6170      ┆ … ┆ 0.065     ┆ 0.0606    ┆ 0.718     ┆ 0.0956    │\n",
       "│ 004        ┆           ┆         ┆           ┆   ┆           ┆           ┆           ┆           │\n",
       "│ Darlington ┆ E02002563 ┆ E       ┆ 5556      ┆ … ┆ 0.065     ┆ 0.0607    ┆ 0.718     ┆ 0.0958    │\n",
       "│ 005        ┆           ┆         ┆           ┆   ┆           ┆           ┆           ┆           │\n",
       "│ …          ┆ …         ┆ …       ┆ …         ┆ … ┆ …         ┆ …         ┆ …         ┆ …         │\n",
       "│ West       ┆ E02006113 ┆ E       ┆ 9210      ┆ … ┆ 0.0781    ┆ 0.0713    ┆ 0.6606    ┆ 0.1174    │\n",
       "│ Somerset   ┆           ┆         ┆           ┆   ┆           ┆           ┆           ┆           │\n",
       "│ 001        ┆           ┆         ┆           ┆   ┆           ┆           ┆           ┆           │\n",
       "│ West       ┆ E02006114 ┆ E       ┆ 8459      ┆ … ┆ 0.0781    ┆ 0.0714    ┆ 0.6606    ┆ 0.1173    │\n",
       "│ Somerset   ┆           ┆         ┆           ┆   ┆           ┆           ┆           ┆           │\n",
       "│ 002        ┆           ┆         ┆           ┆   ┆           ┆           ┆           ┆           │\n",
       "│ West       ┆ E02006115 ┆ E       ┆ 9074      ┆ … ┆ 0.0781    ┆ 0.0714    ┆ 0.6606    ┆ 0.1173    │\n",
       "│ Somerset   ┆           ┆         ┆           ┆   ┆           ┆           ┆           ┆           │\n",
       "│ 003        ┆           ┆         ┆           ┆   ┆           ┆           ┆           ┆           │\n",
       "│ West       ┆ E02006116 ┆ E       ┆ 9875      ┆ … ┆ 0.0781    ┆ 0.0714    ┆ 0.6607    ┆ 0.1173    │\n",
       "│ Somerset   ┆           ┆         ┆           ┆   ┆           ┆           ┆           ┆           │\n",
       "│ 004        ┆           ┆         ┆           ┆   ┆           ┆           ┆           ┆           │\n",
       "│ West       ┆ E02006117 ┆ E       ┆ 6973      ┆ … ┆ 0.078     ┆ 0.0714    ┆ 0.6608    ┆ 0.1172    │\n",
       "│ Somerset   ┆           ┆         ┆           ┆   ┆           ┆           ┆           ┆           │\n",
       "│ 005        ┆           ┆         ┆           ┆   ┆           ┆           ┆           ┆           │\n",
       "└────────────┴───────────┴─────────┴───────────┴───┴───────────┴───────────┴───────────┴───────────┘"
      ]
     },
     "execution_count": 6,
     "metadata": {},
     "output_type": "execute_result"
    }
   ],
   "source": [
    "dict_df_proj_scaled[proj_years_str[-1]]"
   ]
  },
  {
   "cell_type": "markdown",
   "id": "168d22aa-9e2e-4594-b59f-332c6a6aeb8f",
   "metadata": {},
   "source": [
    "Load MSOA demographic data for the IMD scores:"
   ]
  },
  {
   "cell_type": "code",
   "execution_count": 7,
   "id": "8a06043d-ea40-4fcf-a2ac-38157eb6a650",
   "metadata": {},
   "outputs": [],
   "source": [
    "path_to_msoa_stats = os.path.join('data', 'msoa_cleaned.csv')\n",
    "\n",
    "df_stats = pl.read_csv(path_to_msoa_stats)\n",
    "\n",
    "# Only keep IMD column:\n",
    "df_stats = df_stats[['MSOA11CD', 'IMD2019Score']]"
   ]
  },
  {
   "cell_type": "code",
   "execution_count": 8,
   "id": "d572bf40-1cdb-47ad-a506-6476d0042242",
   "metadata": {},
   "outputs": [
    {
     "data": {
      "text/html": [
       "<div><style>\n",
       ".dataframe > thead > tr,\n",
       ".dataframe > tbody > tr {\n",
       "  text-align: right;\n",
       "  white-space: pre-wrap;\n",
       "}\n",
       "</style>\n",
       "<small>shape: (5, 2)</small><table border=\"1\" class=\"dataframe\"><thead><tr><th>MSOA11CD</th><th>IMD2019Score</th></tr><tr><td>str</td><td>f64</td></tr></thead><tbody><tr><td>&quot;E02006534&quot;</td><td>16.924833</td></tr><tr><td>&quot;E02006535&quot;</td><td>6.4704</td></tr><tr><td>&quot;E02006536&quot;</td><td>13.7334</td></tr><tr><td>&quot;E02006537&quot;</td><td>26.199857</td></tr><tr><td>&quot;E02006538&quot;</td><td>11.7948</td></tr></tbody></table></div>"
      ],
      "text/plain": [
       "shape: (5, 2)\n",
       "┌───────────┬──────────────┐\n",
       "│ MSOA11CD  ┆ IMD2019Score │\n",
       "│ ---       ┆ ---          │\n",
       "│ str       ┆ f64          │\n",
       "╞═══════════╪══════════════╡\n",
       "│ E02006534 ┆ 16.924833    │\n",
       "│ E02006535 ┆ 6.4704       │\n",
       "│ E02006536 ┆ 13.7334      │\n",
       "│ E02006537 ┆ 26.199857    │\n",
       "│ E02006538 ┆ 11.7948      │\n",
       "└───────────┴──────────────┘"
      ]
     },
     "execution_count": 8,
     "metadata": {},
     "output_type": "execute_result"
    }
   ],
   "source": [
    "df_stats.head()"
   ]
  },
  {
   "cell_type": "markdown",
   "id": "1720b11c-67ed-4de3-af7d-8f7fdbaba324",
   "metadata": {},
   "source": [
    "Merge IMD scores into age projection data:"
   ]
  },
  {
   "cell_type": "code",
   "execution_count": 9,
   "id": "4b7fc462-7592-413c-aadb-573ae78e5770",
   "metadata": {},
   "outputs": [],
   "source": [
    "for label, df in dict_df_proj_scaled.items():\n",
    "    df = df.join(df_stats, on='MSOA11CD')\n",
    "    dict_df_proj_scaled[label] = df"
   ]
  },
  {
   "cell_type": "markdown",
   "id": "f7aa8c92-0de8-4d7a-8dab-e2a6a894139a",
   "metadata": {},
   "source": [
    "Set up bins for IMD scores:\n",
    "\n",
    "(can't recalculate from scratch as this data is missing Welsh MSOA that contributed to original IMD bin widths)"
   ]
  },
  {
   "cell_type": "code",
   "execution_count": 10,
   "id": "76d4e8c0-e841-4fc0-a970-9b5911a41a6a",
   "metadata": {},
   "outputs": [],
   "source": [
    "# dict_quantiles = {}\n",
    "\n",
    "# for q in np.arange(0.0, 1.01, 0.1):\n",
    "#     v = df_stats['IMD2019Score'].quantile(q)\n",
    "#     dict_quantiles[round(q, 1)] = round(v, 5)"
   ]
  },
  {
   "cell_type": "code",
   "execution_count": 11,
   "id": "e565832f-115c-4b79-b7d1-a8fff3a14b0b",
   "metadata": {},
   "outputs": [],
   "source": [
    "dict_quantiles = {\n",
    "    0.0: 2.2122,\n",
    "    0.1: 7.708,\n",
    "    0.2: 10.369,\n",
    "    0.3: 12.74375,\n",
    "    0.4: 15.2564,\n",
    "    0.5: 18.32929,\n",
    "    0.6: 21.81475,\n",
    "    0.7: 26.36117,\n",
    "    0.8: 31.84075,\n",
    "    0.9: 40.6996,\n",
    "    1.0: 87.02675\n",
    "}"
   ]
  },
  {
   "cell_type": "markdown",
   "id": "16fa52c1-d805-4847-a8c8-4023e0cd9a70",
   "metadata": {},
   "source": [
    "Pick out just the values for the left edges of the bins:"
   ]
  },
  {
   "cell_type": "code",
   "execution_count": 12,
   "id": "eb69ad8e-c9a9-4f47-b274-a10ce2ad6940",
   "metadata": {},
   "outputs": [],
   "source": [
    "imd_bin_left_edges = {}\n",
    "for k in list(dict_quantiles.keys())[:-1]:\n",
    "    imd_bin_left_edges[k] = dict_quantiles[k]"
   ]
  },
  {
   "cell_type": "code",
   "execution_count": 13,
   "id": "d1bda88f-e460-4200-a85b-91ccb767fddd",
   "metadata": {},
   "outputs": [
    {
     "data": {
      "text/plain": [
       "{0.0: 2.2122,\n",
       " 0.1: 7.708,\n",
       " 0.2: 10.369,\n",
       " 0.3: 12.74375,\n",
       " 0.4: 15.2564,\n",
       " 0.5: 18.32929,\n",
       " 0.6: 21.81475,\n",
       " 0.7: 26.36117,\n",
       " 0.8: 31.84075,\n",
       " 0.9: 40.6996}"
      ]
     },
     "execution_count": 13,
     "metadata": {},
     "output_type": "execute_result"
    }
   ],
   "source": [
    "imd_bin_left_edges"
   ]
  },
  {
   "cell_type": "markdown",
   "id": "28c73a3d-02a0-4e27-88cb-1f9d30a91ee9",
   "metadata": {},
   "source": [
    "Place MSOA into these bins:"
   ]
  },
  {
   "cell_type": "code",
   "execution_count": 14,
   "id": "eceac0b5-21eb-466d-8d68-1c48b62bfc1b",
   "metadata": {},
   "outputs": [],
   "source": [
    "def bin_imds(df_stats, dict_quantiles):\n",
    "    # Make columns for the results with a placeholder value:\n",
    "    df_stats = df_stats.with_columns(pl.lit(0).alias('imd_bin_min'))\n",
    "    df_stats = df_stats.with_columns(pl.lit(0).alias('imd_bin_max'))\n",
    "    \n",
    "    for q, quantile in enumerate(list(dict_quantiles.keys())[:-1]):\n",
    "        # Pick out the bin edges:\n",
    "        q0 = dict_quantiles[quantile]\n",
    "        q1 = dict_quantiles[list(dict_quantiles.keys())[q+1]]\n",
    "        # Find a mask for the demographic data that contains\n",
    "        # only MSOA with IMD scores in this bin.\n",
    "        mask = (df_stats['IMD2019Score'] >= q0) & (df_stats['IMD2019Score'] < q1)\n",
    "        if q == len(dict_quantiles) - 2:\n",
    "            # Also allow values at the right edge of the final bin.\n",
    "            mask = mask | (df_stats['IMD2019Score'] == q1)\n",
    "    \n",
    "        # Update the bin min/max values for these rows:\n",
    "        df_stats = df_stats.with_columns(\n",
    "            pl.when((mask))\n",
    "            .then(q0)         # replace with bin min\n",
    "            .otherwise(pl.col('imd_bin_min'))  # otherwise keep the existing value\n",
    "            .name.keep()\n",
    "        )\n",
    "        df_stats = df_stats.with_columns(\n",
    "            pl.when((mask))\n",
    "            .then(q1)         # replace with bin min\n",
    "            .otherwise(pl.col('imd_bin_max'))  # otherwise keep the existing value\n",
    "            .name.keep()\n",
    "        )\n",
    "    return df_stats"
   ]
  },
  {
   "cell_type": "code",
   "execution_count": 15,
   "id": "4a01b8fb-5864-4fe9-804d-6a81db112645",
   "metadata": {},
   "outputs": [],
   "source": [
    "for label, df in dict_df_proj_scaled.items():\n",
    "    df = bin_imds(df, dict_quantiles)\n",
    "    dict_df_proj_scaled[label] = df"
   ]
  },
  {
   "cell_type": "markdown",
   "id": "6c380649-5c63-497f-9935-c00abb3f1bd6",
   "metadata": {},
   "source": [
    "Check that data was binned correctly:"
   ]
  },
  {
   "cell_type": "code",
   "execution_count": 16,
   "id": "34b4beee-b1f1-45f9-8e31-c0a8b0218938",
   "metadata": {},
   "outputs": [
    {
     "data": {
      "text/html": [
       "<div><style>\n",
       ".dataframe > thead > tr,\n",
       ".dataframe > tbody > tr {\n",
       "  text-align: right;\n",
       "  white-space: pre-wrap;\n",
       "}\n",
       "</style>\n",
       "<small>shape: (6_790, 3)</small><table border=\"1\" class=\"dataframe\"><thead><tr><th>IMD2019Score</th><th>imd_bin_min</th><th>imd_bin_max</th></tr><tr><td>f64</td><td>f64</td><td>f64</td></tr></thead><tbody><tr><td>16.924833</td><td>15.2564</td><td>18.32929</td></tr><tr><td>6.4704</td><td>2.2122</td><td>7.708</td></tr><tr><td>13.7334</td><td>12.74375</td><td>15.2564</td></tr><tr><td>26.199857</td><td>21.81475</td><td>26.36117</td></tr><tr><td>11.7948</td><td>10.369</td><td>12.74375</td></tr><tr><td>&hellip;</td><td>&hellip;</td><td>&hellip;</td></tr><tr><td>3.25925</td><td>2.2122</td><td>7.708</td></tr><tr><td>7.29475</td><td>2.2122</td><td>7.708</td></tr><tr><td>12.117</td><td>10.369</td><td>12.74375</td></tr><tr><td>6.327667</td><td>2.2122</td><td>7.708</td></tr><tr><td>4.463833</td><td>2.2122</td><td>7.708</td></tr></tbody></table></div>"
      ],
      "text/plain": [
       "shape: (6_790, 3)\n",
       "┌──────────────┬─────────────┬─────────────┐\n",
       "│ IMD2019Score ┆ imd_bin_min ┆ imd_bin_max │\n",
       "│ ---          ┆ ---         ┆ ---         │\n",
       "│ f64          ┆ f64         ┆ f64         │\n",
       "╞══════════════╪═════════════╪═════════════╡\n",
       "│ 16.924833    ┆ 15.2564     ┆ 18.32929    │\n",
       "│ 6.4704       ┆ 2.2122      ┆ 7.708       │\n",
       "│ 13.7334      ┆ 12.74375    ┆ 15.2564     │\n",
       "│ 26.199857    ┆ 21.81475    ┆ 26.36117    │\n",
       "│ 11.7948      ┆ 10.369      ┆ 12.74375    │\n",
       "│ …            ┆ …           ┆ …           │\n",
       "│ 3.25925      ┆ 2.2122      ┆ 7.708       │\n",
       "│ 7.29475      ┆ 2.2122      ┆ 7.708       │\n",
       "│ 12.117       ┆ 10.369      ┆ 12.74375    │\n",
       "│ 6.327667     ┆ 2.2122      ┆ 7.708       │\n",
       "│ 4.463833     ┆ 2.2122      ┆ 7.708       │\n",
       "└──────────────┴─────────────┴─────────────┘"
      ]
     },
     "execution_count": 16,
     "metadata": {},
     "output_type": "execute_result"
    }
   ],
   "source": [
    "dict_df_proj_scaled[proj_years_str[-1]][['IMD2019Score', 'imd_bin_min', 'imd_bin_max']]"
   ]
  },
  {
   "cell_type": "markdown",
   "id": "39477629-40f5-419f-9c1a-f80f302cf117",
   "metadata": {},
   "source": [
    "## Predict health\n",
    "\n",
    "Use the projected age proportions to calculate new health proportions."
   ]
  },
  {
   "cell_type": "code",
   "execution_count": 31,
   "id": "d1e63a48-7670-4432-b4fc-1a93748108b6",
   "metadata": {},
   "outputs": [],
   "source": [
    "def predict_health_props(df_stats, dict_quantiles, df_health_lines):\n",
    "    # Make a copy of the MSOA data:\n",
    "    df_p_health_props = df_stats\n",
    "    # Make columns for the results with a placeholder value:\n",
    "    props_health = ['prop_good_health', 'prop_fair health', 'prop_bad health']\n",
    "    for p in props_health:\n",
    "        new_col = f'{p}_pred'\n",
    "        df_p_health_props = df_p_health_props.with_columns(pl.lit(0).alias(new_col))\n",
    "    \n",
    "    for q, quantile in enumerate(list(dict_quantiles.keys())[:-1]):\n",
    "        # Pick out the bin edges:\n",
    "        q0 = dict_quantiles[quantile]\n",
    "        q1 = dict_quantiles[list(dict_quantiles.keys())[q+1]]\n",
    "        # Find a mask for the demographic data that contains\n",
    "        # only MSOA with IMD scores in this bin.\n",
    "        mask = (df_p_health_props['IMD2019Score'] >= q0) & (df_p_health_props['IMD2019Score'] < q1)\n",
    "        if q == len(dict_quantiles) - 2:\n",
    "            # Also allow values at the right edge of the final bin.\n",
    "            mask = mask | (df_p_health_props['IMD2019Score'] == q1)\n",
    "    \n",
    "        # Pick out the line parameters for this IMD / age combo:\n",
    "        props_age = [c for c in df_stats.columns if (('prop' in c) & ('age' in c))]\n",
    "        for health_col in props_health:\n",
    "            for age_band in props_age:\n",
    "                # Pick out line params:\n",
    "                mask_line = (\n",
    "                    (df_health_lines['imd_bin_min'] == q0) &\n",
    "                    (df_health_lines['col_age'] == age_band) &\n",
    "                    (df_health_lines['col_health'] == health_col)\n",
    "                )\n",
    "                m = df_health_lines.filter(mask_line)['m'].to_numpy()[0]\n",
    "                c = df_health_lines.filter(mask_line)['c'].to_numpy()[0]\n",
    "    \n",
    "                # mask_here = mask & ()\n",
    "                # Calculate new props:\n",
    "                df_p_health_props = df_p_health_props.with_columns(\n",
    "                    pl.when((mask))\n",
    "                    .then(m * df_p_health_props[age_band] + c)  # replace with calculated values\n",
    "                    .otherwise(pl.col(f'{health_col}_pred'))  # otherwise keep the existing value\n",
    "                    .name.keep()\n",
    "                )\n",
    "    # Convert proportions to numbers:\n",
    "    df_p_health_props = df_p_health_props.with_columns((df_p_health_props['prop_good_health_pred'] * df_p_health_props['total_patients']).alias('n_good_health'))\n",
    "    df_p_health_props = df_p_health_props.with_columns((df_p_health_props['prop_fair health_pred'] * df_p_health_props['total_patients']).alias('n_fair_health'))\n",
    "    df_p_health_props = df_p_health_props.with_columns((df_p_health_props['prop_bad health_pred'] * df_p_health_props['total_patients']).alias('n_bad_health'))\n",
    "    \n",
    "    # Round to nearest integer:\n",
    "    for col in ['n_good_health', 'n_fair_health', 'n_bad_health']:\n",
    "        df_p_health_props = df_p_health_props.with_columns(pl.col(col).round(0).cast(int))\n",
    "    return df_p_health_props"
   ]
  },
  {
   "cell_type": "code",
   "execution_count": 32,
   "id": "4d9e76e6-1227-4ebb-8275-d1eaa2722913",
   "metadata": {},
   "outputs": [],
   "source": [
    "for label, df in dict_df_proj_scaled.items():\n",
    "    df = predict_health_props(df, dict_quantiles, df_health_lines)\n",
    "    dict_df_proj_scaled[label] = df"
   ]
  },
  {
   "cell_type": "markdown",
   "id": "d3c145ab-13f9-49f9-9d0d-a4e1e3e794f6",
   "metadata": {},
   "source": [
    "View the results:"
   ]
  },
  {
   "cell_type": "code",
   "execution_count": 33,
   "id": "f0eb77d3-2460-4e24-843d-21981a786fb5",
   "metadata": {},
   "outputs": [
    {
     "data": {
      "text/html": [
       "<div><style>\n",
       ".dataframe > thead > tr,\n",
       ".dataframe > tbody > tr {\n",
       "  text-align: right;\n",
       "  white-space: pre-wrap;\n",
       "}\n",
       "</style>\n",
       "<small>shape: (6_790, 18)</small><table border=\"1\" class=\"dataframe\"><thead><tr><th>MSOA</th><th>MSOA11CD</th><th>country</th><th>total_patients</th><th>age_65_proportion</th><th>age_70_proportion</th><th>age_75_proportion</th><th>age_less65_proportion</th><th>age_over80_proportion</th><th>IMD2019Score</th><th>imd_bin_min</th><th>imd_bin_max</th><th>prop_good_health_pred</th><th>prop_fair health_pred</th><th>prop_bad health_pred</th><th>n_good_health</th><th>n_fair_health</th><th>n_bad_health</th></tr><tr><td>str</td><td>str</td><td>str</td><td>i64</td><td>f64</td><td>f64</td><td>f64</td><td>f64</td><td>f64</td><td>f64</td><td>f64</td><td>f64</td><td>f64</td><td>f64</td><td>f64</td><td>i64</td><td>i64</td><td>i64</td></tr></thead><tbody><tr><td>&quot;Adur 001&quot;</td><td>&quot;E02006534&quot;</td><td>&quot;E&quot;</td><td>9502</td><td>0.0677</td><td>0.0683</td><td>0.0622</td><td>0.7079</td><td>0.094</td><td>16.924833</td><td>15.2564</td><td>18.32929</td><td>0.778525</td><td>0.161331</td><td>0.060144</td><td>7398</td><td>1533</td><td>571</td></tr><tr><td>&quot;Adur 002&quot;</td><td>&quot;E02006535&quot;</td><td>&quot;E&quot;</td><td>7394</td><td>0.0676</td><td>0.0683</td><td>0.0622</td><td>0.7079</td><td>0.094</td><td>6.4704</td><td>2.2122</td><td>7.708</td><td>0.836635</td><td>0.124147</td><td>0.039218</td><td>6186</td><td>918</td><td>290</td></tr><tr><td>&quot;Adur 003&quot;</td><td>&quot;E02006536&quot;</td><td>&quot;E&quot;</td><td>7912</td><td>0.0676</td><td>0.0684</td><td>0.0622</td><td>0.7078</td><td>0.094</td><td>13.7334</td><td>12.74375</td><td>15.2564</td><td>0.794066</td><td>0.151954</td><td>0.05398</td><td>6283</td><td>1202</td><td>427</td></tr><tr><td>&quot;Adur 004&quot;</td><td>&quot;E02006537&quot;</td><td>&quot;E&quot;</td><td>11288</td><td>0.0677</td><td>0.0683</td><td>0.0622</td><td>0.7078</td><td>0.094</td><td>26.199857</td><td>21.81475</td><td>26.36117</td><td>0.742201</td><td>0.181457</td><td>0.076343</td><td>8378</td><td>2048</td><td>862</td></tr><tr><td>&quot;Adur 005&quot;</td><td>&quot;E02006538&quot;</td><td>&quot;E&quot;</td><td>9503</td><td>0.0677</td><td>0.0683</td><td>0.0622</td><td>0.7079</td><td>0.094</td><td>11.7948</td><td>10.369</td><td>12.74375</td><td>0.802013</td><td>0.14681</td><td>0.051177</td><td>7622</td><td>1395</td><td>486</td></tr><tr><td>&hellip;</td><td>&hellip;</td><td>&hellip;</td><td>&hellip;</td><td>&hellip;</td><td>&hellip;</td><td>&hellip;</td><td>&hellip;</td><td>&hellip;</td><td>&hellip;</td><td>&hellip;</td><td>&hellip;</td><td>&hellip;</td><td>&hellip;</td><td>&hellip;</td><td>&hellip;</td><td>&hellip;</td><td>&hellip;</td></tr><tr><td>&quot;York 020&quot;</td><td>&quot;E02002791&quot;</td><td>&quot;E&quot;</td><td>7127</td><td>0.0505</td><td>0.0529</td><td>0.0494</td><td>0.7662</td><td>0.081</td><td>3.25925</td><td>2.2122</td><td>7.708</td><td>0.848089</td><td>0.115657</td><td>0.036254</td><td>6044</td><td>824</td><td>258</td></tr><tr><td>&quot;York 021&quot;</td><td>&quot;E02002792&quot;</td><td>&quot;E&quot;</td><td>7672</td><td>0.0504</td><td>0.0529</td><td>0.0494</td><td>0.7663</td><td>0.0809</td><td>7.29475</td><td>2.2122</td><td>7.708</td><td>0.848177</td><td>0.115591</td><td>0.036231</td><td>6507</td><td>887</td><td>278</td></tr><tr><td>&quot;York 022&quot;</td><td>&quot;E02002793&quot;</td><td>&quot;E&quot;</td><td>9991</td><td>0.0504</td><td>0.0529</td><td>0.0494</td><td>0.7663</td><td>0.0809</td><td>12.117</td><td>10.369</td><td>12.74375</td><td>0.815539</td><td>0.136776</td><td>0.047685</td><td>8148</td><td>1367</td><td>476</td></tr><tr><td>&quot;York 023&quot;</td><td>&quot;E02002794&quot;</td><td>&quot;E&quot;</td><td>9612</td><td>0.0505</td><td>0.053</td><td>0.0494</td><td>0.7662</td><td>0.0809</td><td>6.327667</td><td>2.2122</td><td>7.708</td><td>0.848177</td><td>0.115591</td><td>0.036231</td><td>8153</td><td>1111</td><td>348</td></tr><tr><td>&quot;York 024&quot;</td><td>&quot;E02002795&quot;</td><td>&quot;E&quot;</td><td>8804</td><td>0.0504</td><td>0.0529</td><td>0.0494</td><td>0.7664</td><td>0.0809</td><td>4.463833</td><td>2.2122</td><td>7.708</td><td>0.848177</td><td>0.115591</td><td>0.036231</td><td>7467</td><td>1018</td><td>319</td></tr></tbody></table></div>"
      ],
      "text/plain": [
       "shape: (6_790, 18)\n",
       "┌──────────┬───────────┬─────────┬────────────┬───┬────────────┬───────────┬───────────┬───────────┐\n",
       "│ MSOA     ┆ MSOA11CD  ┆ country ┆ total_pati ┆ … ┆ prop_bad   ┆ n_good_he ┆ n_fair_he ┆ n_bad_hea │\n",
       "│ ---      ┆ ---       ┆ ---     ┆ ents       ┆   ┆ health_pre ┆ alth      ┆ alth      ┆ lth       │\n",
       "│ str      ┆ str       ┆ str     ┆ ---        ┆   ┆ d          ┆ ---       ┆ ---       ┆ ---       │\n",
       "│          ┆           ┆         ┆ i64        ┆   ┆ ---        ┆ i64       ┆ i64       ┆ i64       │\n",
       "│          ┆           ┆         ┆            ┆   ┆ f64        ┆           ┆           ┆           │\n",
       "╞══════════╪═══════════╪═════════╪════════════╪═══╪════════════╪═══════════╪═══════════╪═══════════╡\n",
       "│ Adur 001 ┆ E02006534 ┆ E       ┆ 9502       ┆ … ┆ 0.060144   ┆ 7398      ┆ 1533      ┆ 571       │\n",
       "│ Adur 002 ┆ E02006535 ┆ E       ┆ 7394       ┆ … ┆ 0.039218   ┆ 6186      ┆ 918       ┆ 290       │\n",
       "│ Adur 003 ┆ E02006536 ┆ E       ┆ 7912       ┆ … ┆ 0.05398    ┆ 6283      ┆ 1202      ┆ 427       │\n",
       "│ Adur 004 ┆ E02006537 ┆ E       ┆ 11288      ┆ … ┆ 0.076343   ┆ 8378      ┆ 2048      ┆ 862       │\n",
       "│ Adur 005 ┆ E02006538 ┆ E       ┆ 9503       ┆ … ┆ 0.051177   ┆ 7622      ┆ 1395      ┆ 486       │\n",
       "│ …        ┆ …         ┆ …       ┆ …          ┆ … ┆ …          ┆ …         ┆ …         ┆ …         │\n",
       "│ York 020 ┆ E02002791 ┆ E       ┆ 7127       ┆ … ┆ 0.036254   ┆ 6044      ┆ 824       ┆ 258       │\n",
       "│ York 021 ┆ E02002792 ┆ E       ┆ 7672       ┆ … ┆ 0.036231   ┆ 6507      ┆ 887       ┆ 278       │\n",
       "│ York 022 ┆ E02002793 ┆ E       ┆ 9991       ┆ … ┆ 0.047685   ┆ 8148      ┆ 1367      ┆ 476       │\n",
       "│ York 023 ┆ E02002794 ┆ E       ┆ 9612       ┆ … ┆ 0.036231   ┆ 8153      ┆ 1111      ┆ 348       │\n",
       "│ York 024 ┆ E02002795 ┆ E       ┆ 8804       ┆ … ┆ 0.036231   ┆ 7467      ┆ 1018      ┆ 319       │\n",
       "└──────────┴───────────┴─────────┴────────────┴───┴────────────┴───────────┴───────────┴───────────┘"
      ]
     },
     "execution_count": 33,
     "metadata": {},
     "output_type": "execute_result"
    }
   ],
   "source": [
    "dict_df_proj_scaled[proj_years_str[-1]]"
   ]
  },
  {
   "cell_type": "markdown",
   "id": "199fab19-8a11-4624-99c1-398812ac9b54",
   "metadata": {},
   "source": [
    "## Predict admissions from age proportions\n",
    "\n",
    "Bring the two models together.\n",
    "\n",
    "Use the health proportions that have just been calculated and use the admissions prediction function from before.\n",
    "\n",
    "First convert proportions of each health type into numbers with each health type:"
   ]
  },
  {
   "cell_type": "code",
   "execution_count": 34,
   "id": "91362455-0153-4b41-87a0-38054eccd728",
   "metadata": {},
   "outputs": [],
   "source": [
    "def calculate_admissions_from_health(df_stats, df_admissions_lines, col_n_good, col_n_fair, col_n_bad):\n",
    "    # Make a copy of the MSOA data:\n",
    "    cols_to_keep = ['MSOA', 'IMD2019Score', ] + [col_n_good, col_n_fair, col_n_bad]\n",
    "    df_p_admissions = df_stats[cols_to_keep]\n",
    "    # Make column for the results with a placeholder value:\n",
    "    col_admissions_pred = 'admissions_predicted'\n",
    "    df_p_admissions = df_p_admissions.with_columns(pl.lit(0).alias(col_admissions_pred))\n",
    "    \n",
    "    for q, quantile in enumerate(list(dict_quantiles.keys())[:-1]):\n",
    "        # Pick out the bin edges:\n",
    "        q0 = dict_quantiles[quantile]\n",
    "        q1 = dict_quantiles[list(dict_quantiles.keys())[q+1]]\n",
    "        # Find a mask for the demographic data that contains\n",
    "        # only MSOA with IMD scores in this bin.\n",
    "        mask = (df_p_admissions['IMD2019Score'] >= q0) & (df_p_admissions['IMD2019Score'] < q1)\n",
    "        if q == len(dict_quantiles) - 2:\n",
    "            # Also allow values at the right edge of the final bin.\n",
    "            mask = mask | (df_p_admissions['IMD2019Score'] == q1)\n",
    "    \n",
    "        # Pick out the line parameters for this IMD:\n",
    "        mask_coeffs = ((df_admissions_lines['imd_bin_min'] == q0))\n",
    "        coeff_good = df_admissions_lines.filter(mask_coeffs)['coeff_good_health'].to_numpy()[0]\n",
    "        coeff_fair = df_admissions_lines.filter(mask_coeffs)['coeff_fair_health'].to_numpy()[0]\n",
    "        coeff_bad = df_admissions_lines.filter(mask_coeffs)['coeff_bad_health'].to_numpy()[0]\n",
    "\n",
    "        # Calculate new props:\n",
    "        df_p_admissions = df_p_admissions.with_columns(\n",
    "            pl.when((mask))\n",
    "            .then(\n",
    "                sum([\n",
    "                    coeff_good * df_p_admissions[col_n_good],\n",
    "                    coeff_fair * df_p_admissions[col_n_fair],\n",
    "                    coeff_bad * df_p_admissions[col_n_bad]\n",
    "                ]))  # replace with calculated values\n",
    "            .otherwise(pl.col(col_admissions_pred))  # otherwise keep the existing value\n",
    "            .name.keep()\n",
    "        )\n",
    "    return df_p_admissions[['MSOA', col_admissions_pred]]"
   ]
  },
  {
   "cell_type": "code",
   "execution_count": 35,
   "id": "4dd6f1f0-570a-431e-92a5-7b1b42d150c0",
   "metadata": {},
   "outputs": [],
   "source": [
    "for label, df in dict_df_proj_scaled.items():\n",
    "    df = calculate_admissions_from_health(df, df_admissions_lines, 'n_good_health', 'n_fair_health', 'n_bad_health')\n",
    "    dict_df_proj_scaled[label] = df"
   ]
  },
  {
   "cell_type": "markdown",
   "id": "7fa60893-0af3-439b-bb62-66aa696ca547",
   "metadata": {},
   "source": [
    "Check results:"
   ]
  },
  {
   "cell_type": "code",
   "execution_count": 36,
   "id": "5df55686-897f-4a11-bb2a-39094db7d74e",
   "metadata": {},
   "outputs": [
    {
     "data": {
      "text/html": [
       "<div><style>\n",
       ".dataframe > thead > tr,\n",
       ".dataframe > tbody > tr {\n",
       "  text-align: right;\n",
       "  white-space: pre-wrap;\n",
       "}\n",
       "</style>\n",
       "<small>shape: (6_790, 2)</small><table border=\"1\" class=\"dataframe\"><thead><tr><th>MSOA</th><th>admissions_predicted</th></tr><tr><td>str</td><td>f64</td></tr></thead><tbody><tr><td>&quot;Adur 001&quot;</td><td>18.607401</td></tr><tr><td>&quot;Adur 002&quot;</td><td>12.979242</td></tr><tr><td>&quot;Adur 003&quot;</td><td>15.301964</td></tr><tr><td>&quot;Adur 004&quot;</td><td>23.133262</td></tr><tr><td>&quot;Adur 005&quot;</td><td>17.87351</td></tr><tr><td>&hellip;</td><td>&hellip;</td></tr><tr><td>&quot;York 020&quot;</td><td>11.609428</td></tr><tr><td>&quot;York 021&quot;</td><td>12.501895</td></tr><tr><td>&quot;York 022&quot;</td><td>17.514086</td></tr><tr><td>&quot;York 023&quot;</td><td>15.655451</td></tr><tr><td>&quot;York 024&quot;</td><td>14.347268</td></tr></tbody></table></div>"
      ],
      "text/plain": [
       "shape: (6_790, 2)\n",
       "┌──────────┬──────────────────────┐\n",
       "│ MSOA     ┆ admissions_predicted │\n",
       "│ ---      ┆ ---                  │\n",
       "│ str      ┆ f64                  │\n",
       "╞══════════╪══════════════════════╡\n",
       "│ Adur 001 ┆ 18.607401            │\n",
       "│ Adur 002 ┆ 12.979242            │\n",
       "│ Adur 003 ┆ 15.301964            │\n",
       "│ Adur 004 ┆ 23.133262            │\n",
       "│ Adur 005 ┆ 17.87351             │\n",
       "│ …        ┆ …                    │\n",
       "│ York 020 ┆ 11.609428            │\n",
       "│ York 021 ┆ 12.501895            │\n",
       "│ York 022 ┆ 17.514086            │\n",
       "│ York 023 ┆ 15.655451            │\n",
       "│ York 024 ┆ 14.347268            │\n",
       "└──────────┴──────────────────────┘"
      ]
     },
     "execution_count": 36,
     "metadata": {},
     "output_type": "execute_result"
    }
   ],
   "source": [
    "dict_df_proj_scaled[proj_years_str[-1]]"
   ]
  },
  {
   "cell_type": "code",
   "execution_count": 42,
   "id": "60b669b3-4c8d-450a-ac39-3025c8e86dc3",
   "metadata": {},
   "outputs": [
    {
     "name": "stdout",
     "output_type": "stream",
     "text": [
      "2025 13.1651698\n"
     ]
    },
    {
     "data": {
      "image/png": "[encoded data removed]",
      "text/plain": [
       "<Figure size 640x480 with 1 Axes>"
      ]
     },
     "metadata": {},
     "output_type": "display_data"
    },
    {
     "name": "stdout",
     "output_type": "stream",
     "text": [
      "2030 14.235900699999998\n"
     ]
    },
    {
     "data": {
      "image/png": "[encoded data removed]",
      "text/plain": [
       "<Figure size 640x480 with 1 Axes>"
      ]
     },
     "metadata": {},
     "output_type": "display_data"
    },
    {
     "name": "stdout",
     "output_type": "stream",
     "text": [
      "2035 14.8246314\n"
     ]
    },
    {
     "data": {
      "image/png": "[encoded data removed]",
      "text/plain": [
       "<Figure size 640x480 with 1 Axes>"
      ]
     },
     "metadata": {},
     "output_type": "display_data"
    },
    {
     "name": "stdout",
     "output_type": "stream",
     "text": [
      "2040 15.53246285\n"
     ]
    },
    {
     "data": {
      "image/png": "[encoded data removed]",
      "text/plain": [
       "<Figure size 640x480 with 1 Axes>"
      ]
     },
     "metadata": {},
     "output_type": "display_data"
    }
   ],
   "source": [
    "for label, df in dict_df_proj_scaled.items():\n",
    "    print(label, df['admissions_predicted'].median())\n",
    "    fig, ax = plt.subplots()\n",
    "    ax.hist(df['admissions_predicted'], bins=range(0, 45, 2))\n",
    "    ax.set_title(label)\n",
    "    ax.set_ylim(0, 2000)\n",
    "    plt.show()"
   ]
  },
  {
   "cell_type": "code",
   "execution_count": null,
   "id": "e0191452-1a8a-4f03-b740-55c7720c7bf0",
   "metadata": {},
   "outputs": [],
   "source": []
  }
 ],
 "metadata": {
  "kernelspec": {
   "display_name": "Python 3 (ipykernel)",
   "language": "python",
   "name": "python3"
  },
  "language_info": {
   "codemirror_mode": {
    "name": "ipython",
    "version": 3
   },
   "file_extension": ".py",
   "mimetype": "text/x-python",
   "name": "python",
   "nbconvert_exporter": "python",
   "pygments_lexer": "ipython3",
   "version": "3.10.16"
  }
 },
 "nbformat": 4,
 "nbformat_minor": 5
}
