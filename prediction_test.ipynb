{
 "cells": [
  {
   "cell_type": "markdown",
   "id": "28fe674e-1120-4b8b-aa2d-33376652d6b8",
   "metadata": {},
   "source": [
    "# Predict admissions from new data\n",
    "\n",
    "Use some made up MSOA demographics.\n",
    "\n",
    "## Code setup"
   ]
  },
  {
   "cell_type": "code",
   "execution_count": 62,
   "id": "00766110-4e9c-428c-95d6-e180ffc11901",
   "metadata": {},
   "outputs": [],
   "source": [
    "import os\n",
    "import polars as pl\n",
    "import numpy as np\n",
    "\n",
    "from scipy.optimize import minimize\n",
    "import statsmodels.api as sm  # for linear regression\n",
    "\n",
    "import matplotlib.pyplot as plt"
   ]
  },
  {
   "cell_type": "markdown",
   "id": "ca67b37d-1a6e-4d40-9fb0-288db8161752",
   "metadata": {},
   "source": [
    "## Load data\n",
    "\n",
    "Linear regression fits to create health proportions from ages:"
   ]
  },
  {
   "cell_type": "code",
   "execution_count": 63,
   "id": "6b9c8bd2-6a50-4794-b2b2-4508413b86e6",
   "metadata": {},
   "outputs": [
    {
     "data": {
      "text/html": [
       "<div><style>\n",
       ".dataframe > thead > tr,\n",
       ".dataframe > tbody > tr {\n",
       "  text-align: right;\n",
       "  white-space: pre-wrap;\n",
       "}\n",
       "</style>\n",
       "<small>shape: (5, 7)</small><table border=\"1\" class=\"dataframe\"><thead><tr><th>imd_bin_min</th><th>imd_bin_max</th><th>col_age</th><th>col_health</th><th>m</th><th>c</th><th>rsquared</th></tr><tr><td>f64</td><td>f64</td><td>str</td><td>str</td><td>f64</td><td>f64</td><td>f64</td></tr></thead><tbody><tr><td>2.2122</td><td>7.708</td><td>&quot;age_less65_proportion&quot;</td><td>&quot;prop_good_health&quot;</td><td>0.3543778</td><td>0.5874175</td><td>0.6364851</td></tr><tr><td>2.2122</td><td>7.708</td><td>&quot;age_less65_proportion&quot;</td><td>&quot;prop_fair health&quot;</td><td>-0.264882</td><td>0.3105843</td><td>0.6541842</td></tr><tr><td>2.2122</td><td>7.708</td><td>&quot;age_less65_proportion&quot;</td><td>&quot;prop_bad health&quot;</td><td>-0.089496</td><td>0.1019982</td><td>0.4586286</td></tr><tr><td>2.2122</td><td>7.708</td><td>&quot;age_65_proportion&quot;</td><td>&quot;prop_good_health&quot;</td><td>-1.484968</td><td>0.9440812</td><td>0.4800753</td></tr><tr><td>2.2122</td><td>7.708</td><td>&quot;age_65_proportion&quot;</td><td>&quot;prop_fair health&quot;</td><td>1.1150576</td><td>0.0437121</td><td>0.497979</td></tr></tbody></table></div>"
      ],
      "text/plain": [
       "shape: (5, 7)\n",
       "┌─────────────┬─────────────┬─────────────────┬────────────────┬───────────┬───────────┬───────────┐\n",
       "│ imd_bin_min ┆ imd_bin_max ┆ col_age         ┆ col_health     ┆ m         ┆ c         ┆ rsquared  │\n",
       "│ ---         ┆ ---         ┆ ---             ┆ ---            ┆ ---       ┆ ---       ┆ ---       │\n",
       "│ f64         ┆ f64         ┆ str             ┆ str            ┆ f64       ┆ f64       ┆ f64       │\n",
       "╞═════════════╪═════════════╪═════════════════╪════════════════╪═══════════╪═══════════╪═══════════╡\n",
       "│ 2.2122      ┆ 7.708       ┆ age_less65_prop ┆ prop_good_heal ┆ 0.3543778 ┆ 0.5874175 ┆ 0.6364851 │\n",
       "│             ┆             ┆ ortion          ┆ th             ┆           ┆           ┆           │\n",
       "│ 2.2122      ┆ 7.708       ┆ age_less65_prop ┆ prop_fair      ┆ -0.264882 ┆ 0.3105843 ┆ 0.6541842 │\n",
       "│             ┆             ┆ ortion          ┆ health         ┆           ┆           ┆           │\n",
       "│ 2.2122      ┆ 7.708       ┆ age_less65_prop ┆ prop_bad       ┆ -0.089496 ┆ 0.1019982 ┆ 0.4586286 │\n",
       "│             ┆             ┆ ortion          ┆ health         ┆           ┆           ┆           │\n",
       "│ 2.2122      ┆ 7.708       ┆ age_65_proporti ┆ prop_good_heal ┆ -1.484968 ┆ 0.9440812 ┆ 0.4800753 │\n",
       "│             ┆             ┆ on              ┆ th             ┆           ┆           ┆           │\n",
       "│ 2.2122      ┆ 7.708       ┆ age_65_proporti ┆ prop_fair      ┆ 1.1150576 ┆ 0.0437121 ┆ 0.497979  │\n",
       "│             ┆             ┆ on              ┆ health         ┆           ┆           ┆           │\n",
       "└─────────────┴─────────────┴─────────────────┴────────────────┴───────────┴───────────┴───────────┘"
      ]
     },
     "execution_count": 63,
     "metadata": {},
     "output_type": "execute_result"
    }
   ],
   "source": [
    "df_health_lines = pl.read_csv(os.path.join('outputs', 'line_fits_age_to_health.csv'))\n",
    "\n",
    "df_health_lines.head()"
   ]
  },
  {
   "cell_type": "markdown",
   "id": "4c4b0f6d-9126-47a9-be9f-52090d8cb42d",
   "metadata": {},
   "source": [
    "Linear regression fits to create admissions from health proportions:"
   ]
  },
  {
   "cell_type": "code",
   "execution_count": 64,
   "id": "e1dc0695-83c8-4295-8a9e-bf747eda900b",
   "metadata": {},
   "outputs": [
    {
     "data": {
      "text/html": [
       "<div><style>\n",
       ".dataframe > thead > tr,\n",
       ".dataframe > tbody > tr {\n",
       "  text-align: right;\n",
       "  white-space: pre-wrap;\n",
       "}\n",
       "</style>\n",
       "<small>shape: (5, 6)</small><table border=\"1\" class=\"dataframe\"><thead><tr><th>imd_bin_min</th><th>imd_bin_max</th><th>coeff_good_health</th><th>coeff_fair_health</th><th>coeff_bad_health</th><th>rsquared</th></tr><tr><td>f64</td><td>f64</td><td>f64</td><td>f64</td><td>f64</td><td>f64</td></tr></thead><tbody><tr><td>2.2122</td><td>7.708</td><td>0.0</td><td>0.008549</td><td>0.017694</td><td>0.5722268</td></tr><tr><td>7.708</td><td>10.369</td><td>0.0</td><td>0.0101521</td><td>0.0091246</td><td>0.5156227</td></tr><tr><td>10.369</td><td>12.74375</td><td>0.0</td><td>0.0118571</td><td>0.0027425</td><td>0.5254204</td></tr><tr><td>12.74375</td><td>15.2564</td><td>0.0</td><td>0.0119053</td><td>0.0023227</td><td>0.565176</td></tr><tr><td>15.2564</td><td>18.32929</td><td>0.0</td><td>0.0121379</td><td>0.0</td><td>0.5270501</td></tr></tbody></table></div>"
      ],
      "text/plain": [
       "shape: (5, 6)\n",
       "┌─────────────┬─────────────┬───────────────────┬───────────────────┬──────────────────┬───────────┐\n",
       "│ imd_bin_min ┆ imd_bin_max ┆ coeff_good_health ┆ coeff_fair_health ┆ coeff_bad_health ┆ rsquared  │\n",
       "│ ---         ┆ ---         ┆ ---               ┆ ---               ┆ ---              ┆ ---       │\n",
       "│ f64         ┆ f64         ┆ f64               ┆ f64               ┆ f64              ┆ f64       │\n",
       "╞═════════════╪═════════════╪═══════════════════╪═══════════════════╪══════════════════╪═══════════╡\n",
       "│ 2.2122      ┆ 7.708       ┆ 0.0               ┆ 0.008549          ┆ 0.017694         ┆ 0.5722268 │\n",
       "│ 7.708       ┆ 10.369      ┆ 0.0               ┆ 0.0101521         ┆ 0.0091246        ┆ 0.5156227 │\n",
       "│ 10.369      ┆ 12.74375    ┆ 0.0               ┆ 0.0118571         ┆ 0.0027425        ┆ 0.5254204 │\n",
       "│ 12.74375    ┆ 15.2564     ┆ 0.0               ┆ 0.0119053         ┆ 0.0023227        ┆ 0.565176  │\n",
       "│ 15.2564     ┆ 18.32929    ┆ 0.0               ┆ 0.0121379         ┆ 0.0              ┆ 0.5270501 │\n",
       "└─────────────┴─────────────┴───────────────────┴───────────────────┴──────────────────┴───────────┘"
      ]
     },
     "execution_count": 64,
     "metadata": {},
     "output_type": "execute_result"
    }
   ],
   "source": [
    "df_admissions_lines = pl.read_csv(os.path.join('outputs', 'line_fits_health_to_admissions.csv'))\n",
    "\n",
    "df_admissions_lines.head()"
   ]
  },
  {
   "cell_type": "markdown",
   "id": "168d22aa-9e2e-4594-b59f-332c6a6aeb8f",
   "metadata": {},
   "source": [
    "MSOA demographic data to base the invented data on:"
   ]
  },
  {
   "cell_type": "code",
   "execution_count": 65,
   "id": "8a06043d-ea40-4fcf-a2ac-38157eb6a650",
   "metadata": {},
   "outputs": [],
   "source": [
    "path_to_msoa_stats = os.path.join('data', 'msoa_cleaned.csv')\n",
    "\n",
    "df_stats = pl.read_csv(path_to_msoa_stats)"
   ]
  },
  {
   "cell_type": "code",
   "execution_count": 66,
   "id": "d572bf40-1cdb-47ad-a506-6476d0042242",
   "metadata": {},
   "outputs": [
    {
     "data": {
      "text/html": [
       "<div><style>\n",
       ".dataframe > thead > tr,\n",
       ".dataframe > tbody > tr {\n",
       "  text-align: right;\n",
       "  white-space: pre-wrap;\n",
       "}\n",
       "</style>\n",
       "<small>shape: (5, 17)</small><table border=\"1\" class=\"dataframe\"><thead><tr><th>MSOA</th><th>admissions</th><th>IMD2019Score</th><th>All persons</th><th>country</th><th>good_health</th><th>fair health</th><th>bad health</th><th>prop_good_health</th><th>prop_fair health</th><th>prop_bad health</th><th>MSOA11CD</th><th>age_65_proportion</th><th>age_70_proportion</th><th>age_75_proportion</th><th>age_less65_proportion</th><th>age_over80_proportion</th></tr><tr><td>str</td><td>f64</td><td>f64</td><td>i64</td><td>str</td><td>i64</td><td>i64</td><td>i64</td><td>f64</td><td>f64</td><td>f64</td><td>str</td><td>f64</td><td>f64</td><td>f64</td><td>f64</td><td>f64</td></tr></thead><tbody><tr><td>&quot;Adur 001&quot;</td><td>14.333333</td><td>16.924833</td><td>8815</td><td>&quot;E&quot;</td><td>6799</td><td>1251</td><td>474</td><td>0.79763</td><td>0.146762</td><td>0.055608</td><td>&quot;E02006534&quot;</td><td>0.0559</td><td>0.0528</td><td>0.0422</td><td>0.7872</td><td>0.062</td></tr><tr><td>&quot;Adur 002&quot;</td><td>7.333333</td><td>6.4704</td><td>7263</td><td>&quot;E&quot;</td><td>5537</td><td>838</td><td>259</td><td>0.83464</td><td>0.126319</td><td>0.039041</td><td>&quot;E02006535&quot;</td><td>0.0578</td><td>0.0774</td><td>0.0492</td><td>0.7467</td><td>0.0692</td></tr><tr><td>&quot;Adur 003&quot;</td><td>9.333333</td><td>13.7334</td><td>7354</td><td>&quot;E&quot;</td><td>5820</td><td>969</td><td>311</td><td>0.819718</td><td>0.136479</td><td>0.043803</td><td>&quot;E02006536&quot;</td><td>0.0609</td><td>0.0582</td><td>0.0421</td><td>0.7729</td><td>0.0661</td></tr><tr><td>&quot;Adur 004&quot;</td><td>21.0</td><td>26.199857</td><td>10582</td><td>&quot;E&quot;</td><td>7872</td><td>1546</td><td>709</td><td>0.777328</td><td>0.152661</td><td>0.070011</td><td>&quot;E02006537&quot;</td><td>0.0465</td><td>0.0438</td><td>0.0367</td><td>0.8091</td><td>0.0638</td></tr><tr><td>&quot;Adur 005&quot;</td><td>13.666667</td><td>11.7948</td><td>9059</td><td>&quot;E&quot;</td><td>7106</td><td>1081</td><td>339</td><td>0.833451</td><td>0.126789</td><td>0.039761</td><td>&quot;E02006538&quot;</td><td>0.0597</td><td>0.067</td><td>0.0425</td><td>0.7643</td><td>0.0662</td></tr></tbody></table></div>"
      ],
      "text/plain": [
       "shape: (5, 17)\n",
       "┌──────────┬───────────┬───────────┬───────────┬───┬───────────┬───────────┬───────────┬───────────┐\n",
       "│ MSOA     ┆ admission ┆ IMD2019Sc ┆ All       ┆ … ┆ age_70_pr ┆ age_75_pr ┆ age_less6 ┆ age_over8 │\n",
       "│ ---      ┆ s         ┆ ore       ┆ persons   ┆   ┆ oportion  ┆ oportion  ┆ 5_proport ┆ 0_proport │\n",
       "│ str      ┆ ---       ┆ ---       ┆ ---       ┆   ┆ ---       ┆ ---       ┆ ion       ┆ ion       │\n",
       "│          ┆ f64       ┆ f64       ┆ i64       ┆   ┆ f64       ┆ f64       ┆ ---       ┆ ---       │\n",
       "│          ┆           ┆           ┆           ┆   ┆           ┆           ┆ f64       ┆ f64       │\n",
       "╞══════════╪═══════════╪═══════════╪═══════════╪═══╪═══════════╪═══════════╪═══════════╪═══════════╡\n",
       "│ Adur 001 ┆ 14.333333 ┆ 16.924833 ┆ 8815      ┆ … ┆ 0.0528    ┆ 0.0422    ┆ 0.7872    ┆ 0.062     │\n",
       "│ Adur 002 ┆ 7.333333  ┆ 6.4704    ┆ 7263      ┆ … ┆ 0.0774    ┆ 0.0492    ┆ 0.7467    ┆ 0.0692    │\n",
       "│ Adur 003 ┆ 9.333333  ┆ 13.7334   ┆ 7354      ┆ … ┆ 0.0582    ┆ 0.0421    ┆ 0.7729    ┆ 0.0661    │\n",
       "│ Adur 004 ┆ 21.0      ┆ 26.199857 ┆ 10582     ┆ … ┆ 0.0438    ┆ 0.0367    ┆ 0.8091    ┆ 0.0638    │\n",
       "│ Adur 005 ┆ 13.666667 ┆ 11.7948   ┆ 9059      ┆ … ┆ 0.067     ┆ 0.0425    ┆ 0.7643    ┆ 0.0662    │\n",
       "└──────────┴───────────┴───────────┴───────────┴───┴───────────┴───────────┴───────────┴───────────┘"
      ]
     },
     "execution_count": 66,
     "metadata": {},
     "output_type": "execute_result"
    }
   ],
   "source": [
    "df_stats.head()"
   ]
  },
  {
   "cell_type": "markdown",
   "id": "d9dfe356-8eba-42e4-96e9-04e794f78cca",
   "metadata": {},
   "source": [
    "Check sum of admissions for Welsh areas:"
   ]
  },
  {
   "cell_type": "code",
   "execution_count": 67,
   "id": "dfe7946f-c424-4840-84c7-086a65b8684e",
   "metadata": {},
   "outputs": [
    {
     "data": {
      "text/plain": [
       "0.0"
      ]
     },
     "execution_count": 67,
     "metadata": {},
     "output_type": "execute_result"
    }
   ],
   "source": [
    "df_stats.filter(df_stats['country'] == 'W')['admissions'].sum()"
   ]
  },
  {
   "cell_type": "markdown",
   "id": "fcef789d-ec9a-45c4-a756-02ad0887d674",
   "metadata": {},
   "source": [
    "Welsh data is always zero so remove it."
   ]
  },
  {
   "cell_type": "code",
   "execution_count": 68,
   "id": "e2e43ac6-682b-45c1-ba85-650d5532d56b",
   "metadata": {},
   "outputs": [],
   "source": [
    "df_stats = df_stats.filter(df_stats['country'] != 'W')"
   ]
  },
  {
   "cell_type": "markdown",
   "id": "01c0004a-2003-4417-8be0-b2931ab6da91",
   "metadata": {},
   "source": [
    "Recalculate total numbers of patients:"
   ]
  },
  {
   "cell_type": "code",
   "execution_count": 69,
   "id": "8ee56d60-496a-4296-a4aa-87d5b63d9120",
   "metadata": {},
   "outputs": [],
   "source": [
    "df_stats = df_stats.with_columns((pl.col('good_health') + pl.col('fair health') + pl.col('bad health')).alias('total_health'))"
   ]
  },
  {
   "cell_type": "code",
   "execution_count": 70,
   "id": "93c2bf3a-fcbd-4f67-a9f6-9f1a990ad253",
   "metadata": {},
   "outputs": [
    {
     "data": {
      "text/html": [
       "<div><style>\n",
       ".dataframe > thead > tr,\n",
       ".dataframe > tbody > tr {\n",
       "  text-align: right;\n",
       "  white-space: pre-wrap;\n",
       "}\n",
       "</style>\n",
       "<small>shape: (5, 18)</small><table border=\"1\" class=\"dataframe\"><thead><tr><th>MSOA</th><th>admissions</th><th>IMD2019Score</th><th>All persons</th><th>country</th><th>good_health</th><th>fair health</th><th>bad health</th><th>prop_good_health</th><th>prop_fair health</th><th>prop_bad health</th><th>MSOA11CD</th><th>age_65_proportion</th><th>age_70_proportion</th><th>age_75_proportion</th><th>age_less65_proportion</th><th>age_over80_proportion</th><th>total_health</th></tr><tr><td>str</td><td>f64</td><td>f64</td><td>i64</td><td>str</td><td>i64</td><td>i64</td><td>i64</td><td>f64</td><td>f64</td><td>f64</td><td>str</td><td>f64</td><td>f64</td><td>f64</td><td>f64</td><td>f64</td><td>i64</td></tr></thead><tbody><tr><td>&quot;Adur 001&quot;</td><td>14.333333</td><td>16.924833</td><td>8815</td><td>&quot;E&quot;</td><td>6799</td><td>1251</td><td>474</td><td>0.79763</td><td>0.146762</td><td>0.055608</td><td>&quot;E02006534&quot;</td><td>0.0559</td><td>0.0528</td><td>0.0422</td><td>0.7872</td><td>0.062</td><td>8524</td></tr><tr><td>&quot;Adur 002&quot;</td><td>7.333333</td><td>6.4704</td><td>7263</td><td>&quot;E&quot;</td><td>5537</td><td>838</td><td>259</td><td>0.83464</td><td>0.126319</td><td>0.039041</td><td>&quot;E02006535&quot;</td><td>0.0578</td><td>0.0774</td><td>0.0492</td><td>0.7467</td><td>0.0692</td><td>6634</td></tr><tr><td>&quot;Adur 003&quot;</td><td>9.333333</td><td>13.7334</td><td>7354</td><td>&quot;E&quot;</td><td>5820</td><td>969</td><td>311</td><td>0.819718</td><td>0.136479</td><td>0.043803</td><td>&quot;E02006536&quot;</td><td>0.0609</td><td>0.0582</td><td>0.0421</td><td>0.7729</td><td>0.0661</td><td>7100</td></tr><tr><td>&quot;Adur 004&quot;</td><td>21.0</td><td>26.199857</td><td>10582</td><td>&quot;E&quot;</td><td>7872</td><td>1546</td><td>709</td><td>0.777328</td><td>0.152661</td><td>0.070011</td><td>&quot;E02006537&quot;</td><td>0.0465</td><td>0.0438</td><td>0.0367</td><td>0.8091</td><td>0.0638</td><td>10127</td></tr><tr><td>&quot;Adur 005&quot;</td><td>13.666667</td><td>11.7948</td><td>9059</td><td>&quot;E&quot;</td><td>7106</td><td>1081</td><td>339</td><td>0.833451</td><td>0.126789</td><td>0.039761</td><td>&quot;E02006538&quot;</td><td>0.0597</td><td>0.067</td><td>0.0425</td><td>0.7643</td><td>0.0662</td><td>8526</td></tr></tbody></table></div>"
      ],
      "text/plain": [
       "shape: (5, 18)\n",
       "┌──────────┬───────────┬───────────┬───────────┬───┬───────────┬───────────┬───────────┬───────────┐\n",
       "│ MSOA     ┆ admission ┆ IMD2019Sc ┆ All       ┆ … ┆ age_75_pr ┆ age_less6 ┆ age_over8 ┆ total_hea │\n",
       "│ ---      ┆ s         ┆ ore       ┆ persons   ┆   ┆ oportion  ┆ 5_proport ┆ 0_proport ┆ lth       │\n",
       "│ str      ┆ ---       ┆ ---       ┆ ---       ┆   ┆ ---       ┆ ion       ┆ ion       ┆ ---       │\n",
       "│          ┆ f64       ┆ f64       ┆ i64       ┆   ┆ f64       ┆ ---       ┆ ---       ┆ i64       │\n",
       "│          ┆           ┆           ┆           ┆   ┆           ┆ f64       ┆ f64       ┆           │\n",
       "╞══════════╪═══════════╪═══════════╪═══════════╪═══╪═══════════╪═══════════╪═══════════╪═══════════╡\n",
       "│ Adur 001 ┆ 14.333333 ┆ 16.924833 ┆ 8815      ┆ … ┆ 0.0422    ┆ 0.7872    ┆ 0.062     ┆ 8524      │\n",
       "│ Adur 002 ┆ 7.333333  ┆ 6.4704    ┆ 7263      ┆ … ┆ 0.0492    ┆ 0.7467    ┆ 0.0692    ┆ 6634      │\n",
       "│ Adur 003 ┆ 9.333333  ┆ 13.7334   ┆ 7354      ┆ … ┆ 0.0421    ┆ 0.7729    ┆ 0.0661    ┆ 7100      │\n",
       "│ Adur 004 ┆ 21.0      ┆ 26.199857 ┆ 10582     ┆ … ┆ 0.0367    ┆ 0.8091    ┆ 0.0638    ┆ 10127     │\n",
       "│ Adur 005 ┆ 13.666667 ┆ 11.7948   ┆ 9059      ┆ … ┆ 0.0425    ┆ 0.7643    ┆ 0.0662    ┆ 8526      │\n",
       "└──────────┴───────────┴───────────┴───────────┴───┴───────────┴───────────┴───────────┴───────────┘"
      ]
     },
     "execution_count": 70,
     "metadata": {},
     "output_type": "execute_result"
    }
   ],
   "source": [
    "df_stats.head()"
   ]
  },
  {
   "cell_type": "code",
   "execution_count": 71,
   "id": "76d4e8c0-e841-4fc0-a970-9b5911a41a6a",
   "metadata": {},
   "outputs": [],
   "source": [
    "dict_quantiles = {}\n",
    "\n",
    "for q in np.arange(0.0, 1.01, 0.1):\n",
    "    v = df_stats['IMD2019Score'].quantile(q)\n",
    "    dict_quantiles[round(q, 1)] = round(v, 5)"
   ]
  },
  {
   "cell_type": "code",
   "execution_count": 72,
   "id": "e565832f-115c-4b79-b7d1-a8fff3a14b0b",
   "metadata": {},
   "outputs": [
    {
     "data": {
      "text/plain": [
       "{0.0: 2.2122,\n",
       " 0.1: 7.708,\n",
       " 0.2: 10.369,\n",
       " 0.3: 12.74375,\n",
       " 0.4: 15.2564,\n",
       " 0.5: 18.32929,\n",
       " 0.6: 21.81475,\n",
       " 0.7: 26.36117,\n",
       " 0.8: 31.84075,\n",
       " 0.9: 40.6996,\n",
       " 1.0: 87.02675}"
      ]
     },
     "execution_count": 72,
     "metadata": {},
     "output_type": "execute_result"
    }
   ],
   "source": [
    "dict_quantiles"
   ]
  },
  {
   "cell_type": "markdown",
   "id": "16fa52c1-d805-4847-a8c8-4023e0cd9a70",
   "metadata": {},
   "source": [
    "Pick out just the values for the left edges of the bins:"
   ]
  },
  {
   "cell_type": "code",
   "execution_count": 73,
   "id": "eb69ad8e-c9a9-4f47-b274-a10ce2ad6940",
   "metadata": {},
   "outputs": [],
   "source": [
    "imd_bin_left_edges = {}\n",
    "for k in list(dict_quantiles.keys())[:-1]:\n",
    "    imd_bin_left_edges[k] = dict_quantiles[k]"
   ]
  },
  {
   "cell_type": "code",
   "execution_count": 74,
   "id": "d1bda88f-e460-4200-a85b-91ccb767fddd",
   "metadata": {},
   "outputs": [
    {
     "data": {
      "text/plain": [
       "{0.0: 2.2122,\n",
       " 0.1: 7.708,\n",
       " 0.2: 10.369,\n",
       " 0.3: 12.74375,\n",
       " 0.4: 15.2564,\n",
       " 0.5: 18.32929,\n",
       " 0.6: 21.81475,\n",
       " 0.7: 26.36117,\n",
       " 0.8: 31.84075,\n",
       " 0.9: 40.6996}"
      ]
     },
     "execution_count": 74,
     "metadata": {},
     "output_type": "execute_result"
    }
   ],
   "source": [
    "imd_bin_left_edges"
   ]
  },
  {
   "cell_type": "markdown",
   "id": "28c73a3d-02a0-4e27-88cb-1f9d30a91ee9",
   "metadata": {},
   "source": [
    "Place MSOA into these bins:"
   ]
  },
  {
   "cell_type": "code",
   "execution_count": 75,
   "id": "eceac0b5-21eb-466d-8d68-1c48b62bfc1b",
   "metadata": {},
   "outputs": [],
   "source": [
    "# Make columns for the results with a placeholder value:\n",
    "df_stats = df_stats.with_columns(pl.lit(0).alias('imd_bin_min'))\n",
    "df_stats = df_stats.with_columns(pl.lit(0).alias('imd_bin_max'))\n",
    "\n",
    "for q, quantile in enumerate(list(dict_quantiles.keys())[:-1]):\n",
    "    # Pick out the bin edges:\n",
    "    q0 = dict_quantiles[quantile]\n",
    "    q1 = dict_quantiles[list(dict_quantiles.keys())[q+1]]\n",
    "    # Find a mask for the demographic data that contains\n",
    "    # only MSOA with IMD scores in this bin.\n",
    "    mask = (df_stats['IMD2019Score'] >= q0) & (df_stats['IMD2019Score'] < q1)\n",
    "    if q == len(dict_quantiles) - 2:\n",
    "        # Also allow values at the right edge of the final bin.\n",
    "        mask = mask | (df_stats['IMD2019Score'] == q1)\n",
    "\n",
    "    # Update the bin min/max values for these rows:\n",
    "    df_stats = df_stats.with_columns(\n",
    "        pl.when((mask))\n",
    "        .then(q0)         # replace with bin min\n",
    "        .otherwise(pl.col('imd_bin_min'))  # otherwise keep the existing value\n",
    "        .name.keep()\n",
    "    )\n",
    "    df_stats = df_stats.with_columns(\n",
    "        pl.when((mask))\n",
    "        .then(q1)         # replace with bin min\n",
    "        .otherwise(pl.col('imd_bin_max'))  # otherwise keep the existing value\n",
    "        .name.keep()\n",
    "    )"
   ]
  },
  {
   "cell_type": "markdown",
   "id": "6c380649-5c63-497f-9935-c00abb3f1bd6",
   "metadata": {},
   "source": [
    "Check that data was binned correctly:"
   ]
  },
  {
   "cell_type": "code",
   "execution_count": 76,
   "id": "34b4beee-b1f1-45f9-8e31-c0a8b0218938",
   "metadata": {},
   "outputs": [
    {
     "data": {
      "text/html": [
       "<div><style>\n",
       ".dataframe > thead > tr,\n",
       ".dataframe > tbody > tr {\n",
       "  text-align: right;\n",
       "  white-space: pre-wrap;\n",
       "}\n",
       "</style>\n",
       "<small>shape: (6_790, 3)</small><table border=\"1\" class=\"dataframe\"><thead><tr><th>IMD2019Score</th><th>imd_bin_min</th><th>imd_bin_max</th></tr><tr><td>f64</td><td>f64</td><td>f64</td></tr></thead><tbody><tr><td>16.924833</td><td>15.2564</td><td>18.32929</td></tr><tr><td>6.4704</td><td>2.2122</td><td>7.708</td></tr><tr><td>13.7334</td><td>12.74375</td><td>15.2564</td></tr><tr><td>26.199857</td><td>21.81475</td><td>26.36117</td></tr><tr><td>11.7948</td><td>10.369</td><td>12.74375</td></tr><tr><td>&hellip;</td><td>&hellip;</td><td>&hellip;</td></tr><tr><td>3.25925</td><td>2.2122</td><td>7.708</td></tr><tr><td>7.29475</td><td>2.2122</td><td>7.708</td></tr><tr><td>12.117</td><td>10.369</td><td>12.74375</td></tr><tr><td>6.327667</td><td>2.2122</td><td>7.708</td></tr><tr><td>4.463833</td><td>2.2122</td><td>7.708</td></tr></tbody></table></div>"
      ],
      "text/plain": [
       "shape: (6_790, 3)\n",
       "┌──────────────┬─────────────┬─────────────┐\n",
       "│ IMD2019Score ┆ imd_bin_min ┆ imd_bin_max │\n",
       "│ ---          ┆ ---         ┆ ---         │\n",
       "│ f64          ┆ f64         ┆ f64         │\n",
       "╞══════════════╪═════════════╪═════════════╡\n",
       "│ 16.924833    ┆ 15.2564     ┆ 18.32929    │\n",
       "│ 6.4704       ┆ 2.2122      ┆ 7.708       │\n",
       "│ 13.7334      ┆ 12.74375    ┆ 15.2564     │\n",
       "│ 26.199857    ┆ 21.81475    ┆ 26.36117    │\n",
       "│ 11.7948      ┆ 10.369      ┆ 12.74375    │\n",
       "│ …            ┆ …           ┆ …           │\n",
       "│ 3.25925      ┆ 2.2122      ┆ 7.708       │\n",
       "│ 7.29475      ┆ 2.2122      ┆ 7.708       │\n",
       "│ 12.117       ┆ 10.369      ┆ 12.74375    │\n",
       "│ 6.327667     ┆ 2.2122      ┆ 7.708       │\n",
       "│ 4.463833     ┆ 2.2122      ┆ 7.708       │\n",
       "└──────────────┴─────────────┴─────────────┘"
      ]
     },
     "execution_count": 76,
     "metadata": {},
     "output_type": "execute_result"
    }
   ],
   "source": [
    "df_stats[['IMD2019Score', 'imd_bin_min', 'imd_bin_max']]"
   ]
  },
  {
   "cell_type": "markdown",
   "id": "1ac8a7bd-cb6e-48b0-a84b-699966d835dd",
   "metadata": {},
   "source": [
    "Remove any data that we'll be recalculating:"
   ]
  },
  {
   "cell_type": "code",
   "execution_count": 77,
   "id": "f903ac2f-b314-4de9-a785-276525f35c0a",
   "metadata": {},
   "outputs": [],
   "source": [
    "cols_to_drop = ['admissions', 'All persons', 'country', 'good_health', 'fair health', 'bad health', 'prop_good_health', 'prop_fair health', 'prop_bad health', 'MSOA11CD']\n",
    "\n",
    "df_stats = df_stats.drop(cols_to_drop)"
   ]
  },
  {
   "cell_type": "code",
   "execution_count": 78,
   "id": "49a5b63c-56cf-498a-bf53-d57824a73b12",
   "metadata": {},
   "outputs": [
    {
     "data": {
      "text/html": [
       "<div><style>\n",
       ".dataframe > thead > tr,\n",
       ".dataframe > tbody > tr {\n",
       "  text-align: right;\n",
       "  white-space: pre-wrap;\n",
       "}\n",
       "</style>\n",
       "<small>shape: (5, 10)</small><table border=\"1\" class=\"dataframe\"><thead><tr><th>MSOA</th><th>IMD2019Score</th><th>age_65_proportion</th><th>age_70_proportion</th><th>age_75_proportion</th><th>age_less65_proportion</th><th>age_over80_proportion</th><th>total_health</th><th>imd_bin_min</th><th>imd_bin_max</th></tr><tr><td>str</td><td>f64</td><td>f64</td><td>f64</td><td>f64</td><td>f64</td><td>f64</td><td>i64</td><td>f64</td><td>f64</td></tr></thead><tbody><tr><td>&quot;Adur 001&quot;</td><td>16.924833</td><td>0.0559</td><td>0.0528</td><td>0.0422</td><td>0.7872</td><td>0.062</td><td>8524</td><td>15.2564</td><td>18.32929</td></tr><tr><td>&quot;Adur 002&quot;</td><td>6.4704</td><td>0.0578</td><td>0.0774</td><td>0.0492</td><td>0.7467</td><td>0.0692</td><td>6634</td><td>2.2122</td><td>7.708</td></tr><tr><td>&quot;Adur 003&quot;</td><td>13.7334</td><td>0.0609</td><td>0.0582</td><td>0.0421</td><td>0.7729</td><td>0.0661</td><td>7100</td><td>12.74375</td><td>15.2564</td></tr><tr><td>&quot;Adur 004&quot;</td><td>26.199857</td><td>0.0465</td><td>0.0438</td><td>0.0367</td><td>0.8091</td><td>0.0638</td><td>10127</td><td>21.81475</td><td>26.36117</td></tr><tr><td>&quot;Adur 005&quot;</td><td>11.7948</td><td>0.0597</td><td>0.067</td><td>0.0425</td><td>0.7643</td><td>0.0662</td><td>8526</td><td>10.369</td><td>12.74375</td></tr></tbody></table></div>"
      ],
      "text/plain": [
       "shape: (5, 10)\n",
       "┌──────────┬───────────┬───────────┬───────────┬───┬───────────┬───────────┬───────────┬───────────┐\n",
       "│ MSOA     ┆ IMD2019Sc ┆ age_65_pr ┆ age_70_pr ┆ … ┆ age_over8 ┆ total_hea ┆ imd_bin_m ┆ imd_bin_m │\n",
       "│ ---      ┆ ore       ┆ oportion  ┆ oportion  ┆   ┆ 0_proport ┆ lth       ┆ in        ┆ ax        │\n",
       "│ str      ┆ ---       ┆ ---       ┆ ---       ┆   ┆ ion       ┆ ---       ┆ ---       ┆ ---       │\n",
       "│          ┆ f64       ┆ f64       ┆ f64       ┆   ┆ ---       ┆ i64       ┆ f64       ┆ f64       │\n",
       "│          ┆           ┆           ┆           ┆   ┆ f64       ┆           ┆           ┆           │\n",
       "╞══════════╪═══════════╪═══════════╪═══════════╪═══╪═══════════╪═══════════╪═══════════╪═══════════╡\n",
       "│ Adur 001 ┆ 16.924833 ┆ 0.0559    ┆ 0.0528    ┆ … ┆ 0.062     ┆ 8524      ┆ 15.2564   ┆ 18.32929  │\n",
       "│ Adur 002 ┆ 6.4704    ┆ 0.0578    ┆ 0.0774    ┆ … ┆ 0.0692    ┆ 6634      ┆ 2.2122    ┆ 7.708     │\n",
       "│ Adur 003 ┆ 13.7334   ┆ 0.0609    ┆ 0.0582    ┆ … ┆ 0.0661    ┆ 7100      ┆ 12.74375  ┆ 15.2564   │\n",
       "│ Adur 004 ┆ 26.199857 ┆ 0.0465    ┆ 0.0438    ┆ … ┆ 0.0638    ┆ 10127     ┆ 21.81475  ┆ 26.36117  │\n",
       "│ Adur 005 ┆ 11.7948   ┆ 0.0597    ┆ 0.067     ┆ … ┆ 0.0662    ┆ 8526      ┆ 10.369    ┆ 12.74375  │\n",
       "└──────────┴───────────┴───────────┴───────────┴───┴───────────┴───────────┴───────────┴───────────┘"
      ]
     },
     "execution_count": 78,
     "metadata": {},
     "output_type": "execute_result"
    }
   ],
   "source": [
    "df_stats.head()"
   ]
  },
  {
   "cell_type": "markdown",
   "id": "fb87f047-bfea-475e-aa19-c5e9f0fba839",
   "metadata": {},
   "source": [
    "## Invent new age proportions"
   ]
  },
  {
   "cell_type": "code",
   "execution_count": 83,
   "id": "f30207de-6dc9-4c66-8689-6e3a93df4971",
   "metadata": {},
   "outputs": [],
   "source": [
    "df_stats = df_stats.with_columns(pl.Series(name='new_age_65_proportion', values=0.1 * df_stats['age_less65_proportion']))\n",
    "df_stats = df_stats.with_columns(pl.Series(name='new_age_70_proportion', values=df_stats['age_65_proportion']*0.8))\n",
    "df_stats = df_stats.with_columns(pl.Series(name='new_age_75_proportion', values=df_stats['age_70_proportion']*0.8))\n",
    "df_stats = df_stats.with_columns(pl.Series(name='new_age_over80_proportion', values=df_stats['age_75_proportion']*0.8 + 0.3 * df_stats['age_over80_proportion']))\n",
    "df_stats = df_stats.with_columns(pl.Series(name='new_age_less65_proportion', values=1.0 - df_stats[['new_age_65_proportion', 'new_age_70_proportion', 'new_age_75_proportion', 'new_age_over80_proportion']].sum_horizontal()))"
   ]
  },
  {
   "cell_type": "markdown",
   "id": "5ab00f0a-08f7-4a77-ae9b-5c99b03872ed",
   "metadata": {},
   "source": [
    "Pick out column names for the health and age proportions:"
   ]
  },
  {
   "cell_type": "code",
   "execution_count": 87,
   "id": "1156eac0-f6d7-44a3-b116-5b11c33f47ec",
   "metadata": {},
   "outputs": [],
   "source": [
    "health_numbers = ['good_health', 'fair health', 'bad health']\n",
    "props_health = ['prop_good_health', 'prop_fair health', 'prop_bad health']\n",
    "props_age = [\n",
    "    'age_less65_proportion', 'age_65_proportion', 'age_70_proportion',\n",
    "    'age_75_proportion', 'age_over80_proportion'\n",
    "]"
   ]
  },
  {
   "cell_type": "code",
   "execution_count": 91,
   "id": "a5d4c1c8-811c-4501-8ff1-7967624558b7",
   "metadata": {},
   "outputs": [],
   "source": [
    "df_stats = df_stats.rename(dict([(c, f'old_{c}') for c in props_age]))\n",
    "df_stats = df_stats.rename(dict([(f'new_{c}', c) for c in props_age]))"
   ]
  },
  {
   "cell_type": "code",
   "execution_count": 93,
   "id": "a3bd8fcf-b1c1-45db-9f12-306738a9acfd",
   "metadata": {},
   "outputs": [],
   "source": [
    "df_stats = df_stats.drop([c for c in df_stats.columns if c.startswith('old')])"
   ]
  },
  {
   "cell_type": "code",
   "execution_count": 94,
   "id": "8b5ac081-fc7c-429b-b98e-be1742a8777d",
   "metadata": {},
   "outputs": [
    {
     "data": {
      "text/html": [
       "<div><style>\n",
       ".dataframe > thead > tr,\n",
       ".dataframe > tbody > tr {\n",
       "  text-align: right;\n",
       "  white-space: pre-wrap;\n",
       "}\n",
       "</style>\n",
       "<small>shape: (6_790, 10)</small><table border=\"1\" class=\"dataframe\"><thead><tr><th>MSOA</th><th>IMD2019Score</th><th>total_health</th><th>imd_bin_min</th><th>imd_bin_max</th><th>age_65_proportion</th><th>age_70_proportion</th><th>age_75_proportion</th><th>age_over80_proportion</th><th>age_less65_proportion</th></tr><tr><td>str</td><td>f64</td><td>i64</td><td>f64</td><td>f64</td><td>f64</td><td>f64</td><td>f64</td><td>f64</td><td>f64</td></tr></thead><tbody><tr><td>&quot;Adur 001&quot;</td><td>16.924833</td><td>8524</td><td>15.2564</td><td>18.32929</td><td>0.07872</td><td>0.04472</td><td>0.04224</td><td>0.05236</td><td>0.78196</td></tr><tr><td>&quot;Adur 002&quot;</td><td>6.4704</td><td>6634</td><td>2.2122</td><td>7.708</td><td>0.07467</td><td>0.04624</td><td>0.06192</td><td>0.06012</td><td>0.75705</td></tr><tr><td>&quot;Adur 003&quot;</td><td>13.7334</td><td>7100</td><td>12.74375</td><td>15.2564</td><td>0.07729</td><td>0.04872</td><td>0.04656</td><td>0.05351</td><td>0.77392</td></tr><tr><td>&quot;Adur 004&quot;</td><td>26.199857</td><td>10127</td><td>21.81475</td><td>26.36117</td><td>0.08091</td><td>0.0372</td><td>0.03504</td><td>0.0485</td><td>0.79835</td></tr><tr><td>&quot;Adur 005&quot;</td><td>11.7948</td><td>8526</td><td>10.369</td><td>12.74375</td><td>0.07643</td><td>0.04776</td><td>0.0536</td><td>0.05386</td><td>0.76835</td></tr><tr><td>&hellip;</td><td>&hellip;</td><td>&hellip;</td><td>&hellip;</td><td>&hellip;</td><td>&hellip;</td><td>&hellip;</td><td>&hellip;</td><td>&hellip;</td><td>&hellip;</td></tr><tr><td>&quot;York 020&quot;</td><td>3.25925</td><td>6540</td><td>2.2122</td><td>7.708</td><td>0.07301</td><td>0.0476</td><td>0.05944</td><td>0.06858</td><td>0.75137</td></tr><tr><td>&quot;York 021&quot;</td><td>7.29475</td><td>7039</td><td>2.2122</td><td>7.708</td><td>0.08052</td><td>0.04072</td><td>0.03648</td><td>0.04834</td><td>0.79394</td></tr><tr><td>&quot;York 022&quot;</td><td>12.117</td><td>9165</td><td>10.369</td><td>12.74375</td><td>0.07629</td><td>0.04752</td><td>0.054</td><td>0.05603</td><td>0.76616</td></tr><tr><td>&quot;York 023&quot;</td><td>6.327667</td><td>8817</td><td>2.2122</td><td>7.708</td><td>0.08634</td><td>0.02544</td><td>0.02864</td><td>0.03445</td><td>0.82513</td></tr><tr><td>&quot;York 024&quot;</td><td>4.463833</td><td>8079</td><td>2.2122</td><td>7.708</td><td>0.07091</td><td>0.05944</td><td>0.06936</td><td>0.06841</td><td>0.73188</td></tr></tbody></table></div>"
      ],
      "text/plain": [
       "shape: (6_790, 10)\n",
       "┌──────────┬───────────┬───────────┬───────────┬───┬───────────┬───────────┬───────────┬───────────┐\n",
       "│ MSOA     ┆ IMD2019Sc ┆ total_hea ┆ imd_bin_m ┆ … ┆ age_70_pr ┆ age_75_pr ┆ age_over8 ┆ age_less6 │\n",
       "│ ---      ┆ ore       ┆ lth       ┆ in        ┆   ┆ oportion  ┆ oportion  ┆ 0_proport ┆ 5_proport │\n",
       "│ str      ┆ ---       ┆ ---       ┆ ---       ┆   ┆ ---       ┆ ---       ┆ ion       ┆ ion       │\n",
       "│          ┆ f64       ┆ i64       ┆ f64       ┆   ┆ f64       ┆ f64       ┆ ---       ┆ ---       │\n",
       "│          ┆           ┆           ┆           ┆   ┆           ┆           ┆ f64       ┆ f64       │\n",
       "╞══════════╪═══════════╪═══════════╪═══════════╪═══╪═══════════╪═══════════╪═══════════╪═══════════╡\n",
       "│ Adur 001 ┆ 16.924833 ┆ 8524      ┆ 15.2564   ┆ … ┆ 0.04472   ┆ 0.04224   ┆ 0.05236   ┆ 0.78196   │\n",
       "│ Adur 002 ┆ 6.4704    ┆ 6634      ┆ 2.2122    ┆ … ┆ 0.04624   ┆ 0.06192   ┆ 0.06012   ┆ 0.75705   │\n",
       "│ Adur 003 ┆ 13.7334   ┆ 7100      ┆ 12.74375  ┆ … ┆ 0.04872   ┆ 0.04656   ┆ 0.05351   ┆ 0.77392   │\n",
       "│ Adur 004 ┆ 26.199857 ┆ 10127     ┆ 21.81475  ┆ … ┆ 0.0372    ┆ 0.03504   ┆ 0.0485    ┆ 0.79835   │\n",
       "│ Adur 005 ┆ 11.7948   ┆ 8526      ┆ 10.369    ┆ … ┆ 0.04776   ┆ 0.0536    ┆ 0.05386   ┆ 0.76835   │\n",
       "│ …        ┆ …         ┆ …         ┆ …         ┆ … ┆ …         ┆ …         ┆ …         ┆ …         │\n",
       "│ York 020 ┆ 3.25925   ┆ 6540      ┆ 2.2122    ┆ … ┆ 0.0476    ┆ 0.05944   ┆ 0.06858   ┆ 0.75137   │\n",
       "│ York 021 ┆ 7.29475   ┆ 7039      ┆ 2.2122    ┆ … ┆ 0.04072   ┆ 0.03648   ┆ 0.04834   ┆ 0.79394   │\n",
       "│ York 022 ┆ 12.117    ┆ 9165      ┆ 10.369    ┆ … ┆ 0.04752   ┆ 0.054     ┆ 0.05603   ┆ 0.76616   │\n",
       "│ York 023 ┆ 6.327667  ┆ 8817      ┆ 2.2122    ┆ … ┆ 0.02544   ┆ 0.02864   ┆ 0.03445   ┆ 0.82513   │\n",
       "│ York 024 ┆ 4.463833  ┆ 8079      ┆ 2.2122    ┆ … ┆ 0.05944   ┆ 0.06936   ┆ 0.06841   ┆ 0.73188   │\n",
       "└──────────┴───────────┴───────────┴───────────┴───┴───────────┴───────────┴───────────┴───────────┘"
      ]
     },
     "execution_count": 94,
     "metadata": {},
     "output_type": "execute_result"
    }
   ],
   "source": [
    "df_stats"
   ]
  },
  {
   "cell_type": "code",
   "execution_count": null,
   "id": "bbbadbc5-83d3-4eaf-a675-c4369b38a746",
   "metadata": {},
   "outputs": [],
   "source": []
  },
  {
   "cell_type": "markdown",
   "id": "39477629-40f5-419f-9c1a-f80f302cf117",
   "metadata": {},
   "source": [
    "### Check accuracy\n",
    "\n",
    "Use the real age proportions to calculate new health proportions."
   ]
  },
  {
   "cell_type": "code",
   "execution_count": 95,
   "id": "d1e63a48-7670-4432-b4fc-1a93748108b6",
   "metadata": {},
   "outputs": [],
   "source": [
    "# Make a copy of the MSOA data:\n",
    "cols_to_keep = ['MSOA', 'total_health', 'IMD2019Score'] + props_age\n",
    "df_p_health_props = df_stats[cols_to_keep]#.clone()\n",
    "# Make columns for the results with a placeholder value:\n",
    "for p in props_health:\n",
    "    new_col = f'{p}_pred'\n",
    "    df_p_health_props = df_p_health_props.with_columns(pl.lit(0).alias(new_col))\n",
    "\n",
    "for q, quantile in enumerate(list(dict_quantiles.keys())[:-1]):\n",
    "    # Pick out the bin edges:\n",
    "    q0 = dict_quantiles[quantile]\n",
    "    q1 = dict_quantiles[list(dict_quantiles.keys())[q+1]]\n",
    "    # Find a mask for the demographic data that contains\n",
    "    # only MSOA with IMD scores in this bin.\n",
    "    mask = (df_p_health_props['IMD2019Score'] >= q0) & (df_p_health_props['IMD2019Score'] < q1)\n",
    "    if q == len(dict_quantiles) - 2:\n",
    "        # Also allow values at the right edge of the final bin.\n",
    "        mask = mask | (df_p_health_props['IMD2019Score'] == q1)\n",
    "\n",
    "    # Pick out the line parameters for this IMD / age combo:\n",
    "    for health_col in props_health:\n",
    "        for age_band in props_age:\n",
    "            # Pick out line params:\n",
    "            mask_line = (\n",
    "                (df_health_lines['imd_bin_min'] == q0) &\n",
    "                (df_health_lines['col_age'] == age_band) &\n",
    "                (df_health_lines['col_health'] == health_col)\n",
    "            )\n",
    "            m = df_health_lines.filter(mask_line)['m'].to_numpy()[0]\n",
    "            c = df_health_lines.filter(mask_line)['c'].to_numpy()[0]\n",
    "\n",
    "            # mask_here = mask & ()\n",
    "            # Calculate new props:\n",
    "            df_p_health_props = df_p_health_props.with_columns(\n",
    "                pl.when((mask))\n",
    "                .then(m * df_p_health_props[age_band] + c)  # replace with calculated values\n",
    "                .otherwise(pl.col(f'{health_col}_pred'))  # otherwise keep the existing value\n",
    "                .name.keep()\n",
    "            )"
   ]
  },
  {
   "cell_type": "markdown",
   "id": "d3c145ab-13f9-49f9-9d0d-a4e1e3e794f6",
   "metadata": {},
   "source": [
    "View the results:"
   ]
  },
  {
   "cell_type": "code",
   "execution_count": 96,
   "id": "f0eb77d3-2460-4e24-843d-21981a786fb5",
   "metadata": {},
   "outputs": [
    {
     "data": {
      "text/html": [
       "<div><style>\n",
       ".dataframe > thead > tr,\n",
       ".dataframe > tbody > tr {\n",
       "  text-align: right;\n",
       "  white-space: pre-wrap;\n",
       "}\n",
       "</style>\n",
       "<small>shape: (6_790, 11)</small><table border=\"1\" class=\"dataframe\"><thead><tr><th>MSOA</th><th>total_health</th><th>IMD2019Score</th><th>age_less65_proportion</th><th>age_65_proportion</th><th>age_70_proportion</th><th>age_75_proportion</th><th>age_over80_proportion</th><th>prop_good_health_pred</th><th>prop_fair health_pred</th><th>prop_bad health_pred</th></tr><tr><td>str</td><td>i64</td><td>f64</td><td>f64</td><td>f64</td><td>f64</td><td>f64</td><td>f64</td><td>f64</td><td>f64</td><td>f64</td></tr></thead><tbody><tr><td>&quot;Adur 001&quot;</td><td>8524</td><td>16.924833</td><td>0.78196</td><td>0.07872</td><td>0.04472</td><td>0.04224</td><td>0.05236</td><td>0.823677</td><td>0.12738</td><td>0.048943</td></tr><tr><td>&quot;Adur 002&quot;</td><td>6634</td><td>6.4704</td><td>0.75705</td><td>0.07467</td><td>0.04624</td><td>0.06192</td><td>0.06012</td><td>0.866487</td><td>0.102019</td><td>0.031494</td></tr><tr><td>&quot;Adur 003&quot;</td><td>7100</td><td>13.7334</td><td>0.77392</td><td>0.07729</td><td>0.04872</td><td>0.04656</td><td>0.05351</td><td>0.83382</td><td>0.121896</td><td>0.044284</td></tr><tr><td>&quot;Adur 004&quot;</td><td>10127</td><td>26.199857</td><td>0.79835</td><td>0.08091</td><td>0.0372</td><td>0.03504</td><td>0.0485</td><td>0.801703</td><td>0.138642</td><td>0.059655</td></tr><tr><td>&quot;Adur 005&quot;</td><td>8526</td><td>11.7948</td><td>0.76835</td><td>0.07643</td><td>0.04776</td><td>0.0536</td><td>0.05386</td><td>0.843457</td><td>0.116066</td><td>0.040477</td></tr><tr><td>&hellip;</td><td>&hellip;</td><td>&hellip;</td><td>&hellip;</td><td>&hellip;</td><td>&hellip;</td><td>&hellip;</td><td>&hellip;</td><td>&hellip;</td><td>&hellip;</td><td>&hellip;</td></tr><tr><td>&quot;York 020&quot;</td><td>6540</td><td>3.25925</td><td>0.75137</td><td>0.07301</td><td>0.0476</td><td>0.05944</td><td>0.06858</td><td>0.859033</td><td>0.107545</td><td>0.033422</td></tr><tr><td>&quot;York 021&quot;</td><td>7039</td><td>7.29475</td><td>0.79394</td><td>0.08052</td><td>0.04072</td><td>0.03648</td><td>0.04834</td><td>0.876867</td><td>0.094325</td><td>0.028808</td></tr><tr><td>&quot;York 022&quot;</td><td>9165</td><td>12.117</td><td>0.76616</td><td>0.07629</td><td>0.04752</td><td>0.054</td><td>0.05603</td><td>0.841217</td><td>0.117728</td><td>0.041055</td></tr><tr><td>&quot;York 023&quot;</td><td>8817</td><td>6.327667</td><td>0.82513</td><td>0.08634</td><td>0.02544</td><td>0.02864</td><td>0.03445</td><td>0.889106</td><td>0.085253</td><td>0.025641</td></tr><tr><td>&quot;York 024&quot;</td><td>8079</td><td>4.463833</td><td>0.73188</td><td>0.07091</td><td>0.05944</td><td>0.06936</td><td>0.06841</td><td>0.859183</td><td>0.107434</td><td>0.033384</td></tr></tbody></table></div>"
      ],
      "text/plain": [
       "shape: (6_790, 11)\n",
       "┌──────────┬───────────┬───────────┬───────────┬───┬───────────┬───────────┬───────────┬───────────┐\n",
       "│ MSOA     ┆ total_hea ┆ IMD2019Sc ┆ age_less6 ┆ … ┆ age_over8 ┆ prop_good ┆ prop_fair ┆ prop_bad  │\n",
       "│ ---      ┆ lth       ┆ ore       ┆ 5_proport ┆   ┆ 0_proport ┆ _health_p ┆ health_pr ┆ health_pr │\n",
       "│ str      ┆ ---       ┆ ---       ┆ ion       ┆   ┆ ion       ┆ red       ┆ ed        ┆ ed        │\n",
       "│          ┆ i64       ┆ f64       ┆ ---       ┆   ┆ ---       ┆ ---       ┆ ---       ┆ ---       │\n",
       "│          ┆           ┆           ┆ f64       ┆   ┆ f64       ┆ f64       ┆ f64       ┆ f64       │\n",
       "╞══════════╪═══════════╪═══════════╪═══════════╪═══╪═══════════╪═══════════╪═══════════╪═══════════╡\n",
       "│ Adur 001 ┆ 8524      ┆ 16.924833 ┆ 0.78196   ┆ … ┆ 0.05236   ┆ 0.823677  ┆ 0.12738   ┆ 0.048943  │\n",
       "│ Adur 002 ┆ 6634      ┆ 6.4704    ┆ 0.75705   ┆ … ┆ 0.06012   ┆ 0.866487  ┆ 0.102019  ┆ 0.031494  │\n",
       "│ Adur 003 ┆ 7100      ┆ 13.7334   ┆ 0.77392   ┆ … ┆ 0.05351   ┆ 0.83382   ┆ 0.121896  ┆ 0.044284  │\n",
       "│ Adur 004 ┆ 10127     ┆ 26.199857 ┆ 0.79835   ┆ … ┆ 0.0485    ┆ 0.801703  ┆ 0.138642  ┆ 0.059655  │\n",
       "│ Adur 005 ┆ 8526      ┆ 11.7948   ┆ 0.76835   ┆ … ┆ 0.05386   ┆ 0.843457  ┆ 0.116066  ┆ 0.040477  │\n",
       "│ …        ┆ …         ┆ …         ┆ …         ┆ … ┆ …         ┆ …         ┆ …         ┆ …         │\n",
       "│ York 020 ┆ 6540      ┆ 3.25925   ┆ 0.75137   ┆ … ┆ 0.06858   ┆ 0.859033  ┆ 0.107545  ┆ 0.033422  │\n",
       "│ York 021 ┆ 7039      ┆ 7.29475   ┆ 0.79394   ┆ … ┆ 0.04834   ┆ 0.876867  ┆ 0.094325  ┆ 0.028808  │\n",
       "│ York 022 ┆ 9165      ┆ 12.117    ┆ 0.76616   ┆ … ┆ 0.05603   ┆ 0.841217  ┆ 0.117728  ┆ 0.041055  │\n",
       "│ York 023 ┆ 8817      ┆ 6.327667  ┆ 0.82513   ┆ … ┆ 0.03445   ┆ 0.889106  ┆ 0.085253  ┆ 0.025641  │\n",
       "│ York 024 ┆ 8079      ┆ 4.463833  ┆ 0.73188   ┆ … ┆ 0.06841   ┆ 0.859183  ┆ 0.107434  ┆ 0.033384  │\n",
       "└──────────┴───────────┴───────────┴───────────┴───┴───────────┴───────────┴───────────┴───────────┘"
      ]
     },
     "execution_count": 96,
     "metadata": {},
     "output_type": "execute_result"
    }
   ],
   "source": [
    "df_p_health_props"
   ]
  },
  {
   "cell_type": "markdown",
   "id": "199fab19-8a11-4624-99c1-398812ac9b54",
   "metadata": {},
   "source": [
    "## Predict admissions from age proportions\n",
    "\n",
    "Bring the two models together.\n",
    "\n",
    "Use the health proportions that have just been calculated and use the admissions prediction function from before.\n",
    "\n",
    "First convert proportions of each health type into numbers with each health type:"
   ]
  },
  {
   "cell_type": "code",
   "execution_count": 103,
   "id": "91362455-0153-4b41-87a0-38054eccd728",
   "metadata": {},
   "outputs": [],
   "source": [
    "def calculate_admissions_from_health(df_stats, df_admissions_lines, col_n_good, col_n_fair, col_n_bad):\n",
    "    # Make a copy of the MSOA data:\n",
    "    cols_to_keep = ['MSOA', 'IMD2019Score', ] + [col_n_good, col_n_fair, col_n_bad]\n",
    "    df_p_admissions = df_stats[cols_to_keep]\n",
    "    # Make column for the results with a placeholder value:\n",
    "    col_admissions_pred = 'admissions_predicted'\n",
    "    df_p_admissions = df_p_admissions.with_columns(pl.lit(0).alias(col_admissions_pred))\n",
    "    \n",
    "    for q, quantile in enumerate(list(dict_quantiles.keys())[:-1]):\n",
    "        # Pick out the bin edges:\n",
    "        q0 = dict_quantiles[quantile]\n",
    "        q1 = dict_quantiles[list(dict_quantiles.keys())[q+1]]\n",
    "        # Find a mask for the demographic data that contains\n",
    "        # only MSOA with IMD scores in this bin.\n",
    "        mask = (df_p_admissions['IMD2019Score'] >= q0) & (df_p_admissions['IMD2019Score'] < q1)\n",
    "        if q == len(dict_quantiles) - 2:\n",
    "            # Also allow values at the right edge of the final bin.\n",
    "            mask = mask | (df_p_admissions['IMD2019Score'] == q1)\n",
    "    \n",
    "        # Pick out the line parameters for this IMD:\n",
    "        mask_coeffs = ((df_admissions_lines['imd_bin_min'] == q0))\n",
    "        coeff_good = df_admissions_lines.filter(mask_coeffs)['coeff_good_health'].to_numpy()[0]\n",
    "        coeff_fair = df_admissions_lines.filter(mask_coeffs)['coeff_fair_health'].to_numpy()[0]\n",
    "        coeff_bad = df_admissions_lines.filter(mask_coeffs)['coeff_bad_health'].to_numpy()[0]\n",
    "\n",
    "        # Calculate new props:\n",
    "        df_p_admissions = df_p_admissions.with_columns(\n",
    "            pl.when((mask))\n",
    "            .then(\n",
    "                sum([\n",
    "                    coeff_good * df_p_admissions[col_n_good],\n",
    "                    coeff_fair * df_p_admissions[col_n_fair],\n",
    "                    coeff_bad * df_p_admissions[col_n_bad]\n",
    "                ]))  # replace with calculated values\n",
    "            .otherwise(pl.col(col_admissions_pred))  # otherwise keep the existing value\n",
    "            .name.keep()\n",
    "        )\n",
    "    return df_p_admissions[['MSOA', col_admissions_pred]]"
   ]
  },
  {
   "cell_type": "code",
   "execution_count": 97,
   "id": "2f050878-58ad-479e-8826-231a2a6f30a2",
   "metadata": {},
   "outputs": [],
   "source": [
    "df_p_health_props = df_p_health_props.with_columns((pl.col('prop_good_health_pred') * pl.col('total_health')).alias('n_good_health_pred'))\n",
    "df_p_health_props = df_p_health_props.with_columns((pl.col('prop_fair health_pred') * pl.col('total_health')).alias('n_fair health_pred'))\n",
    "df_p_health_props = df_p_health_props.with_columns((pl.col('prop_bad health_pred') * pl.col('total_health')).alias('n_bad health_pred'))"
   ]
  },
  {
   "cell_type": "code",
   "execution_count": 104,
   "id": "4dd6f1f0-570a-431e-92a5-7b1b42d150c0",
   "metadata": {},
   "outputs": [],
   "source": [
    "df_admissions_pred_from_pred = calculate_admissions_from_health(df_p_health_props, df_admissions_lines, 'n_good_health_pred', 'n_fair health_pred', 'n_bad health_pred')"
   ]
  },
  {
   "cell_type": "markdown",
   "id": "7fa60893-0af3-439b-bb62-66aa696ca547",
   "metadata": {},
   "source": [
    "Check results:"
   ]
  },
  {
   "cell_type": "code",
   "execution_count": 105,
   "id": "5df55686-897f-4a11-bb2a-39094db7d74e",
   "metadata": {},
   "outputs": [
    {
     "data": {
      "text/html": [
       "<div><style>\n",
       ".dataframe > thead > tr,\n",
       ".dataframe > tbody > tr {\n",
       "  text-align: right;\n",
       "  white-space: pre-wrap;\n",
       "}\n",
       "</style>\n",
       "<small>shape: (5, 2)</small><table border=\"1\" class=\"dataframe\"><thead><tr><th>MSOA</th><th>admissions_predicted</th></tr><tr><td>str</td><td>f64</td></tr></thead><tbody><tr><td>&quot;Adur 001&quot;</td><td>13.179152</td></tr><tr><td>&quot;Adur 002&quot;</td><td>9.482695</td></tr><tr><td>&quot;Adur 003&quot;</td><td>11.033867</td></tr><tr><td>&quot;Adur 004&quot;</td><td>15.867236</td></tr><tr><td>&quot;Adur 005&quot;</td><td>12.680001</td></tr></tbody></table></div>"
      ],
      "text/plain": [
       "shape: (5, 2)\n",
       "┌──────────┬──────────────────────┐\n",
       "│ MSOA     ┆ admissions_predicted │\n",
       "│ ---      ┆ ---                  │\n",
       "│ str      ┆ f64                  │\n",
       "╞══════════╪══════════════════════╡\n",
       "│ Adur 001 ┆ 13.179152            │\n",
       "│ Adur 002 ┆ 9.482695             │\n",
       "│ Adur 003 ┆ 11.033867            │\n",
       "│ Adur 004 ┆ 15.867236            │\n",
       "│ Adur 005 ┆ 12.680001            │\n",
       "└──────────┴──────────────────────┘"
      ]
     },
     "execution_count": 105,
     "metadata": {},
     "output_type": "execute_result"
    }
   ],
   "source": [
    "df_admissions_pred_from_pred.head()"
   ]
  },
  {
   "cell_type": "code",
   "execution_count": 106,
   "id": "60b669b3-4c8d-450a-ac39-3025c8e86dc3",
   "metadata": {},
   "outputs": [
    {
     "data": {
      "text/plain": [
       "(array([  53., 1041., 2167., 1920.,  972.,  426.,  145.,   50.,   12.,\n",
       "           4.]),\n",
       " array([ 5.37170793,  7.26518498,  9.15866202, 11.05213907, 12.94561612,\n",
       "        14.83909316, 16.73257021, 18.62604726, 20.5195243 , 22.41300135,\n",
       "        24.3064784 ]),\n",
       " <BarContainer object of 10 artists>)"
      ]
     },
     "execution_count": 106,
     "metadata": {},
     "output_type": "execute_result"
    },
    {
     "data": {
      "image/png": "[encoded data removed]",
      "text/plain": [
       "<Figure size 640x480 with 1 Axes>"
      ]
     },
     "metadata": {},
     "output_type": "display_data"
    }
   ],
   "source": [
    "plt.hist(df_admissions_pred_from_pred['admissions_predicted'])"
   ]
  }
 ],
 "metadata": {
  "kernelspec": {
   "display_name": "Python 3 (ipykernel)",
   "language": "python",
   "name": "python3"
  },
  "language_info": {
   "codemirror_mode": {
    "name": "ipython",
    "version": 3
   },
   "file_extension": ".py",
   "mimetype": "text/x-python",
   "name": "python",
   "nbconvert_exporter": "python",
   "pygments_lexer": "ipython3",
   "version": "3.10.16"
  }
 },
 "nbformat": 4,
 "nbformat_minor": 5
}
